{
  "cells": [
    {
      "cell_type": "markdown",
      "source": [
        "# **Load the dataset**"
      ],
      "metadata": {
        "id": "VXJs2_F3aD9P"
      }
    },
    {
      "cell_type": "markdown",
      "source": [
        "# **Downloading neccessary module**"
      ],
      "metadata": {
        "id": "UM48VP-3wlOL"
      }
    },
    {
      "cell_type": "code",
      "source": [
        "!pip3 install nltk\n",
        "!pip3 install gensim\n",
        "!pip3 install emoji\n",
        "!pip3 install transformers\n",
        "!pip install scikit-learn\n",
        "!pip install datasets"
      ],
      "metadata": {
        "id": "BPQN9qr6wyg-"
      },
      "execution_count": null,
      "outputs": []
    },
    {
      "cell_type": "code",
      "source": [
        "# downloading nltk package\n",
        "import nltk\n",
        "nltk.download('wordnet')\n",
        "nltk.download('omw-1.4')\n"
      ],
      "metadata": {
        "id": "Wj15_ADXw-Mm"
      },
      "execution_count": null,
      "outputs": []
    },
    {
      "cell_type": "code",
      "execution_count": 1,
      "metadata": {
        "colab": {
          "base_uri": "https://localhost:8080/",
          "height": 424
        },
        "id": "u8djiiYV4Gkq",
        "outputId": "f5b04028-5465-4dd1-99f2-a4ff9e1de2d2"
      },
      "outputs": [
        {
          "output_type": "execute_result",
          "data": {
            "text/plain": [
              "      Unnamed: 0                                             review  polarity  \\\n",
              "0           3870                            able play youtube alexa    0.5000   \n",
              "1             62  able recognize indian accent really well drop ...    0.2794   \n",
              "2            487  absolute smart device amazon connect external ...    0.1827   \n",
              "3           3204  absolutely amaze new member family control hom...    0.3682   \n",
              "4           1265  absolutely amaze previously sceptical invest m...    0.2333   \n",
              "...          ...                                                ...       ...   \n",
              "4079         852  yo yo yo love go if want one smart speaker val...    0.4571   \n",
              "4080        2163                                      youtube music    0.0000   \n",
              "4081        2488  youtube support nahi kartasong recognise achha...    0.0000   \n",
              "4082         651  yup proscontrols wipro light amazinglysony bra...    0.0000   \n",
              "4083         868  zero integration capabilities fire tv devices ...   -0.3125   \n",
              "\n",
              "      division  \n",
              "0     positive  \n",
              "1     positive  \n",
              "2     positive  \n",
              "3     positive  \n",
              "4     positive  \n",
              "...        ...  \n",
              "4079  positive  \n",
              "4080   neutral  \n",
              "4081   neutral  \n",
              "4082   neutral  \n",
              "4083  negative  \n",
              "\n",
              "[4084 rows x 4 columns]"
            ],
            "text/html": [
              "\n",
              "  <div id=\"df-4158b5e3-7c38-4f4a-a678-0814fb446527\">\n",
              "    <div class=\"colab-df-container\">\n",
              "      <div>\n",
              "<style scoped>\n",
              "    .dataframe tbody tr th:only-of-type {\n",
              "        vertical-align: middle;\n",
              "    }\n",
              "\n",
              "    .dataframe tbody tr th {\n",
              "        vertical-align: top;\n",
              "    }\n",
              "\n",
              "    .dataframe thead th {\n",
              "        text-align: right;\n",
              "    }\n",
              "</style>\n",
              "<table border=\"1\" class=\"dataframe\">\n",
              "  <thead>\n",
              "    <tr style=\"text-align: right;\">\n",
              "      <th></th>\n",
              "      <th>Unnamed: 0</th>\n",
              "      <th>review</th>\n",
              "      <th>polarity</th>\n",
              "      <th>division</th>\n",
              "    </tr>\n",
              "  </thead>\n",
              "  <tbody>\n",
              "    <tr>\n",
              "      <th>0</th>\n",
              "      <td>3870</td>\n",
              "      <td>able play youtube alexa</td>\n",
              "      <td>0.5000</td>\n",
              "      <td>positive</td>\n",
              "    </tr>\n",
              "    <tr>\n",
              "      <th>1</th>\n",
              "      <td>62</td>\n",
              "      <td>able recognize indian accent really well drop ...</td>\n",
              "      <td>0.2794</td>\n",
              "      <td>positive</td>\n",
              "    </tr>\n",
              "    <tr>\n",
              "      <th>2</th>\n",
              "      <td>487</td>\n",
              "      <td>absolute smart device amazon connect external ...</td>\n",
              "      <td>0.1827</td>\n",
              "      <td>positive</td>\n",
              "    </tr>\n",
              "    <tr>\n",
              "      <th>3</th>\n",
              "      <td>3204</td>\n",
              "      <td>absolutely amaze new member family control hom...</td>\n",
              "      <td>0.3682</td>\n",
              "      <td>positive</td>\n",
              "    </tr>\n",
              "    <tr>\n",
              "      <th>4</th>\n",
              "      <td>1265</td>\n",
              "      <td>absolutely amaze previously sceptical invest m...</td>\n",
              "      <td>0.2333</td>\n",
              "      <td>positive</td>\n",
              "    </tr>\n",
              "    <tr>\n",
              "      <th>...</th>\n",
              "      <td>...</td>\n",
              "      <td>...</td>\n",
              "      <td>...</td>\n",
              "      <td>...</td>\n",
              "    </tr>\n",
              "    <tr>\n",
              "      <th>4079</th>\n",
              "      <td>852</td>\n",
              "      <td>yo yo yo love go if want one smart speaker val...</td>\n",
              "      <td>0.4571</td>\n",
              "      <td>positive</td>\n",
              "    </tr>\n",
              "    <tr>\n",
              "      <th>4080</th>\n",
              "      <td>2163</td>\n",
              "      <td>youtube music</td>\n",
              "      <td>0.0000</td>\n",
              "      <td>neutral</td>\n",
              "    </tr>\n",
              "    <tr>\n",
              "      <th>4081</th>\n",
              "      <td>2488</td>\n",
              "      <td>youtube support nahi kartasong recognise achha...</td>\n",
              "      <td>0.0000</td>\n",
              "      <td>neutral</td>\n",
              "    </tr>\n",
              "    <tr>\n",
              "      <th>4082</th>\n",
              "      <td>651</td>\n",
              "      <td>yup proscontrols wipro light amazinglysony bra...</td>\n",
              "      <td>0.0000</td>\n",
              "      <td>neutral</td>\n",
              "    </tr>\n",
              "    <tr>\n",
              "      <th>4083</th>\n",
              "      <td>868</td>\n",
              "      <td>zero integration capabilities fire tv devices ...</td>\n",
              "      <td>-0.3125</td>\n",
              "      <td>negative</td>\n",
              "    </tr>\n",
              "  </tbody>\n",
              "</table>\n",
              "<p>4084 rows × 4 columns</p>\n",
              "</div>\n",
              "      <button class=\"colab-df-convert\" onclick=\"convertToInteractive('df-4158b5e3-7c38-4f4a-a678-0814fb446527')\"\n",
              "              title=\"Convert this dataframe to an interactive table.\"\n",
              "              style=\"display:none;\">\n",
              "        \n",
              "  <svg xmlns=\"http://www.w3.org/2000/svg\" height=\"24px\"viewBox=\"0 0 24 24\"\n",
              "       width=\"24px\">\n",
              "    <path d=\"M0 0h24v24H0V0z\" fill=\"none\"/>\n",
              "    <path d=\"M18.56 5.44l.94 2.06.94-2.06 2.06-.94-2.06-.94-.94-2.06-.94 2.06-2.06.94zm-11 1L8.5 8.5l.94-2.06 2.06-.94-2.06-.94L8.5 2.5l-.94 2.06-2.06.94zm10 10l.94 2.06.94-2.06 2.06-.94-2.06-.94-.94-2.06-.94 2.06-2.06.94z\"/><path d=\"M17.41 7.96l-1.37-1.37c-.4-.4-.92-.59-1.43-.59-.52 0-1.04.2-1.43.59L10.3 9.45l-7.72 7.72c-.78.78-.78 2.05 0 2.83L4 21.41c.39.39.9.59 1.41.59.51 0 1.02-.2 1.41-.59l7.78-7.78 2.81-2.81c.8-.78.8-2.07 0-2.86zM5.41 20L4 18.59l7.72-7.72 1.47 1.35L5.41 20z\"/>\n",
              "  </svg>\n",
              "      </button>\n",
              "      \n",
              "  <style>\n",
              "    .colab-df-container {\n",
              "      display:flex;\n",
              "      flex-wrap:wrap;\n",
              "      gap: 12px;\n",
              "    }\n",
              "\n",
              "    .colab-df-convert {\n",
              "      background-color: #E8F0FE;\n",
              "      border: none;\n",
              "      border-radius: 50%;\n",
              "      cursor: pointer;\n",
              "      display: none;\n",
              "      fill: #1967D2;\n",
              "      height: 32px;\n",
              "      padding: 0 0 0 0;\n",
              "      width: 32px;\n",
              "    }\n",
              "\n",
              "    .colab-df-convert:hover {\n",
              "      background-color: #E2EBFA;\n",
              "      box-shadow: 0px 1px 2px rgba(60, 64, 67, 0.3), 0px 1px 3px 1px rgba(60, 64, 67, 0.15);\n",
              "      fill: #174EA6;\n",
              "    }\n",
              "\n",
              "    [theme=dark] .colab-df-convert {\n",
              "      background-color: #3B4455;\n",
              "      fill: #D2E3FC;\n",
              "    }\n",
              "\n",
              "    [theme=dark] .colab-df-convert:hover {\n",
              "      background-color: #434B5C;\n",
              "      box-shadow: 0px 1px 3px 1px rgba(0, 0, 0, 0.15);\n",
              "      filter: drop-shadow(0px 1px 2px rgba(0, 0, 0, 0.3));\n",
              "      fill: #FFFFFF;\n",
              "    }\n",
              "  </style>\n",
              "\n",
              "      <script>\n",
              "        const buttonEl =\n",
              "          document.querySelector('#df-4158b5e3-7c38-4f4a-a678-0814fb446527 button.colab-df-convert');\n",
              "        buttonEl.style.display =\n",
              "          google.colab.kernel.accessAllowed ? 'block' : 'none';\n",
              "\n",
              "        async function convertToInteractive(key) {\n",
              "          const element = document.querySelector('#df-4158b5e3-7c38-4f4a-a678-0814fb446527');\n",
              "          const dataTable =\n",
              "            await google.colab.kernel.invokeFunction('convertToInteractive',\n",
              "                                                     [key], {});\n",
              "          if (!dataTable) return;\n",
              "\n",
              "          const docLinkHtml = 'Like what you see? Visit the ' +\n",
              "            '<a target=\"_blank\" href=https://colab.research.google.com/notebooks/data_table.ipynb>data table notebook</a>'\n",
              "            + ' to learn more about interactive tables.';\n",
              "          element.innerHTML = '';\n",
              "          dataTable['output_type'] = 'display_data';\n",
              "          await google.colab.output.renderOutput(dataTable, element);\n",
              "          const docLink = document.createElement('div');\n",
              "          docLink.innerHTML = docLinkHtml;\n",
              "          element.appendChild(docLink);\n",
              "        }\n",
              "      </script>\n",
              "    </div>\n",
              "  </div>\n",
              "  "
            ]
          },
          "metadata": {},
          "execution_count": 1
        }
      ],
      "source": [
        "import pandas as pd\n",
        "df=pd.read_csv(\"EcoPreprocessed.csv\") #load the dataset here\n",
        "df"
      ]
    },
    {
      "cell_type": "code",
      "source": [
        "#random sampling the data for equal proportions of positive negative and neutral\n",
        "import pandas as pd\n",
        "division_groups = df.groupby('division')\n",
        "positive_df = division_groups.get_group('positive').sample(n=700)\n",
        "neutral_df = division_groups.get_group('neutral')\n",
        "negative_df = division_groups.get_group('negative')\n",
        "new_df = pd.concat([positive_df, neutral_df, negative_df], ignore_index=True)"
      ],
      "metadata": {
        "id": "wLvDNPbHSEjC"
      },
      "execution_count": 2,
      "outputs": []
    },
    {
      "cell_type": "code",
      "source": [
        "new_df.shape"
      ],
      "metadata": {
        "colab": {
          "base_uri": "https://localhost:8080/"
        },
        "id": "QoABQL2vf9bF",
        "outputId": "bf319bc8-3afe-45f2-cc73-b1e4928e0603"
      },
      "execution_count": 3,
      "outputs": [
        {
          "output_type": "execute_result",
          "data": {
            "text/plain": [
              "(1718, 4)"
            ]
          },
          "metadata": {},
          "execution_count": 3
        }
      ]
    },
    {
      "cell_type": "code",
      "execution_count": 4,
      "metadata": {
        "id": "lmRWTwd64RH5",
        "colab": {
          "base_uri": "https://localhost:8080/"
        },
        "outputId": "5815bb13-41a3-4041-e0b8-12d0f5c5d43b"
      },
      "outputs": [
        {
          "output_type": "execute_result",
          "data": {
            "text/plain": [
              "['good product',\n",
              " 'amaze product amaze feature apart sound really good good kid well simply paisa wusool',\n",
              " 'good product but bluetooth voice low',\n",
              " 'expect wasnt worth money sound quality not good expect amazon also time alexa doesnt understand say disappoint amazon',\n",
              " 'could better rechargeable battery operate instrument']"
            ]
          },
          "metadata": {},
          "execution_count": 4
        }
      ],
      "source": [
        "reviewsList_temp =new_df['review'].tolist()\n",
        "label_list =new_df['division'].tolist()\n",
        "reviewsList_temp[:5]\n"
      ]
    },
    {
      "cell_type": "markdown",
      "source": [
        "### **Data-preprocessing**"
      ],
      "metadata": {
        "id": "tJmb-pxBaY-R"
      }
    },
    {
      "cell_type": "code",
      "source": [
        "from gensim.parsing.preprocessing import strip_numeric\n",
        "from nltk.stem import WordNetLemmatizer\n",
        "from nltk.corpus import wordnet\n",
        "import re\n",
        "import emoji\n",
        "import gensim"
      ],
      "metadata": {
        "colab": {
          "base_uri": "https://localhost:8080/"
        },
        "id": "KKiBtZ-G8SWh",
        "outputId": "2a17996b-7ceb-4cce-f1fd-9ba46a6508d9"
      },
      "execution_count": 5,
      "outputs": [
        {
          "output_type": "stream",
          "name": "stdout",
          "text": [
            "Looking in indexes: https://pypi.org/simple, https://us-python.pkg.dev/colab-wheels/public/simple/\n",
            "Requirement already satisfied: nltk in /usr/local/lib/python3.9/dist-packages (3.8.1)\n",
            "Requirement already satisfied: click in /usr/local/lib/python3.9/dist-packages (from nltk) (8.1.3)\n",
            "Requirement already satisfied: joblib in /usr/local/lib/python3.9/dist-packages (from nltk) (1.1.1)\n",
            "Requirement already satisfied: regex>=2021.8.3 in /usr/local/lib/python3.9/dist-packages (from nltk) (2022.10.31)\n",
            "Requirement already satisfied: tqdm in /usr/local/lib/python3.9/dist-packages (from nltk) (4.65.0)\n"
          ]
        },
        {
          "output_type": "stream",
          "name": "stderr",
          "text": [
            "[nltk_data] Downloading package wordnet to /root/nltk_data...\n",
            "[nltk_data] Downloading package omw-1.4 to /root/nltk_data...\n"
          ]
        },
        {
          "output_type": "stream",
          "name": "stdout",
          "text": [
            "Looking in indexes: https://pypi.org/simple, https://us-python.pkg.dev/colab-wheels/public/simple/\n",
            "Requirement already satisfied: gensim in /usr/local/lib/python3.9/dist-packages (3.6.0)\n",
            "Requirement already satisfied: numpy>=1.11.3 in /usr/local/lib/python3.9/dist-packages (from gensim) (1.22.4)\n",
            "Requirement already satisfied: smart-open>=1.2.1 in /usr/local/lib/python3.9/dist-packages (from gensim) (6.3.0)\n",
            "Requirement already satisfied: six>=1.5.0 in /usr/local/lib/python3.9/dist-packages (from gensim) (1.15.0)\n",
            "Requirement already satisfied: scipy>=0.18.1 in /usr/local/lib/python3.9/dist-packages (from gensim) (1.10.1)\n",
            "Looking in indexes: https://pypi.org/simple, https://us-python.pkg.dev/colab-wheels/public/simple/\n",
            "Collecting emoji\n",
            "  Downloading emoji-2.2.0.tar.gz (240 kB)\n",
            "\u001b[2K     \u001b[90m━━━━━━━━━━━━━━━━━━━━━━━━━━━━━━━━━━━━━━━\u001b[0m \u001b[32m240.9/240.9 KB\u001b[0m \u001b[31m5.2 MB/s\u001b[0m eta \u001b[36m0:00:00\u001b[0m\n",
            "\u001b[?25h  Preparing metadata (setup.py) ... \u001b[?25l\u001b[?25hdone\n",
            "Building wheels for collected packages: emoji\n",
            "  Building wheel for emoji (setup.py) ... \u001b[?25l\u001b[?25hdone\n",
            "  Created wheel for emoji: filename=emoji-2.2.0-py3-none-any.whl size=234926 sha256=f95a84d1a6e8fe87937cf42f9872936045830813f6c79fb66bc0bbbb840ea897\n",
            "  Stored in directory: /root/.cache/pip/wheels/9a/b8/0f/f580817231cbf59f6ade9fd132ff60ada1de9f7dc85521f857\n",
            "Successfully built emoji\n",
            "Installing collected packages: emoji\n",
            "Successfully installed emoji-2.2.0\n"
          ]
        }
      ]
    },
    {
      "cell_type": "code",
      "source": [
        "def check_if_verb(word):\n",
        "    parts = wordnet.synsets(word, pos=wordnet.VERB)\n",
        "    return len(parts) > 0\n",
        "def check_if_noun(word):\n",
        "    parts = wordnet.synsets(word, pos=wordnet.NOUN)\n",
        "    return len(parts) > 0\n",
        "def check_if_adv(word):\n",
        "    parts = wordnet.synsets(word, pos=wordnet.ADV)\n",
        "    return len(parts) > 0\n",
        "def check_if_adj(word):\n",
        "    parts = wordnet.synsets(word, pos=wordnet.ADJ)\n",
        "    return len(parts) > 0\n",
        "def preprocess_reviews(text):\n",
        "    # Remove emojis\n",
        "    processed_text = emoji.demojize(text)\n",
        "    # Remove numeric characters\n",
        "    processed_text = strip_numeric(text)\n",
        "    # Remove non-alphanumeric characters and convert to lowercase\n",
        "    processed_text = re.sub(r\"[^a-zA-Z\\s]\", \"\", text.lower())\n",
        "    # Tokenize the text\n",
        "    token_list = gensim.utils.simple_preprocess(processed_text)\n",
        "    # Remove stop words and non-nouns, verbs, adjectives, and adverbs\n",
        "    stop_words = gensim.parsing.preprocessing.STOPWORDS\n",
        "    token_list = [token for token in token_list if token not in stop_words\n",
        "                  and (check_if_noun(token)\n",
        "                  or check_if_verb(token)\n",
        "                  or check_if_adj(token)\n",
        "                  or check_if_adv(token))]\n",
        "    return token_list\n",
        "\n",
        "reviewsList=[]\n",
        "for i in reviewsList_temp:\n",
        "  string_temp=\"\"\n",
        "  processed_reviews_temp=preprocess_reviews(i)\n",
        "  for j in processed_reviews_temp:\n",
        "    if string_temp==\"\":\n",
        "      string_temp=j\n",
        "      continue\n",
        "    else:\n",
        "      if j==\"\":\n",
        "        break\n",
        "      else:\n",
        "        string_temp=string_temp+\" \"+j\n",
        "  reviewsList.append(string_temp)\n",
        "\n",
        "reviewsList[:5] #preprocessed dataset"
      ],
      "metadata": {
        "colab": {
          "base_uri": "https://localhost:8080/"
        },
        "id": "zhzN21muXRsb",
        "outputId": "ce719823-8c69-4457-fa06-bb11e4a95929"
      },
      "execution_count": 6,
      "outputs": [
        {
          "output_type": "execute_result",
          "data": {
            "text/plain": [
              "['good product',\n",
              " 'amaze product amaze feature apart sound good good kid simply paisa',\n",
              " 'good product voice low',\n",
              " 'expect worth money sound quality good expect amazon time understand disappoint amazon',\n",
              " 'better rechargeable battery operate instrument']"
            ]
          },
          "metadata": {},
          "execution_count": 6
        }
      ]
    },
    {
      "cell_type": "code",
      "source": [
        "import matplotlib.pyplot as plt\n",
        "labels = [\"positive\",\"negative\",\"neutral\"]\n",
        "positive_count=label_list.count(\"positive\")\n",
        "negative_count=label_list.count(\"negative\")\n",
        "neutral_count=label_list.count(\"neutral\")\n",
        "sizes = [positive_count,negative_count,neutral_count]\n",
        "fig, ax = plt.subplots()\n",
        "ax.pie(sizes, labels=labels, autopct='%1.1f%%', startangle=90)\n",
        "\n",
        "ax.set_title('labels propotions')\n",
        "plt.savefig(\"labels proportions\")\n",
        "plt.show()"
      ],
      "metadata": {
        "colab": {
          "base_uri": "https://localhost:8080/",
          "height": 264
        },
        "id": "MbQhPo62WISi",
        "outputId": "8e260c84-0ea0-4b6a-e952-bf12f3be6a1f"
      },
      "execution_count": 7,
      "outputs": [
        {
          "output_type": "display_data",
          "data": {
            "text/plain": [
              "<Figure size 432x288 with 1 Axes>"
            ],
            "image/png": "[encoded data removed]"
          },
          "metadata": {}
        }
      ]
    },
    {
      "cell_type": "markdown",
      "source": [
        "data splitting into 60/20/20 splits"
      ],
      "metadata": {
        "id": "TvE2i3vo8tDh"
      }
    },
    {
      "cell_type": "code",
      "source": [
        "from sklearn.model_selection import train_test_split\n",
        "texts_train, texts_test, labels_train, labels_test = train_test_split(reviewsList, label_list, test_size=0.2, random_state=42)\n",
        "texts_train, texts_val, labels_train, labels_val = train_test_split(texts_train, labels_train, test_size=0.25, random_state=42)\n",
        "from tabulate import tabulate\n",
        "table_data = [[\"Label\", \"Training Set\", \"Validation Set\", \"Test Set\"],\n",
        "              [\"Positive\", labels_train.count(\"positive\"), labels_val.count(\"positive\"), labels_test.count(\"positive\")],\n",
        "              [\"Negative\", labels_train.count(\"negative\"), labels_val.count(\"negative\"), labels_test.count(\"negative\")],\n",
        "              [\"Neutral\", labels_train.count(\"neutral\"), labels_val.count(\"neutral\"), labels_test.count(\"neutral\")],\n",
        "              [\"Total\",len(labels_train), len(labels_val), len(labels_test)]]\n",
        "tablefmt = \"fancy_grid\"\n",
        "headers = [\"\\033[34m{}\\033[0m\".format(header) for header in table_data[0]]\n",
        "table_data = [headers] + table_data[1:]\n",
        "colored_data = [[f\"\\033[32m{col}\\033[0m\" if isinstance(col, int) else col for col in row] for row in table_data]\n",
        "print(tabulate(colored_data, headers=\"firstrow\", tablefmt=tablefmt))"
      ],
      "metadata": {
        "colab": {
          "base_uri": "https://localhost:8080/"
        },
        "id": "iQSs5rfS8pMD",
        "outputId": "d26f5560-3913-4c51-b69d-1d61643866df"
      },
      "execution_count": 8,
      "outputs": [
        {
          "output_type": "stream",
          "name": "stdout",
          "text": [
            "╒══════════╤════════════════╤══════════════════╤════════════╕\n",
            "│ \u001b[34mLabel\u001b[0m    │   \u001b[34mTraining Set\u001b[0m │   \u001b[34mValidation Set\u001b[0m │   \u001b[34mTest Set\u001b[0m │\n",
            "╞══════════╪════════════════╪══════════════════╪════════════╡\n",
            "│ Positive │            \u001b[32m404\u001b[0m │              \u001b[32m148\u001b[0m │        \u001b[32m148\u001b[0m │\n",
            "├──────────┼────────────────┼──────────────────┼────────────┤\n",
            "│ Negative │            \u001b[32m300\u001b[0m │               \u001b[32m81\u001b[0m │        \u001b[32m101\u001b[0m │\n",
            "├──────────┼────────────────┼──────────────────┼────────────┤\n",
            "│ Neutral  │            \u001b[32m326\u001b[0m │              \u001b[32m115\u001b[0m │         \u001b[32m95\u001b[0m │\n",
            "├──────────┼────────────────┼──────────────────┼────────────┤\n",
            "│ Total    │           \u001b[32m1030\u001b[0m │              \u001b[32m344\u001b[0m │        \u001b[32m344\u001b[0m │\n",
            "╘══════════╧════════════════╧══════════════════╧════════════╛\n"
          ]
        }
      ]
    },
    {
      "cell_type": "markdown",
      "source": [
        "### **Q2-kmeans clustering**"
      ],
      "metadata": {
        "id": "eKviaYmL8gqm"
      }
    },
    {
      "cell_type": "code",
      "execution_count": 9,
      "metadata": {
        "id": "rXcc0r4k5X8F"
      },
      "outputs": [],
      "source": [
        "import numpy as np\n",
        "from sklearn.feature_extraction.text import TfidfVectorizer\n",
        "from scipy.sparse import csr_matrix\n",
        "from sklearn.metrics.pairwise import cosine_similarity\n",
        "from sklearn.metrics import silhouette_score\n",
        "from collections import Counter\n",
        "from sklearn.metrics import confusion_matrix"
      ]
    },
    {
      "cell_type": "code",
      "execution_count": 10,
      "metadata": {
        "id": "g0OoFFMFgR8G",
        "colab": {
          "base_uri": "https://localhost:8080/"
        },
        "outputId": "bd3b4b58-5c2b-458b-f297-8f3b19658382"
      },
      "outputs": [
        {
          "output_type": "execute_result",
          "data": {
            "text/plain": [
              "array([3, 3, 3, ..., 3, 3, 3])"
            ]
          },
          "metadata": {},
          "execution_count": 10
        }
      ],
      "source": [
        "# vectorize the text\n",
        "vectorizer = TfidfVectorizer()\n",
        "T = vectorizer.fit_transform(reviewsList)\n",
        "X=T.toarray()\n",
        "import numpy as np\n",
        "import numpy as np\n",
        "class MyKMeans:\n",
        "    def __init__(self, n_clusters=5, max_iter=100):\n",
        "        self.n_clusters = n_clusters\n",
        "        self.max_iter = max_iter\n",
        "    def fit(self, X):\n",
        "        # Step 1: Randomly initialize centroids\n",
        "        self.centroids = self._initialize_centroids_step1(X)\n",
        "        for i in range(self.max_iter):\n",
        "            # Step 2: Assign each point to the closest centroid\n",
        "            self.labels = self._assign_labels_step2(X)\n",
        "            \n",
        "            # Step 3: Update centroids by computing the mean of all points assigned to each cluster\n",
        "            self.centroids = self._update_centroids_step3(X)\n",
        "        \n",
        "        return self.labels, self.centroids\n",
        "    def _initialize_centroids_step1(self, X):\n",
        "        n_samples, n_features = X.shape\n",
        "        centroids_indices = np.random.choice(n_samples, self.n_clusters, replace=False)\n",
        "        centroids = X[centroids_indices]\n",
        "        return centroids\n",
        "    def _assign_labels_step2(self, X):\n",
        "        distances = np.sqrt(((X - self.centroids[:, np.newaxis])**2).sum(axis=2))\n",
        "        labels = np.argmin(distances, axis=0)\n",
        "        return labels\n",
        "    def _update_centroids_step3(self, X):\n",
        "        new_centroids = np.array([X[self.labels == i].mean(axis=0) for i in range(self.n_clusters)])\n",
        "        return new_centroids\n",
        "kmeans =MyKMeans(n_clusters=5)\n",
        "kmeans.fit(X)\n",
        "Y=kmeans.labels\n",
        "Y"
      ]
    },
    {
      "cell_type": "markdown",
      "source": [
        "a)When using k=5 clusters, give a few examples of the documents assigned to each cluster, and the top 5 tokens with the highest magnitude in the corresponding centroid."
      ],
      "metadata": {
        "id": "xJLrp9vhisX5"
      }
    },
    {
      "cell_type": "code",
      "execution_count": 11,
      "metadata": {
        "id": "CXOnzztzoMKl"
      },
      "outputs": [],
      "source": [
        "# Loop over each cluster\n",
        "kmeans = MyKMeans(n_clusters=5, max_iter=100)\n",
        "labels, centroids = kmeans.fit(X)\n",
        "val_list = list(vectorizer.vocabulary_.values())\n",
        "key_list = list(vectorizer.vocabulary_.keys())\n"
      ]
    },
    {
      "cell_type": "code",
      "source": [
        "for i in range(kmeans.n_clusters):\n",
        "    # Find documents assigned to cluster i\n",
        "    cluster_docs = X[labels == i]\n",
        "    \n",
        "    # Compute top 5 features (tokens) with highest magnitude in centroid i\n",
        "    centroid = centroids[i]\n",
        "    feature_magnitudes = [(j, centroid[j]) for j in range(len(centroid))]\n",
        "    top_features = [key_list[val_list.index(feature)] for feature, _ in sorted(feature_magnitudes, key=lambda x: abs(x[1]), reverse=True)[:5]]\n",
        "    \n",
        "    # Print results\n",
        "    print(f\"Cluster {i}: {len(cluster_docs)} documents\")\n",
        "    print(f\"Top 5 features with highest magnitude in centroid: {top_features}\")\n",
        "    print(\"Examples:\")\n",
        "    pd.set_option('display.max_colwidth', None)\n",
        "    a=new_df['review'][labels == i][:5]\n",
        "    print(a)\n",
        "    print(\"************************************************************************************************\")\n",
        "    print(\"\\n\")\n"
      ],
      "metadata": {
        "colab": {
          "base_uri": "https://localhost:8080/"
        },
        "id": "3wZlaU7sSVzF",
        "outputId": "42b42319-449f-4e9a-b786-58ce9b2c06c9"
      },
      "execution_count": 12,
      "outputs": [
        {
          "output_type": "stream",
          "name": "stdout",
          "text": [
            "Cluster 0: 93 documents\n",
            "Top 5 features with highest magnitude in centroid: ['good', 'product', 'voice', 'recognition', 'buy']\n",
            "Examples:\n",
            "0     good product\n",
            "13      good price\n",
            "23            good\n",
            "45            good\n",
            "56            good\n",
            "Name: review, dtype: object\n",
            "************************************************************************************************\n",
            "\n",
            "\n",
            "Cluster 1: 123 documents\n",
            "Top 5 features with highest magnitude in centroid: ['work', 'properly', 'product', 'stop', 'wifi']\n",
            "Examples:\n",
            "12    sound achi h but voice command deta delay process work\n",
            "60                 good product ensure will work excellently\n",
            "68             amaze product love product drawback work plug\n",
            "81                                                work super\n",
            "89         good productnice sound work fine wipro smart bulb\n",
            "Name: review, dtype: object\n",
            "************************************************************************************************\n",
            "\n",
            "\n",
            "Cluster 2: 41 documents\n",
            "Top 5 features with highest magnitude in centroid: ['useful', 'feature', 'product', 'play', 'connect']\n",
            "Examples:\n",
            "1                                                                                                                                                                                     amaze product amaze feature apart sound really good good kid well simply paisa wusool\n",
            "30                                                                                                                                                                               gift mother birthday year shes lot fun discover many new feature great way ease parent iot\n",
            "34                                                                                                                                                                                            useful general knowledge many things recognize kid voice nicely best gift son\n",
            "83    play music know weather latest news set reminders etc never easier kid big alexa fan keep interact echo dot clearly easy use though bite difficult connect oneplus tv basic tv function perform but lot require next generation devices will probably advance feature\n",
            "96                                                                                                                                                                                   nice voice understand hindi english useful even control compatible devices voiceloving\n",
            "Name: review, dtype: object\n",
            "************************************************************************************************\n",
            "\n",
            "\n",
            "Cluster 3: 1294 documents\n",
            "Top 5 features with highest magnitude in centroid: ['product', 'like', 'nice', 'connect', 'buy']\n",
            "Examples:\n",
            "2                    good product but bluetooth voice low\n",
            "4    could better rechargeable battery operate instrument\n",
            "5                                       good device learn\n",
            "6                                       wonderful product\n",
            "7                                       amaze value money\n",
            "Name: review, dtype: object\n",
            "************************************************************************************************\n",
            "\n",
            "\n",
            "Cluster 4: 167 documents\n",
            "Top 5 features with highest magnitude in centroid: ['quality', 'sound', 'good', 'voice', 'product']\n",
            "Examples:\n",
            "3     expect wasnt worth money sound quality not good expect amazon also time alexa doesnt understand say disappoint amazon\n",
            "8                                                                 good sound respond time lessbest device information music\n",
            "9                                                              good sound quality voice recognition follow need improvement\n",
            "10                       quality product right price love perfect use half year still great condition audio quality awesome\n",
            "14                                                                work fine months voice not clear quality product not good\n",
            "Name: review, dtype: object\n",
            "************************************************************************************************\n",
            "\n",
            "\n"
          ]
        }
      ]
    },
    {
      "cell_type": "markdown",
      "source": [
        "**(c) Construct a confusion matrix between the k=5 clusters and your target labels.**"
      ],
      "metadata": {
        "id": "91kM6pt9i2zZ"
      }
    },
    {
      "cell_type": "code",
      "source": [
        "import seaborn as sns\n",
        "import matplotlib.pyplot as plt\n",
        "\n",
        "# Construct a confusion matrix\n",
        "from sklearn.metrics import confusion_matrix\n",
        "#map the lap=bel to respective numbers\n",
        "label_map = {\"positive\": 2, \"neutral\": 1, \"negative\": 0}\n",
        "true_labels = [label_map[label] for label in label_list]\n",
        "cm = confusion_matrix(true_labels, labels)\n",
        "\n",
        "# Plot confusion matrix as heatmap\n",
        "sns.heatmap(cm, annot=True, cmap='Blues', fmt='g')\n",
        "plt.xlabel('Predicted labels')\n",
        "plt.ylabel('True labels')\n",
        "plt.savefig(\"confusion_matrix\")\n",
        "plt.show()\n"
      ],
      "metadata": {
        "colab": {
          "base_uri": "https://localhost:8080/",
          "height": 280
        },
        "id": "zAQdM-pWJ76r",
        "outputId": "1e5c1f80-4efb-4d5a-9d3c-5ed4a9f5a0a1"
      },
      "execution_count": 13,
      "outputs": [
        {
          "output_type": "display_data",
          "data": {
            "text/plain": [
              "<Figure size 432x288 with 2 Axes>"
            ],
            "image/png": "[encoded data removed]"
          },
          "metadata": {
            "needs_background": "light"
          }
        }
      ]
    },
    {
      "cell_type": "markdown",
      "metadata": {
        "id": "eRheYH7e9eiQ"
      },
      "source": [
        "### **Classifier**"
      ]
    },
    {
      "cell_type": "code",
      "execution_count": 113,
      "metadata": {
        "id": "bNwuDmF09jY8"
      },
      "outputs": [],
      "source": [
        "\n",
        "import numpy as np\n",
        "import matplotlib.pyplot as plt\n",
        "from sklearn.dummy import DummyClassifier\n",
        "from sklearn.model_selection import train_test_split\n",
        "from sklearn.metrics import accuracy_score, precision_score, recall_score, f1_score\n",
        "from sklearn.linear_model import LogisticRegression\n"
      ]
    },
    {
      "cell_type": "code",
      "execution_count": 15,
      "metadata": {
        "id": "PeA4STEZc2aq"
      },
      "outputs": [],
      "source": [
        "# Create metrics list\n",
        "\n",
        "Accuracy=[\"Accuracy\"]\n",
        "Precision=[\"Precision\"]\n",
        "Recall=[\"Recall\"]\n",
        "F1_Score=[\"F1 score\"]\n"
      ]
    },
    {
      "cell_type": "markdown",
      "source": [
        "**dummy classifier with most frequent stratergy**"
      ],
      "metadata": {
        "id": "dcOwjjaYD9TL"
      }
    },
    {
      "cell_type": "code",
      "execution_count": 16,
      "metadata": {
        "id": "7ZBOg4zKCrs8",
        "colab": {
          "base_uri": "https://localhost:8080/",
          "height": 76
        },
        "outputId": "8d7eeb88-8adc-4d15-bb78-f629442c738e"
      },
      "outputs": [
        {
          "output_type": "execute_result",
          "data": {
            "text/plain": [
              "DummyClassifier(strategy='most_frequent')"
            ],
            "text/html": [
              "<style>#sk-container-id-1 {color: black;background-color: white;}#sk-container-id-1 pre{padding: 0;}#sk-container-id-1 div.sk-toggleable {background-color: white;}#sk-container-id-1 label.sk-toggleable__label {cursor: pointer;display: block;width: 100%;margin-bottom: 0;padding: 0.3em;box-sizing: border-box;text-align: center;}#sk-container-id-1 label.sk-toggleable__label-arrow:before {content: \"▸\";float: left;margin-right: 0.25em;color: #696969;}#sk-container-id-1 label.sk-toggleable__label-arrow:hover:before {color: black;}#sk-container-id-1 div.sk-estimator:hover label.sk-toggleable__label-arrow:before {color: black;}#sk-container-id-1 div.sk-toggleable__content {max-height: 0;max-width: 0;overflow: hidden;text-align: left;background-color: #f0f8ff;}#sk-container-id-1 div.sk-toggleable__content pre {margin: 0.2em;color: black;border-radius: 0.25em;background-color: #f0f8ff;}#sk-container-id-1 input.sk-toggleable__control:checked~div.sk-toggleable__content {max-height: 200px;max-width: 100%;overflow: auto;}#sk-container-id-1 input.sk-toggleable__control:checked~label.sk-toggleable__label-arrow:before {content: \"▾\";}#sk-container-id-1 div.sk-estimator input.sk-toggleable__control:checked~label.sk-toggleable__label {background-color: #d4ebff;}#sk-container-id-1 div.sk-label input.sk-toggleable__control:checked~label.sk-toggleable__label {background-color: #d4ebff;}#sk-container-id-1 input.sk-hidden--visually {border: 0;clip: rect(1px 1px 1px 1px);clip: rect(1px, 1px, 1px, 1px);height: 1px;margin: -1px;overflow: hidden;padding: 0;position: absolute;width: 1px;}#sk-container-id-1 div.sk-estimator {font-family: monospace;background-color: #f0f8ff;border: 1px dotted black;border-radius: 0.25em;box-sizing: border-box;margin-bottom: 0.5em;}#sk-container-id-1 div.sk-estimator:hover {background-color: #d4ebff;}#sk-container-id-1 div.sk-parallel-item::after {content: \"\";width: 100%;border-bottom: 1px solid gray;flex-grow: 1;}#sk-container-id-1 div.sk-label:hover label.sk-toggleable__label {background-color: #d4ebff;}#sk-container-id-1 div.sk-serial::before {content: \"\";position: absolute;border-left: 1px solid gray;box-sizing: border-box;top: 0;bottom: 0;left: 50%;z-index: 0;}#sk-container-id-1 div.sk-serial {display: flex;flex-direction: column;align-items: center;background-color: white;padding-right: 0.2em;padding-left: 0.2em;position: relative;}#sk-container-id-1 div.sk-item {position: relative;z-index: 1;}#sk-container-id-1 div.sk-parallel {display: flex;align-items: stretch;justify-content: center;background-color: white;position: relative;}#sk-container-id-1 div.sk-item::before, #sk-container-id-1 div.sk-parallel-item::before {content: \"\";position: absolute;border-left: 1px solid gray;box-sizing: border-box;top: 0;bottom: 0;left: 50%;z-index: -1;}#sk-container-id-1 div.sk-parallel-item {display: flex;flex-direction: column;z-index: 1;position: relative;background-color: white;}#sk-container-id-1 div.sk-parallel-item:first-child::after {align-self: flex-end;width: 50%;}#sk-container-id-1 div.sk-parallel-item:last-child::after {align-self: flex-start;width: 50%;}#sk-container-id-1 div.sk-parallel-item:only-child::after {width: 0;}#sk-container-id-1 div.sk-dashed-wrapped {border: 1px dashed gray;margin: 0 0.4em 0.5em 0.4em;box-sizing: border-box;padding-bottom: 0.4em;background-color: white;}#sk-container-id-1 div.sk-label label {font-family: monospace;font-weight: bold;display: inline-block;line-height: 1.2em;}#sk-container-id-1 div.sk-label-container {text-align: center;}#sk-container-id-1 div.sk-container {/* jupyter's `normalize.less` sets `[hidden] { display: none; }` but bootstrap.min.css set `[hidden] { display: none !important; }` so we also need the `!important` here to be able to override the default hidden behavior on the sphinx rendered scikit-learn.org. See: https://github.com/scikit-learn/scikit-learn/issues/21755 */display: inline-block !important;position: relative;}#sk-container-id-1 div.sk-text-repr-fallback {display: none;}</style><div id=\"sk-container-id-1\" class=\"sk-top-container\"><div class=\"sk-text-repr-fallback\"><pre>DummyClassifier(strategy=&#x27;most_frequent&#x27;)</pre><b>In a Jupyter environment, please rerun this cell to show the HTML representation or trust the notebook. <br />On GitHub, the HTML representation is unable to render, please try loading this page with nbviewer.org.</b></div><div class=\"sk-container\" hidden><div class=\"sk-item\"><div class=\"sk-estimator sk-toggleable\"><input class=\"sk-toggleable__control sk-hidden--visually\" id=\"sk-estimator-id-1\" type=\"checkbox\" checked><label for=\"sk-estimator-id-1\" class=\"sk-toggleable__label sk-toggleable__label-arrow\">DummyClassifier</label><div class=\"sk-toggleable__content\"><pre>DummyClassifier(strategy=&#x27;most_frequent&#x27;)</pre></div></div></div></div></div>"
            ]
          },
          "metadata": {},
          "execution_count": 16
        }
      ],
      "source": [
        "## dummy classifier with most frequent stratergy\n",
        "\n",
        "dummy_clf_mst_frequent= DummyClassifier(strategy=\"most_frequent\")#ask this question\n",
        "dummy_clf_mst_frequent.fit(texts_train, labels_train)"
      ]
    },
    {
      "cell_type": "code",
      "execution_count": 17,
      "metadata": {
        "id": "JHT_FwOS_PzD",
        "colab": {
          "base_uri": "https://localhost:8080/"
        },
        "outputId": "e8e3abc9-eb61-496e-d0c3-58f4873c14dd"
      },
      "outputs": [
        {
          "output_type": "stream",
          "name": "stdout",
          "text": [
            "accuracy=0.430\n",
            "precision=0.143\n",
            "recall=0.333\n",
            "f1_mostfrequent=0.201\n"
          ]
        },
        {
          "output_type": "stream",
          "name": "stderr",
          "text": [
            "/usr/local/lib/python3.9/dist-packages/sklearn/metrics/_classification.py:1344: UndefinedMetricWarning: Precision is ill-defined and being set to 0.0 in labels with no predicted samples. Use `zero_division` parameter to control this behavior.\n",
            "  _warn_prf(average, modifier, msg_start, len(result))\n",
            "/usr/local/lib/python3.9/dist-packages/sklearn/metrics/_classification.py:1344: UndefinedMetricWarning: Precision is ill-defined and being set to 0.0 in labels with no predicted samples. Use `zero_division` parameter to control this behavior.\n",
            "  _warn_prf(average, modifier, msg_start, len(result))\n"
          ]
        }
      ],
      "source": [
        "labels_predicted_most_frequent=dummy_clf_mst_frequent.predict(texts_val)\n",
        "labels_predicted_most_frequent_train=dummy_clf_mst_frequent.predict(texts_train)\n",
        "\n",
        "accuracy = accuracy_score(labels_val, labels_predicted_most_frequent)\n",
        "accuracy_train = accuracy_score(labels_train, labels_predicted_most_frequent_train)\n",
        "\n",
        "print(f\"{accuracy=:.3f}\")\n",
        "Accuracy.append([accuracy_train.round(3),accuracy.round(3)])\n",
        "\n",
        "precision = precision_score(labels_val, labels_predicted_most_frequent,average=\"macro\")\n",
        "precision_train = precision_score(labels_train, labels_predicted_most_frequent_train,average=\"macro\")\n",
        "\n",
        "print(f\"{precision=:.3f}\")\n",
        "Precision.append([precision_train.round(3),precision.round(3)])\n",
        "\n",
        "recall = recall_score(labels_val, labels_predicted_most_frequent,average=\"macro\")\n",
        "recall_train = recall_score(labels_train, labels_predicted_most_frequent_train,average=\"macro\")\n",
        "\n",
        "print(f\"{recall=:.3f}\")\n",
        "Recall.append([recall_train.round(3),recall.round(3)])\n",
        "\n",
        "f1_mostfrequent= f1_score(labels_val, labels_predicted_most_frequent,average=\"macro\")\n",
        "f1_mostfrequent_train= f1_score(labels_train, labels_predicted_most_frequent_train,average=\"macro\")\n",
        "\n",
        "print(f\"{f1_mostfrequent=:.3f}\")\n",
        "F1_Score.append([f1_mostfrequent_train.round(3),f1_mostfrequent.round(3)])\n"
      ]
    },
    {
      "cell_type": "code",
      "execution_count": 18,
      "metadata": {
        "id": "uEYQe5lhIWnt",
        "colab": {
          "base_uri": "https://localhost:8080/",
          "height": 296
        },
        "outputId": "bcfb6d4f-45d9-4379-d500-8c911d803c0f"
      },
      "outputs": [
        {
          "output_type": "display_data",
          "data": {
            "text/plain": [
              "<Figure size 432x288 with 1 Axes>"
            ],
            "image/png": "[encoded data removed]"
          },
          "metadata": {
            "needs_background": "light"
          }
        }
      ],
      "source": [
        "# bar chart graph with the F1 score for each class most frequent\n",
        "f1_scores_each_class_mostfrequent = {\n",
        "    'positive': f1_score(labels_val, labels_predicted_most_frequent, average='macro', labels=['positive']),\n",
        "    'neutral': f1_score(labels_val, labels_predicted_most_frequent, average='macro', labels=['neutral']),\n",
        "    'negative': f1_score(labels_val, labels_predicted_most_frequent, average='macro', labels=['negative'])\n",
        "}\n",
        "plt.bar(f1_scores_each_class_mostfrequent.keys(), f1_scores_each_class_mostfrequent.values())\n",
        "plt.title(\"F1 Score for Each Class on validation dataset\")\n",
        "plt.xlabel(\"Class (most frequent)\")\n",
        "plt.ylabel(\"F1 Score\")\n",
        "plt.show()\n"
      ]
    },
    {
      "cell_type": "code",
      "execution_count": 19,
      "metadata": {
        "colab": {
          "base_uri": "https://localhost:8080/",
          "height": 76
        },
        "id": "y0IAJ4E-EBej",
        "outputId": "30d5a522-cb4e-45df-a57a-806c049ca507"
      },
      "outputs": [
        {
          "output_type": "execute_result",
          "data": {
            "text/plain": [
              "DummyClassifier(strategy='stratified')"
            ],
            "text/html": [
              "<style>#sk-container-id-2 {color: black;background-color: white;}#sk-container-id-2 pre{padding: 0;}#sk-container-id-2 div.sk-toggleable {background-color: white;}#sk-container-id-2 label.sk-toggleable__label {cursor: pointer;display: block;width: 100%;margin-bottom: 0;padding: 0.3em;box-sizing: border-box;text-align: center;}#sk-container-id-2 label.sk-toggleable__label-arrow:before {content: \"▸\";float: left;margin-right: 0.25em;color: #696969;}#sk-container-id-2 label.sk-toggleable__label-arrow:hover:before {color: black;}#sk-container-id-2 div.sk-estimator:hover label.sk-toggleable__label-arrow:before {color: black;}#sk-container-id-2 div.sk-toggleable__content {max-height: 0;max-width: 0;overflow: hidden;text-align: left;background-color: #f0f8ff;}#sk-container-id-2 div.sk-toggleable__content pre {margin: 0.2em;color: black;border-radius: 0.25em;background-color: #f0f8ff;}#sk-container-id-2 input.sk-toggleable__control:checked~div.sk-toggleable__content {max-height: 200px;max-width: 100%;overflow: auto;}#sk-container-id-2 input.sk-toggleable__control:checked~label.sk-toggleable__label-arrow:before {content: \"▾\";}#sk-container-id-2 div.sk-estimator input.sk-toggleable__control:checked~label.sk-toggleable__label {background-color: #d4ebff;}#sk-container-id-2 div.sk-label input.sk-toggleable__control:checked~label.sk-toggleable__label {background-color: #d4ebff;}#sk-container-id-2 input.sk-hidden--visually {border: 0;clip: rect(1px 1px 1px 1px);clip: rect(1px, 1px, 1px, 1px);height: 1px;margin: -1px;overflow: hidden;padding: 0;position: absolute;width: 1px;}#sk-container-id-2 div.sk-estimator {font-family: monospace;background-color: #f0f8ff;border: 1px dotted black;border-radius: 0.25em;box-sizing: border-box;margin-bottom: 0.5em;}#sk-container-id-2 div.sk-estimator:hover {background-color: #d4ebff;}#sk-container-id-2 div.sk-parallel-item::after {content: \"\";width: 100%;border-bottom: 1px solid gray;flex-grow: 1;}#sk-container-id-2 div.sk-label:hover label.sk-toggleable__label {background-color: #d4ebff;}#sk-container-id-2 div.sk-serial::before {content: \"\";position: absolute;border-left: 1px solid gray;box-sizing: border-box;top: 0;bottom: 0;left: 50%;z-index: 0;}#sk-container-id-2 div.sk-serial {display: flex;flex-direction: column;align-items: center;background-color: white;padding-right: 0.2em;padding-left: 0.2em;position: relative;}#sk-container-id-2 div.sk-item {position: relative;z-index: 1;}#sk-container-id-2 div.sk-parallel {display: flex;align-items: stretch;justify-content: center;background-color: white;position: relative;}#sk-container-id-2 div.sk-item::before, #sk-container-id-2 div.sk-parallel-item::before {content: \"\";position: absolute;border-left: 1px solid gray;box-sizing: border-box;top: 0;bottom: 0;left: 50%;z-index: -1;}#sk-container-id-2 div.sk-parallel-item {display: flex;flex-direction: column;z-index: 1;position: relative;background-color: white;}#sk-container-id-2 div.sk-parallel-item:first-child::after {align-self: flex-end;width: 50%;}#sk-container-id-2 div.sk-parallel-item:last-child::after {align-self: flex-start;width: 50%;}#sk-container-id-2 div.sk-parallel-item:only-child::after {width: 0;}#sk-container-id-2 div.sk-dashed-wrapped {border: 1px dashed gray;margin: 0 0.4em 0.5em 0.4em;box-sizing: border-box;padding-bottom: 0.4em;background-color: white;}#sk-container-id-2 div.sk-label label {font-family: monospace;font-weight: bold;display: inline-block;line-height: 1.2em;}#sk-container-id-2 div.sk-label-container {text-align: center;}#sk-container-id-2 div.sk-container {/* jupyter's `normalize.less` sets `[hidden] { display: none; }` but bootstrap.min.css set `[hidden] { display: none !important; }` so we also need the `!important` here to be able to override the default hidden behavior on the sphinx rendered scikit-learn.org. See: https://github.com/scikit-learn/scikit-learn/issues/21755 */display: inline-block !important;position: relative;}#sk-container-id-2 div.sk-text-repr-fallback {display: none;}</style><div id=\"sk-container-id-2\" class=\"sk-top-container\"><div class=\"sk-text-repr-fallback\"><pre>DummyClassifier(strategy=&#x27;stratified&#x27;)</pre><b>In a Jupyter environment, please rerun this cell to show the HTML representation or trust the notebook. <br />On GitHub, the HTML representation is unable to render, please try loading this page with nbviewer.org.</b></div><div class=\"sk-container\" hidden><div class=\"sk-item\"><div class=\"sk-estimator sk-toggleable\"><input class=\"sk-toggleable__control sk-hidden--visually\" id=\"sk-estimator-id-2\" type=\"checkbox\" checked><label for=\"sk-estimator-id-2\" class=\"sk-toggleable__label sk-toggleable__label-arrow\">DummyClassifier</label><div class=\"sk-toggleable__content\"><pre>DummyClassifier(strategy=&#x27;stratified&#x27;)</pre></div></div></div></div></div>"
            ]
          },
          "metadata": {},
          "execution_count": 19
        }
      ],
      "source": [
        "## dummy classifier with most frequent stratergy\n",
        "dummy_clf_stratified = DummyClassifier(strategy=\"stratified\")\n",
        "dummy_clf_stratified.fit(texts_train, labels_train)"
      ]
    },
    {
      "cell_type": "code",
      "execution_count": 20,
      "metadata": {
        "id": "XQyAH1NPEjbt",
        "colab": {
          "base_uri": "https://localhost:8080/"
        },
        "outputId": "d1a89ea9-a85b-43d2-a79f-2495e379e2e7"
      },
      "outputs": [
        {
          "output_type": "stream",
          "name": "stdout",
          "text": [
            "accuracy=0.369\n",
            "precision=0.363\n",
            "recall=0.363\n",
            "f1_stratified=0.360\n"
          ]
        }
      ],
      "source": [
        "labels_predicted_stratified=dummy_clf_stratified.predict(texts_val)\n",
        "labels_predicted_stratified_train=dummy_clf_stratified.predict(texts_train)\n",
        "\n",
        "accuracy = accuracy_score(labels_val, labels_predicted_stratified)\n",
        "accuracy_train = accuracy_score(labels_train, labels_predicted_stratified_train)\n",
        "\n",
        "print(f\"{accuracy=:.3f}\")\n",
        "Accuracy.append([accuracy_train.round(3),accuracy.round(3)])\n",
        "\n",
        "precision = precision_score(labels_val, labels_predicted_stratified,average=\"macro\")\n",
        "precision_train = precision_score(labels_train, labels_predicted_stratified_train,average=\"macro\")\n",
        "\n",
        "print(f\"{precision=:.3f}\")\n",
        "Precision.append([precision_train.round(3),precision.round(3)])\n",
        "\n",
        "recall = recall_score(labels_val, labels_predicted_stratified,average=\"macro\")\n",
        "recall_train = recall_score(labels_train, labels_predicted_stratified_train,average=\"macro\")\n",
        "\n",
        "print(f\"{recall=:.3f}\")\n",
        "Recall.append([recall_train.round(3),recall.round(3)])\n",
        "\n",
        "\n",
        "f1_stratified = f1_score(labels_val, labels_predicted_stratified,average=\"macro\")\n",
        "f1_stratified_train= f1_score(labels_train, labels_predicted_stratified_train,average=\"macro\")\n",
        "\n",
        "print(f\"{f1_stratified=:.3f}\")\n",
        "F1_Score.append([f1_stratified_train.round(3),f1_stratified.round(3)])\n",
        "\n"
      ]
    },
    {
      "cell_type": "code",
      "execution_count": 21,
      "metadata": {
        "id": "L4hBDj9pLswk",
        "colab": {
          "base_uri": "https://localhost:8080/",
          "height": 296
        },
        "outputId": "12efe14c-8614-4779-ec6b-47b21dfaf8d5"
      },
      "outputs": [
        {
          "output_type": "display_data",
          "data": {
            "text/plain": [
              "<Figure size 432x288 with 1 Axes>"
            ],
            "image/png": "[encoded data removed]"
          },
          "metadata": {
            "needs_background": "light"
          }
        }
      ],
      "source": [
        "## bar chart graph with the F1 score for each class stratified\n",
        "f1_scores_each_class_strtified = {\n",
        "    'positive': f1_score(labels_val, labels_predicted_stratified, average='macro', labels=['positive']),\n",
        "    'neutral': f1_score(labels_val, labels_predicted_stratified, average='macro', labels=['neutral']),\n",
        "    'negative': f1_score(labels_val, labels_predicted_stratified, average='macro', labels=['negative'])\n",
        "}\n",
        "plt.bar(f1_scores_each_class_strtified.keys(), f1_scores_each_class_strtified.values())\n",
        "plt.title(\"F1 Score for Each Class on validation dataset\")\n",
        "plt.xlabel(\"Class (stratified)\")\n",
        "plt.ylabel(\"F1 Score\")\n",
        "plt.show()\n"
      ]
    },
    {
      "cell_type": "code",
      "source": [
        "# logistic regression using one-hot vectorization\n",
        "\n",
        "from sklearn.feature_extraction.text import CountVectorizer\n",
        "\n",
        "vectorizer_onehot = CountVectorizer(binary=True)\n",
        "\n",
        "X_train_onehot = vectorizer.fit_transform(texts_train)\n",
        "X_val_onehot = vectorizer.transform(texts_val)\n",
        "\n",
        "clf = LogisticRegression(random_state=42)\n",
        "clf.fit(X_train_onehot,labels_train)\n",
        "\n",
        "labels_predicted_one_hot = clf.predict(X_val_onehot)\n",
        "labels_predicted_one_hot_train = clf.predict(X_train_onehot)\n",
        "\n",
        "\n",
        "accuracy = accuracy_score(labels_val, labels_predicted_one_hot)\n",
        "accuracy_train = accuracy_score(labels_train, labels_predicted_one_hot_train)\n",
        "\n",
        "print(f\"{accuracy=:.3f}\")\n",
        "Accuracy.append([accuracy_train.round(3),accuracy.round(3)])\n",
        "\n",
        "\n",
        "precision = precision_score(labels_val, labels_predicted_one_hot,average=\"macro\")\n",
        "precision_train = precision_score(labels_train, labels_predicted_one_hot_train,average=\"macro\")\n",
        "\n",
        "print(f\"{precision=:.3f}\")\n",
        "Precision.append([precision_train.round(3),precision.round(3)])\n",
        "\n",
        "\n",
        "recall = recall_score(labels_val, labels_predicted_one_hot,average=\"macro\")\n",
        "recall_train = recall_score(labels_train, labels_predicted_one_hot_train,average=\"macro\")\n",
        "\n",
        "print(f\"{recall=:.3f}\")\n",
        "Recall.append([recall_train.round(3),recall.round(3)])\n",
        "\n",
        "\n",
        "f1_onehot = f1_score(labels_val, labels_predicted_one_hot,average=\"macro\")\n",
        "f1_onehot_train= f1_score(labels_train, labels_predicted_one_hot_train,average=\"macro\")\n",
        "\n",
        "print(f\"{f1_onehot=:.3f}\")\n",
        "F1_Score.append([f1_onehot_train.round(3),f1_onehot.round(3)])\n"
      ],
      "metadata": {
        "colab": {
          "base_uri": "https://localhost:8080/"
        },
        "id": "Z0-dtKWAFVY1",
        "outputId": "27adc71f-37db-429a-b509-928cad206cfd"
      },
      "execution_count": 22,
      "outputs": [
        {
          "output_type": "stream",
          "name": "stdout",
          "text": [
            "accuracy=0.794\n",
            "precision=0.793\n",
            "recall=0.778\n",
            "f1_onehot=0.780\n"
          ]
        }
      ]
    },
    {
      "cell_type": "code",
      "execution_count": 23,
      "metadata": {
        "id": "a4tkY6YUMmxu",
        "colab": {
          "base_uri": "https://localhost:8080/",
          "height": 296
        },
        "outputId": "670b3ed4-4e4e-493b-8e7f-34b4262bc226"
      },
      "outputs": [
        {
          "output_type": "display_data",
          "data": {
            "text/plain": [
              "<Figure size 432x288 with 1 Axes>"
            ],
            "image/png": "[encoded data removed]"
          },
          "metadata": {
            "needs_background": "light"
          }
        }
      ],
      "source": [
        "## bar chart graph with the F1 score for each class onehot\n",
        "f1_scores_each_class_onehot = {\n",
        "    'positive': f1_score(labels_val, labels_predicted_one_hot, average='macro', labels=['positive']),\n",
        "    'neutral': f1_score(labels_val, labels_predicted_one_hot, average='macro', labels=['neutral']),\n",
        "    'negative': f1_score(labels_val, labels_predicted_one_hot, average='macro', labels=['negative'])\n",
        "}\n",
        "plt.bar(f1_scores_each_class_onehot.keys(), f1_scores_each_class_onehot.values())\n",
        "plt.title(\"F1 Score for Each Class on validation dataset\")\n",
        "plt.xlabel(\"Class (logistic_onehot)\")\n",
        "plt.ylabel(\"F1 Score\")\n",
        "plt.show()\n"
      ]
    },
    {
      "cell_type": "code",
      "execution_count": 24,
      "metadata": {
        "id": "jDn7eviuTuor",
        "colab": {
          "base_uri": "https://localhost:8080/"
        },
        "outputId": "fcce6536-af37-4d41-89a1-2cb4d62c502b"
      },
      "outputs": [
        {
          "output_type": "stream",
          "name": "stdout",
          "text": [
            "accuracy=0.794\n",
            "precision=0.793\n",
            "recall=0.778\n",
            "f1_logistic_tfidf=0.780\n"
          ]
        }
      ],
      "source": [
        "##LogisticRegression with TF_IDF vectorization\n",
        "vectorizer_tfidf = TfidfVectorizer()\n",
        "\n",
        "X_train_tftdf = vectorizer_tfidf.fit_transform(texts_train)\n",
        "\n",
        "X_val_tfidf = vectorizer_tfidf.transform(texts_val)\n",
        "\n",
        "clf = LogisticRegression(random_state=42)\n",
        "clf.fit(X_train_tftdf,labels_train)\n",
        "\n",
        "labels_predicted_TFIDF = clf.predict(X_val_tfidf)\n",
        "labels_predicted_TFIDF_train = clf.predict(X_train_tftdf)\n",
        "\n",
        "accuracy = accuracy_score(labels_val, labels_predicted_TFIDF)\n",
        "accuracy_train = accuracy_score(labels_train, labels_predicted_TFIDF_train)\n",
        "\n",
        "print(f\"{accuracy=:.3f}\")\n",
        "Accuracy.append([accuracy_train.round(3),accuracy.round(3)])\n",
        "\n",
        "precision = precision_score(labels_val, labels_predicted_TFIDF,average=\"macro\")\n",
        "precision_train = precision_score(labels_train, labels_predicted_TFIDF_train,average=\"macro\")\n",
        "\n",
        "print(f\"{precision=:.3f}\")\n",
        "Precision.append([precision_train.round(3),precision.round(3)])\n",
        "\n",
        "\n",
        "recall = recall_score(labels_val, labels_predicted_TFIDF,average=\"macro\")\n",
        "recall_train = recall_score(labels_train, labels_predicted_TFIDF_train,average=\"macro\")\n",
        "\n",
        "print(f\"{recall=:.3f}\")\n",
        "Recall.append([recall_train.round(3),recall.round(3)])\n",
        "\n",
        "\n",
        "f1_logistic_tfidf= f1_score(labels_val, labels_predicted_TFIDF,average=\"macro\")\n",
        "f1_logistic_tfidf_train= f1_score(labels_train, labels_predicted_TFIDF_train,average=\"macro\")\n",
        "\n",
        "print(f\"{f1_logistic_tfidf=:.3f}\")\n",
        "F1_Score.append([f1_logistic_tfidf_train.round(3),f1_logistic_tfidf.round(3)])\n",
        "\n"
      ]
    },
    {
      "cell_type": "code",
      "execution_count": 25,
      "metadata": {
        "id": "bgemwpQiPRsy",
        "colab": {
          "base_uri": "https://localhost:8080/",
          "height": 296
        },
        "outputId": "de6d9107-d61b-48ea-e9b6-0cfb3d98cd56"
      },
      "outputs": [
        {
          "output_type": "display_data",
          "data": {
            "text/plain": [
              "<Figure size 432x288 with 1 Axes>"
            ],
            "image/png": "[encoded data removed]"
          },
          "metadata": {
            "needs_background": "light"
          }
        }
      ],
      "source": [
        "f1_scores_each_class_logiIFIDF = {\n",
        "    'positive': f1_score(labels_val, labels_predicted_TFIDF, average='macro', labels=['positive']),\n",
        "    'neutral': f1_score(labels_val, labels_predicted_TFIDF, average='macro', labels=['neutral']),\n",
        "    'negative': f1_score(labels_val, labels_predicted_TFIDF, average='macro', labels=['negative'])\n",
        "}\n",
        "\n",
        "plt.bar(f1_scores_each_class_logiIFIDF.keys(), f1_scores_each_class_logiIFIDF.values(), color='green')\n",
        "plt.title(\"F1 Score for Each Class on validation dataset\")\n",
        "plt.xlabel(\"Class (logistic TFIDF)\")\n",
        "plt.ylabel(\"F1 Score\")\n",
        "plt.show()\n"
      ]
    },
    {
      "cell_type": "code",
      "execution_count": 26,
      "metadata": {
        "id": "9gEjtGgoiURZ",
        "colab": {
          "base_uri": "https://localhost:8080/"
        },
        "outputId": "4097009c-1ca3-4d6c-d932-8afdaec3b27b"
      },
      "outputs": [
        {
          "output_type": "stream",
          "name": "stdout",
          "text": [
            "accuracy=0.770\n",
            "precision=0.756\n",
            "recall=0.753\n",
            "f1_svc=0.754\n"
          ]
        }
      ],
      "source": [
        "from sklearn.svm import SVC\n",
        "### svc with one-hot vectorization\n",
        "\n",
        "clf = SVC(random_state=42)\n",
        "clf.fit(X_train_onehot,labels_train)\n",
        "\n",
        "labels_predicted_svc = clf.predict(X_val_onehot)\n",
        "labels_predicted_svc_train = clf.predict(X_train_onehot)\n",
        "\n",
        "accuracy = accuracy_score(labels_val, labels_predicted_svc)\n",
        "accuracy_train = accuracy_score(labels_train, labels_predicted_svc_train)\n",
        "\n",
        "print(f\"{accuracy=:.3f}\")\n",
        "Accuracy.append([accuracy_train.round(3),accuracy.round(3)])\n",
        "\n",
        "\n",
        "precision = precision_score(labels_val, labels_predicted_svc,average=\"macro\")\n",
        "precision_train = precision_score(labels_train, labels_predicted_svc_train,average=\"macro\")\n",
        "\n",
        "print(f\"{precision=:.3f}\")\n",
        "Precision.append([precision_train.round(3),precision.round(3)])\n",
        "\n",
        "\n",
        "recall = recall_score(labels_val, labels_predicted_svc,average=\"macro\")\n",
        "recall_train = recall_score(labels_train, labels_predicted_svc_train,average=\"macro\")\n",
        "\n",
        "print(f\"{recall=:.3f}\")\n",
        "Recall.append([recall_train.round(3),recall.round(3)])\n",
        "\n",
        "\n",
        "f1_svc = f1_score(labels_val, labels_predicted_svc,average=\"macro\")\n",
        "f1_svc_train= f1_score(labels_train, labels_predicted_svc_train,average=\"macro\")\n",
        "\n",
        "print(f\"{f1_svc=:.3f}\")\n",
        "F1_Score.append([f1_svc_train.round(3),f1_svc.round(3)])"
      ]
    },
    {
      "cell_type": "code",
      "execution_count": 27,
      "metadata": {
        "id": "ezbzheKwvWHX",
        "colab": {
          "base_uri": "https://localhost:8080/",
          "height": 296
        },
        "outputId": "77636077-5cd4-4e49-ced9-279bec23afe6"
      },
      "outputs": [
        {
          "output_type": "display_data",
          "data": {
            "text/plain": [
              "<Figure size 432x288 with 1 Axes>"
            ],
            "image/png": "[encoded data removed]"
          },
          "metadata": {
            "needs_background": "light"
          }
        }
      ],
      "source": [
        "f1_scores_each_class_svc = {\n",
        "    'positive': f1_score(labels_val, labels_predicted_svc, average='macro', labels=['positive']),\n",
        "    'neutral': f1_score(labels_val, labels_predicted_svc, average='macro', labels=['neutral']),\n",
        "    'negative': f1_score(labels_val, labels_predicted_svc, average='macro', labels=['negative'])\n",
        "}\n",
        "plt.bar(f1_scores_each_class_svc.keys(), f1_scores_each_class_svc.values())\n",
        "plt.title(\"F1 Score for Each Class on validation dataset\")\n",
        "plt.xlabel(\"Class (svc_one_hot)\")\n",
        "plt.ylabel(\"F1 Score\")\n",
        "plt.show()\n"
      ]
    },
    {
      "cell_type": "code",
      "source": [
        "table_data = [[\"metrics\", \"most frequent [train,val]\", \"most stratified [train,val]\", \"logistic one hot [train,val]\", \"logistic tfidf [train,val]\", \"svc onehot [train,val]\",\"my own classifier_knn\"],\n",
        "              Accuracy,\n",
        "              Precision,\n",
        "              Recall,F1_Score]\n",
        "tablefmt = \"fancy_grid\"\n",
        "headers = [\"\\033[34m{}\\033[0m\".format(header) for header in table_data[0]]\n",
        "table_data = [headers] + table_data[1:]\n",
        "colored_data = [[f\"\\033[32m{col}\\033[0m\" if isinstance(col, int) else col for col in row] for row in table_data]\n",
        "print(tabulate(colored_data, headers=\"firstrow\", tablefmt=tablefmt))"
      ],
      "metadata": {
        "colab": {
          "base_uri": "https://localhost:8080/"
        },
        "id": "YBgluNb0NvaO",
        "outputId": "dd4eb2d8-2724-4b2f-c4db-ed156e68d5e8"
      },
      "execution_count": 28,
      "outputs": [
        {
          "output_type": "stream",
          "name": "stdout",
          "text": [
            "╒═══════════╤═════════════════════════════╤═══════════════════════════════╤════════════════════════════════╤══════════════════════════════╤══════════════════════════╕\n",
            "│ \u001b[34mmetrics\u001b[0m   │ \u001b[34mmost frequent [train,val]\u001b[0m   │ \u001b[34mmost stratified [train,val]\u001b[0m   │ \u001b[34mlogistic one hot [train,val]\u001b[0m   │ \u001b[34mlogistic tfidf [train,val]\u001b[0m   │ \u001b[34msvc onehot [train,val]\u001b[0m   │\n",
            "╞═══════════╪═════════════════════════════╪═══════════════════════════════╪════════════════════════════════╪══════════════════════════════╪══════════════════════════╡\n",
            "│ Accuracy  │ [0.392, 0.43]               │ [0.332, 0.369]                │ [0.939, 0.794]                 │ [0.939, 0.794]               │ [0.98, 0.77]             │\n",
            "├───────────┼─────────────────────────────┼───────────────────────────────┼────────────────────────────────┼──────────────────────────────┼──────────────────────────┤\n",
            "│ Precision │ [0.131, 0.143]              │ [0.325, 0.363]                │ [0.94, 0.793]                  │ [0.94, 0.793]                │ [0.98, 0.756]            │\n",
            "├───────────┼─────────────────────────────┼───────────────────────────────┼────────────────────────────────┼──────────────────────────────┼──────────────────────────┤\n",
            "│ Recall    │ [0.333, 0.333]              │ [0.325, 0.363]                │ [0.936, 0.778]                 │ [0.936, 0.778]               │ [0.979, 0.753]           │\n",
            "├───────────┼─────────────────────────────┼───────────────────────────────┼────────────────────────────────┼──────────────────────────────┼──────────────────────────┤\n",
            "│ F1 score  │ [0.188, 0.201]              │ [0.325, 0.36]                 │ [0.937, 0.78]                  │ [0.937, 0.78]                │ [0.979, 0.754]           │\n",
            "╘═══════════╧═════════════════════════════╧═══════════════════════════════╧════════════════════════════════╧══════════════════════════════╧══════════════════════════╛\n"
          ]
        }
      ]
    },
    {
      "cell_type": "markdown",
      "source": [
        "**classifier b**"
      ],
      "metadata": {
        "id": "FkaMFvm-xcxC"
      }
    },
    {
      "cell_type": "code",
      "source": [
        "from sklearn.neighbors import KNeighborsClassifier"
      ],
      "metadata": {
        "id": "u2Ygx85MwRf_"
      },
      "execution_count": 29,
      "outputs": []
    },
    {
      "cell_type": "code",
      "source": [
        "##LogisticRegression with TF_IDF vectorization\n",
        "myownclassiferlist=[]\n",
        "vectorizer_tfidf_knn = TfidfVectorizer()\n",
        "X_train_tftdf_knn = vectorizer_tfidf_knn.fit_transform(texts_train)\n",
        "\n",
        "X_val_tfidf_knn = vectorizer_tfidf_knn.transform(texts_val)\n",
        "\n",
        "\n",
        "knn =KNeighborsClassifier(n_neighbors=3)\n",
        "knn.fit(X_train_tftdf_knn,labels_train)\n",
        "labels_predicted_TFIDF_knn = knn.predict(X_val_tfidf_knn)\n",
        "accuracy = accuracy_score(labels_val, labels_predicted_TFIDF_knn)\n",
        "print(f\"{accuracy=:.3f}\")\n",
        "myownclassiferlist.append(accuracy.round(3))\n",
        "\n",
        "precision = precision_score(labels_val, labels_predicted_TFIDF_knn,average=\"macro\")\n",
        "print(f\"{precision=:.3f}\")\n",
        "myownclassiferlist.append(precision.round(3))\n",
        "\n",
        "recall = recall_score(labels_val, labels_predicted_TFIDF_knn,average=\"macro\")\n",
        "print(f\"{recall=:.3f}\")\n",
        "myownclassiferlist.append(recall.round(3))\n",
        "\n",
        "f1_logistic_tfidf_knn= f1_score(labels_val, labels_predicted_TFIDF_knn,average=\"macro\")\n",
        "print(f\"{f1_logistic_tfidf_knn=:.3f}\")\n",
        "myownclassiferlist.append(f1_logistic_tfidf_knn.round(3))\n"
      ],
      "metadata": {
        "colab": {
          "base_uri": "https://localhost:8080/"
        },
        "id": "axQ0-YJExjR1",
        "outputId": "db163874-5cbe-4a14-b1ba-9016de8e878a"
      },
      "execution_count": 30,
      "outputs": [
        {
          "output_type": "stream",
          "name": "stdout",
          "text": [
            "accuracy=0.477\n",
            "precision=0.611\n",
            "recall=0.459\n",
            "f1_logistic_tfidf_knn=0.417\n"
          ]
        }
      ]
    },
    {
      "cell_type": "code",
      "source": [
        "accuracy_knn = [Accuracy[i][1] for i in range(1,6)]\n",
        "precision_knn = [Precision[i][1] for i in range(1,6)]\n",
        "recall_knn = [Recall[i][1] for i in range(1,6)]\n",
        "f1_score_knn = [F1_Score[i][1] for i in range(1,6)]\n",
        "accuracy_knn=[\"Accuracy\"]+accuracy_knn+[myownclassiferlist[0]]\n",
        "precision_knn=[\"Precision\"]+precision_knn+[myownclassiferlist[1]]\n",
        "recall_knn=[\"Recall\"]+recall_knn+[myownclassiferlist[2]]\n",
        "f1_score_knn=[\"F1 score\"]+f1_score_knn+[myownclassiferlist[3]]\n"
      ],
      "metadata": {
        "id": "AeRlrTPSMGLQ"
      },
      "execution_count": 31,
      "outputs": []
    },
    {
      "cell_type": "code",
      "source": [
        "table_data = [[\"metrics\", \"most frequent\", \"most stratified \", \"logistic one hot\", \"logistic tfidf\", \"svc onehot \",\"ownclassifier_knn_TFIDF\"],\n",
        "              accuracy_knn,\n",
        "              precision_knn,\n",
        "              recall_knn,f1_score_knn]\n",
        "tablefmt = \"fancy_grid\"\n",
        "headers = [\"\\033[34m{}\\033[0m\".format(header) for header in table_data[0]]\n",
        "table_data = [headers] + table_data[1:]\n",
        "colored_data = [[f\"\\033[32m{col}\\033[0m\" if isinstance(col, int) else col for col in row] for row in table_data]\n",
        "print(tabulate(colored_data, headers=\"firstrow\", tablefmt=tablefmt))"
      ],
      "metadata": {
        "colab": {
          "base_uri": "https://localhost:8080/"
        },
        "id": "IrmH9e5qPOok",
        "outputId": "6b160f87-70b4-441e-8bb7-3dcddbfc48d0"
      },
      "execution_count": 32,
      "outputs": [
        {
          "output_type": "stream",
          "name": "stdout",
          "text": [
            "╒═══════════╤═════════════════╤════════════════════╤════════════════════╤══════════════════╤═══════════════╤═══════════════════════════╕\n",
            "│ \u001b[34mmetrics\u001b[0m   │   \u001b[34mmost frequent\u001b[0m │   \u001b[34mmost stratified \u001b[0m │   \u001b[34mlogistic one hot\u001b[0m │   \u001b[34mlogistic tfidf\u001b[0m │   \u001b[34msvc onehot \u001b[0m │   \u001b[34mownclassifier_knn_TFIDF\u001b[0m │\n",
            "╞═══════════╪═════════════════╪════════════════════╪════════════════════╪══════════════════╪═══════════════╪═══════════════════════════╡\n",
            "│ Accuracy  │           0.43  │              0.369 │              0.794 │            0.794 │         0.77  │                     0.477 │\n",
            "├───────────┼─────────────────┼────────────────────┼────────────────────┼──────────────────┼───────────────┼───────────────────────────┤\n",
            "│ Precision │           0.143 │              0.363 │              0.793 │            0.793 │         0.756 │                     0.611 │\n",
            "├───────────┼─────────────────┼────────────────────┼────────────────────┼──────────────────┼───────────────┼───────────────────────────┤\n",
            "│ Recall    │           0.333 │              0.363 │              0.778 │            0.778 │         0.753 │                     0.459 │\n",
            "├───────────┼─────────────────┼────────────────────┼────────────────────┼──────────────────┼───────────────┼───────────────────────────┤\n",
            "│ F1 score  │           0.201 │              0.36  │              0.78  │            0.78  │         0.754 │                     0.417 │\n",
            "╘═══════════╧═════════════════╧════════════════════╧════════════════════╧══════════════════╧═══════════════╧═══════════════════════════╛\n"
          ]
        }
      ]
    },
    {
      "cell_type": "code",
      "source": [
        "import matplotlib.pyplot as plt\n",
        "labels = ['Dummy_most_frequent', 'Dummy_strtified', 'logistic_onehot','logistic_TFIDF','svc_onehot','KNN_OwnClassifier']\n",
        "sizes = [0.201, 0.341, 0.787,0.787,0.753,0.457]\n",
        "fig, ax = plt.subplots()\n",
        "ax.pie(sizes, labels=labels, autopct='%1.1f%%', startangle=90)\n",
        "\n",
        "ax.set_title('F1 score')\n",
        "plt.show()\n"
      ],
      "metadata": {
        "colab": {
          "base_uri": "https://localhost:8080/",
          "height": 264
        },
        "id": "6Z3IIgIH0I5o",
        "outputId": "ffc8ddce-07ac-4fb4-e850-b911406b14b7"
      },
      "execution_count": 33,
      "outputs": [
        {
          "output_type": "display_data",
          "data": {
            "text/plain": [
              "<Figure size 432x288 with 1 Axes>"
            ],
            "image/png": "[encoded data removed]"
          },
          "metadata": {}
        }
      ]
    },
    {
      "cell_type": "markdown",
      "source": [
        "# **tuning**\n"
      ],
      "metadata": {
        "id": "FrzOWEiB7x_j"
      }
    },
    {
      "cell_type": "code",
      "source": [
        "Accuracy_tuninglist=[\"Accuracy\",accuracy_knn[4]]\n",
        "Precision_tuninglist=[\"Precision\",precision_knn[4]]\n",
        "Recall_tuninglist=[\"Recall\",recall_knn[4]]\n",
        "F1_score_tuninglist=[\"F1 score\",f1_score_knn[4]]"
      ],
      "metadata": {
        "id": "gSS_BFDV75_T"
      },
      "execution_count": 34,
      "outputs": []
    },
    {
      "cell_type": "code",
      "source": [
        "##LogisticRegression with TF_IDF vectorization tuning for best performance\n",
        "from sklearn.model_selection import ParameterGrid\n",
        "\n",
        "\n",
        "param_grid = {'C': [1,2,3,4,5,6], 'max_features': [len(val_list)],'min_df':[1,2,3,4,5,6,7,8,9],'sublinear_tf':[False,True]}\n",
        "best_params, best_f1 = None, 0\n",
        "best_accuracy=0\n",
        "best_recall=0\n",
        "best_precision=0\n",
        "for params in ParameterGrid(param_grid):\n",
        "    vectorizer = TfidfVectorizer(min_df=params['min_df'],sublinear_tf=params['sublinear_tf'],max_features=params['max_features'])\n",
        "    X_train = vectorizer.fit_transform(texts_train)\n",
        "    X_val = vectorizer.transform(texts_val)\n",
        "    \n",
        "    clf = LogisticRegression(random_state=42, C=params['C'])\n",
        "    clf.fit(X_train,labels_train)\n",
        "    \n",
        "    labels_predicted = clf.predict(X_val)\n",
        "    \n",
        "    f1 = f1_score(labels_val, labels_predicted,average=\"macro\")\n",
        "    accuracy = accuracy_score(labels_val, labels_predicted_TFIDF)\n",
        "    precision = precision_score(labels_val, labels_predicted_TFIDF,average=\"macro\")\n",
        "    recall = recall_score(labels_val, labels_predicted_TFIDF,average=\"macro\")\n",
        "\n",
        "    print(f\"  Evaluating {params=} {accuracy=:.3f}\")\n",
        "    print(f\"  Evaluating {params=} {precision=:.3f}\")\n",
        "    print(f\"  Evaluating {params=} {recall=:.3f}\")\n",
        "    print(f\"  Evaluating {params=} {f1=:.3f}\")\n",
        "\n",
        "    if f1 > best_f1 :\n",
        "        best_params = params\n",
        "        best_f1 = f1\n",
        "       \n",
        "    if accuracy>best_accuracy:\n",
        "      best_params = params\n",
        "      best_accuracy=accuracy\n",
        "\n",
        "    if precision>best_precision:\n",
        "      best_params = params\n",
        "      best_precision=precision\n",
        "\n",
        "    if recall>best_recall:\n",
        "      best_params = params\n",
        "      best_recall=recall\n",
        "\n",
        "      \n",
        "print(f\"{best_params=}\")\n",
        "print(f\"{best_f1=:.3f}\")\n",
        "print(f\"{best_accuracy=:.3f}\")\n",
        "print(f\"{best_precision=:.3f}\")\n",
        "print(f\"{best_recall=:.3f}\")\n",
        "\n",
        "\n"
      ],
      "metadata": {
        "colab": {
          "base_uri": "https://localhost:8080/"
        },
        "id": "szMJ-Toj4Bkt",
        "outputId": "a0cf6ccb-c6f7-40c1-e2b9-6d3364478440"
      },
      "execution_count": 35,
      "outputs": [
        {
          "output_type": "stream",
          "name": "stdout",
          "text": [
            "  Evaluating params={'C': 1, 'max_features': 1690, 'min_df': 1, 'sublinear_tf': False} accuracy=0.794\n",
            "  Evaluating params={'C': 1, 'max_features': 1690, 'min_df': 1, 'sublinear_tf': False} precision=0.793\n",
            "  Evaluating params={'C': 1, 'max_features': 1690, 'min_df': 1, 'sublinear_tf': False} recall=0.778\n",
            "  Evaluating params={'C': 1, 'max_features': 1690, 'min_df': 1, 'sublinear_tf': False} f1=0.780\n",
            "  Evaluating params={'C': 1, 'max_features': 1690, 'min_df': 1, 'sublinear_tf': True} accuracy=0.794\n",
            "  Evaluating params={'C': 1, 'max_features': 1690, 'min_df': 1, 'sublinear_tf': True} precision=0.793\n",
            "  Evaluating params={'C': 1, 'max_features': 1690, 'min_df': 1, 'sublinear_tf': True} recall=0.778\n",
            "  Evaluating params={'C': 1, 'max_features': 1690, 'min_df': 1, 'sublinear_tf': True} f1=0.788\n",
            "  Evaluating params={'C': 1, 'max_features': 1690, 'min_df': 2, 'sublinear_tf': False} accuracy=0.794\n",
            "  Evaluating params={'C': 1, 'max_features': 1690, 'min_df': 2, 'sublinear_tf': False} precision=0.793\n",
            "  Evaluating params={'C': 1, 'max_features': 1690, 'min_df': 2, 'sublinear_tf': False} recall=0.778\n",
            "  Evaluating params={'C': 1, 'max_features': 1690, 'min_df': 2, 'sublinear_tf': False} f1=0.803\n",
            "  Evaluating params={'C': 1, 'max_features': 1690, 'min_df': 2, 'sublinear_tf': True} accuracy=0.794\n",
            "  Evaluating params={'C': 1, 'max_features': 1690, 'min_df': 2, 'sublinear_tf': True} precision=0.793\n",
            "  Evaluating params={'C': 1, 'max_features': 1690, 'min_df': 2, 'sublinear_tf': True} recall=0.778\n",
            "  Evaluating params={'C': 1, 'max_features': 1690, 'min_df': 2, 'sublinear_tf': True} f1=0.796\n",
            "  Evaluating params={'C': 1, 'max_features': 1690, 'min_df': 3, 'sublinear_tf': False} accuracy=0.794\n",
            "  Evaluating params={'C': 1, 'max_features': 1690, 'min_df': 3, 'sublinear_tf': False} precision=0.793\n",
            "  Evaluating params={'C': 1, 'max_features': 1690, 'min_df': 3, 'sublinear_tf': False} recall=0.778\n",
            "  Evaluating params={'C': 1, 'max_features': 1690, 'min_df': 3, 'sublinear_tf': False} f1=0.797\n",
            "  Evaluating params={'C': 1, 'max_features': 1690, 'min_df': 3, 'sublinear_tf': True} accuracy=0.794\n",
            "  Evaluating params={'C': 1, 'max_features': 1690, 'min_df': 3, 'sublinear_tf': True} precision=0.793\n",
            "  Evaluating params={'C': 1, 'max_features': 1690, 'min_df': 3, 'sublinear_tf': True} recall=0.778\n",
            "  Evaluating params={'C': 1, 'max_features': 1690, 'min_df': 3, 'sublinear_tf': True} f1=0.801\n",
            "  Evaluating params={'C': 1, 'max_features': 1690, 'min_df': 4, 'sublinear_tf': False} accuracy=0.794\n",
            "  Evaluating params={'C': 1, 'max_features': 1690, 'min_df': 4, 'sublinear_tf': False} precision=0.793\n",
            "  Evaluating params={'C': 1, 'max_features': 1690, 'min_df': 4, 'sublinear_tf': False} recall=0.778\n",
            "  Evaluating params={'C': 1, 'max_features': 1690, 'min_df': 4, 'sublinear_tf': False} f1=0.784\n",
            "  Evaluating params={'C': 1, 'max_features': 1690, 'min_df': 4, 'sublinear_tf': True} accuracy=0.794\n",
            "  Evaluating params={'C': 1, 'max_features': 1690, 'min_df': 4, 'sublinear_tf': True} precision=0.793\n",
            "  Evaluating params={'C': 1, 'max_features': 1690, 'min_df': 4, 'sublinear_tf': True} recall=0.778\n",
            "  Evaluating params={'C': 1, 'max_features': 1690, 'min_df': 4, 'sublinear_tf': True} f1=0.788\n",
            "  Evaluating params={'C': 1, 'max_features': 1690, 'min_df': 5, 'sublinear_tf': False} accuracy=0.794\n",
            "  Evaluating params={'C': 1, 'max_features': 1690, 'min_df': 5, 'sublinear_tf': False} precision=0.793\n",
            "  Evaluating params={'C': 1, 'max_features': 1690, 'min_df': 5, 'sublinear_tf': False} recall=0.778\n",
            "  Evaluating params={'C': 1, 'max_features': 1690, 'min_df': 5, 'sublinear_tf': False} f1=0.800\n",
            "  Evaluating params={'C': 1, 'max_features': 1690, 'min_df': 5, 'sublinear_tf': True} accuracy=0.794\n",
            "  Evaluating params={'C': 1, 'max_features': 1690, 'min_df': 5, 'sublinear_tf': True} precision=0.793\n",
            "  Evaluating params={'C': 1, 'max_features': 1690, 'min_df': 5, 'sublinear_tf': True} recall=0.778\n",
            "  Evaluating params={'C': 1, 'max_features': 1690, 'min_df': 5, 'sublinear_tf': True} f1=0.795\n",
            "  Evaluating params={'C': 1, 'max_features': 1690, 'min_df': 6, 'sublinear_tf': False} accuracy=0.794\n",
            "  Evaluating params={'C': 1, 'max_features': 1690, 'min_df': 6, 'sublinear_tf': False} precision=0.793\n",
            "  Evaluating params={'C': 1, 'max_features': 1690, 'min_df': 6, 'sublinear_tf': False} recall=0.778\n",
            "  Evaluating params={'C': 1, 'max_features': 1690, 'min_df': 6, 'sublinear_tf': False} f1=0.783\n",
            "  Evaluating params={'C': 1, 'max_features': 1690, 'min_df': 6, 'sublinear_tf': True} accuracy=0.794\n",
            "  Evaluating params={'C': 1, 'max_features': 1690, 'min_df': 6, 'sublinear_tf': True} precision=0.793\n",
            "  Evaluating params={'C': 1, 'max_features': 1690, 'min_df': 6, 'sublinear_tf': True} recall=0.778\n",
            "  Evaluating params={'C': 1, 'max_features': 1690, 'min_df': 6, 'sublinear_tf': True} f1=0.790\n",
            "  Evaluating params={'C': 1, 'max_features': 1690, 'min_df': 7, 'sublinear_tf': False} accuracy=0.794\n",
            "  Evaluating params={'C': 1, 'max_features': 1690, 'min_df': 7, 'sublinear_tf': False} precision=0.793\n",
            "  Evaluating params={'C': 1, 'max_features': 1690, 'min_df': 7, 'sublinear_tf': False} recall=0.778\n",
            "  Evaluating params={'C': 1, 'max_features': 1690, 'min_df': 7, 'sublinear_tf': False} f1=0.775\n",
            "  Evaluating params={'C': 1, 'max_features': 1690, 'min_df': 7, 'sublinear_tf': True} accuracy=0.794\n",
            "  Evaluating params={'C': 1, 'max_features': 1690, 'min_df': 7, 'sublinear_tf': True} precision=0.793\n",
            "  Evaluating params={'C': 1, 'max_features': 1690, 'min_df': 7, 'sublinear_tf': True} recall=0.778\n",
            "  Evaluating params={'C': 1, 'max_features': 1690, 'min_df': 7, 'sublinear_tf': True} f1=0.778\n",
            "  Evaluating params={'C': 1, 'max_features': 1690, 'min_df': 8, 'sublinear_tf': False} accuracy=0.794\n",
            "  Evaluating params={'C': 1, 'max_features': 1690, 'min_df': 8, 'sublinear_tf': False} precision=0.793\n",
            "  Evaluating params={'C': 1, 'max_features': 1690, 'min_df': 8, 'sublinear_tf': False} recall=0.778\n",
            "  Evaluating params={'C': 1, 'max_features': 1690, 'min_df': 8, 'sublinear_tf': False} f1=0.769\n",
            "  Evaluating params={'C': 1, 'max_features': 1690, 'min_df': 8, 'sublinear_tf': True} accuracy=0.794\n",
            "  Evaluating params={'C': 1, 'max_features': 1690, 'min_df': 8, 'sublinear_tf': True} precision=0.793\n",
            "  Evaluating params={'C': 1, 'max_features': 1690, 'min_df': 8, 'sublinear_tf': True} recall=0.778\n",
            "  Evaluating params={'C': 1, 'max_features': 1690, 'min_df': 8, 'sublinear_tf': True} f1=0.765\n",
            "  Evaluating params={'C': 1, 'max_features': 1690, 'min_df': 9, 'sublinear_tf': False} accuracy=0.794\n",
            "  Evaluating params={'C': 1, 'max_features': 1690, 'min_df': 9, 'sublinear_tf': False} precision=0.793\n",
            "  Evaluating params={'C': 1, 'max_features': 1690, 'min_df': 9, 'sublinear_tf': False} recall=0.778\n",
            "  Evaluating params={'C': 1, 'max_features': 1690, 'min_df': 9, 'sublinear_tf': False} f1=0.772\n",
            "  Evaluating params={'C': 1, 'max_features': 1690, 'min_df': 9, 'sublinear_tf': True} accuracy=0.794\n",
            "  Evaluating params={'C': 1, 'max_features': 1690, 'min_df': 9, 'sublinear_tf': True} precision=0.793\n",
            "  Evaluating params={'C': 1, 'max_features': 1690, 'min_df': 9, 'sublinear_tf': True} recall=0.778\n",
            "  Evaluating params={'C': 1, 'max_features': 1690, 'min_df': 9, 'sublinear_tf': True} f1=0.765\n",
            "  Evaluating params={'C': 2, 'max_features': 1690, 'min_df': 1, 'sublinear_tf': False} accuracy=0.794\n",
            "  Evaluating params={'C': 2, 'max_features': 1690, 'min_df': 1, 'sublinear_tf': False} precision=0.793\n",
            "  Evaluating params={'C': 2, 'max_features': 1690, 'min_df': 1, 'sublinear_tf': False} recall=0.778\n",
            "  Evaluating params={'C': 2, 'max_features': 1690, 'min_df': 1, 'sublinear_tf': False} f1=0.777\n",
            "  Evaluating params={'C': 2, 'max_features': 1690, 'min_df': 1, 'sublinear_tf': True} accuracy=0.794\n",
            "  Evaluating params={'C': 2, 'max_features': 1690, 'min_df': 1, 'sublinear_tf': True} precision=0.793\n",
            "  Evaluating params={'C': 2, 'max_features': 1690, 'min_df': 1, 'sublinear_tf': True} recall=0.778\n",
            "  Evaluating params={'C': 2, 'max_features': 1690, 'min_df': 1, 'sublinear_tf': True} f1=0.782\n",
            "  Evaluating params={'C': 2, 'max_features': 1690, 'min_df': 2, 'sublinear_tf': False} accuracy=0.794\n",
            "  Evaluating params={'C': 2, 'max_features': 1690, 'min_df': 2, 'sublinear_tf': False} precision=0.793\n",
            "  Evaluating params={'C': 2, 'max_features': 1690, 'min_df': 2, 'sublinear_tf': False} recall=0.778\n",
            "  Evaluating params={'C': 2, 'max_features': 1690, 'min_df': 2, 'sublinear_tf': False} f1=0.795\n",
            "  Evaluating params={'C': 2, 'max_features': 1690, 'min_df': 2, 'sublinear_tf': True} accuracy=0.794\n",
            "  Evaluating params={'C': 2, 'max_features': 1690, 'min_df': 2, 'sublinear_tf': True} precision=0.793\n",
            "  Evaluating params={'C': 2, 'max_features': 1690, 'min_df': 2, 'sublinear_tf': True} recall=0.778\n",
            "  Evaluating params={'C': 2, 'max_features': 1690, 'min_df': 2, 'sublinear_tf': True} f1=0.804\n",
            "  Evaluating params={'C': 2, 'max_features': 1690, 'min_df': 3, 'sublinear_tf': False} accuracy=0.794\n",
            "  Evaluating params={'C': 2, 'max_features': 1690, 'min_df': 3, 'sublinear_tf': False} precision=0.793\n",
            "  Evaluating params={'C': 2, 'max_features': 1690, 'min_df': 3, 'sublinear_tf': False} recall=0.778\n",
            "  Evaluating params={'C': 2, 'max_features': 1690, 'min_df': 3, 'sublinear_tf': False} f1=0.796\n",
            "  Evaluating params={'C': 2, 'max_features': 1690, 'min_df': 3, 'sublinear_tf': True} accuracy=0.794\n",
            "  Evaluating params={'C': 2, 'max_features': 1690, 'min_df': 3, 'sublinear_tf': True} precision=0.793\n",
            "  Evaluating params={'C': 2, 'max_features': 1690, 'min_df': 3, 'sublinear_tf': True} recall=0.778\n",
            "  Evaluating params={'C': 2, 'max_features': 1690, 'min_df': 3, 'sublinear_tf': True} f1=0.798\n",
            "  Evaluating params={'C': 2, 'max_features': 1690, 'min_df': 4, 'sublinear_tf': False} accuracy=0.794\n",
            "  Evaluating params={'C': 2, 'max_features': 1690, 'min_df': 4, 'sublinear_tf': False} precision=0.793\n",
            "  Evaluating params={'C': 2, 'max_features': 1690, 'min_df': 4, 'sublinear_tf': False} recall=0.778\n",
            "  Evaluating params={'C': 2, 'max_features': 1690, 'min_df': 4, 'sublinear_tf': False} f1=0.797\n",
            "  Evaluating params={'C': 2, 'max_features': 1690, 'min_df': 4, 'sublinear_tf': True} accuracy=0.794\n",
            "  Evaluating params={'C': 2, 'max_features': 1690, 'min_df': 4, 'sublinear_tf': True} precision=0.793\n",
            "  Evaluating params={'C': 2, 'max_features': 1690, 'min_df': 4, 'sublinear_tf': True} recall=0.778\n",
            "  Evaluating params={'C': 2, 'max_features': 1690, 'min_df': 4, 'sublinear_tf': True} f1=0.802\n",
            "  Evaluating params={'C': 2, 'max_features': 1690, 'min_df': 5, 'sublinear_tf': False} accuracy=0.794\n",
            "  Evaluating params={'C': 2, 'max_features': 1690, 'min_df': 5, 'sublinear_tf': False} precision=0.793\n",
            "  Evaluating params={'C': 2, 'max_features': 1690, 'min_df': 5, 'sublinear_tf': False} recall=0.778\n",
            "  Evaluating params={'C': 2, 'max_features': 1690, 'min_df': 5, 'sublinear_tf': False} f1=0.800\n",
            "  Evaluating params={'C': 2, 'max_features': 1690, 'min_df': 5, 'sublinear_tf': True} accuracy=0.794\n",
            "  Evaluating params={'C': 2, 'max_features': 1690, 'min_df': 5, 'sublinear_tf': True} precision=0.793\n",
            "  Evaluating params={'C': 2, 'max_features': 1690, 'min_df': 5, 'sublinear_tf': True} recall=0.778\n",
            "  Evaluating params={'C': 2, 'max_features': 1690, 'min_df': 5, 'sublinear_tf': True} f1=0.808\n",
            "  Evaluating params={'C': 2, 'max_features': 1690, 'min_df': 6, 'sublinear_tf': False} accuracy=0.794\n",
            "  Evaluating params={'C': 2, 'max_features': 1690, 'min_df': 6, 'sublinear_tf': False} precision=0.793\n",
            "  Evaluating params={'C': 2, 'max_features': 1690, 'min_df': 6, 'sublinear_tf': False} recall=0.778\n",
            "  Evaluating params={'C': 2, 'max_features': 1690, 'min_df': 6, 'sublinear_tf': False} f1=0.796\n",
            "  Evaluating params={'C': 2, 'max_features': 1690, 'min_df': 6, 'sublinear_tf': True} accuracy=0.794\n",
            "  Evaluating params={'C': 2, 'max_features': 1690, 'min_df': 6, 'sublinear_tf': True} precision=0.793\n",
            "  Evaluating params={'C': 2, 'max_features': 1690, 'min_df': 6, 'sublinear_tf': True} recall=0.778\n",
            "  Evaluating params={'C': 2, 'max_features': 1690, 'min_df': 6, 'sublinear_tf': True} f1=0.801\n",
            "  Evaluating params={'C': 2, 'max_features': 1690, 'min_df': 7, 'sublinear_tf': False} accuracy=0.794\n",
            "  Evaluating params={'C': 2, 'max_features': 1690, 'min_df': 7, 'sublinear_tf': False} precision=0.793\n",
            "  Evaluating params={'C': 2, 'max_features': 1690, 'min_df': 7, 'sublinear_tf': False} recall=0.778\n",
            "  Evaluating params={'C': 2, 'max_features': 1690, 'min_df': 7, 'sublinear_tf': False} f1=0.796\n",
            "  Evaluating params={'C': 2, 'max_features': 1690, 'min_df': 7, 'sublinear_tf': True} accuracy=0.794\n",
            "  Evaluating params={'C': 2, 'max_features': 1690, 'min_df': 7, 'sublinear_tf': True} precision=0.793\n",
            "  Evaluating params={'C': 2, 'max_features': 1690, 'min_df': 7, 'sublinear_tf': True} recall=0.778\n",
            "  Evaluating params={'C': 2, 'max_features': 1690, 'min_df': 7, 'sublinear_tf': True} f1=0.793\n",
            "  Evaluating params={'C': 2, 'max_features': 1690, 'min_df': 8, 'sublinear_tf': False} accuracy=0.794\n",
            "  Evaluating params={'C': 2, 'max_features': 1690, 'min_df': 8, 'sublinear_tf': False} precision=0.793\n",
            "  Evaluating params={'C': 2, 'max_features': 1690, 'min_df': 8, 'sublinear_tf': False} recall=0.778\n",
            "  Evaluating params={'C': 2, 'max_features': 1690, 'min_df': 8, 'sublinear_tf': False} f1=0.778\n",
            "  Evaluating params={'C': 2, 'max_features': 1690, 'min_df': 8, 'sublinear_tf': True} accuracy=0.794\n",
            "  Evaluating params={'C': 2, 'max_features': 1690, 'min_df': 8, 'sublinear_tf': True} precision=0.793\n",
            "  Evaluating params={'C': 2, 'max_features': 1690, 'min_df': 8, 'sublinear_tf': True} recall=0.778\n",
            "  Evaluating params={'C': 2, 'max_features': 1690, 'min_df': 8, 'sublinear_tf': True} f1=0.781\n",
            "  Evaluating params={'C': 2, 'max_features': 1690, 'min_df': 9, 'sublinear_tf': False} accuracy=0.794\n",
            "  Evaluating params={'C': 2, 'max_features': 1690, 'min_df': 9, 'sublinear_tf': False} precision=0.793\n",
            "  Evaluating params={'C': 2, 'max_features': 1690, 'min_df': 9, 'sublinear_tf': False} recall=0.778\n",
            "  Evaluating params={'C': 2, 'max_features': 1690, 'min_df': 9, 'sublinear_tf': False} f1=0.778\n",
            "  Evaluating params={'C': 2, 'max_features': 1690, 'min_df': 9, 'sublinear_tf': True} accuracy=0.794\n",
            "  Evaluating params={'C': 2, 'max_features': 1690, 'min_df': 9, 'sublinear_tf': True} precision=0.793\n",
            "  Evaluating params={'C': 2, 'max_features': 1690, 'min_df': 9, 'sublinear_tf': True} recall=0.778\n",
            "  Evaluating params={'C': 2, 'max_features': 1690, 'min_df': 9, 'sublinear_tf': True} f1=0.778\n",
            "  Evaluating params={'C': 3, 'max_features': 1690, 'min_df': 1, 'sublinear_tf': False} accuracy=0.794\n",
            "  Evaluating params={'C': 3, 'max_features': 1690, 'min_df': 1, 'sublinear_tf': False} precision=0.793\n",
            "  Evaluating params={'C': 3, 'max_features': 1690, 'min_df': 1, 'sublinear_tf': False} recall=0.778\n",
            "  Evaluating params={'C': 3, 'max_features': 1690, 'min_df': 1, 'sublinear_tf': False} f1=0.796\n",
            "  Evaluating params={'C': 3, 'max_features': 1690, 'min_df': 1, 'sublinear_tf': True} accuracy=0.794\n",
            "  Evaluating params={'C': 3, 'max_features': 1690, 'min_df': 1, 'sublinear_tf': True} precision=0.793\n",
            "  Evaluating params={'C': 3, 'max_features': 1690, 'min_df': 1, 'sublinear_tf': True} recall=0.778\n",
            "  Evaluating params={'C': 3, 'max_features': 1690, 'min_df': 1, 'sublinear_tf': True} f1=0.780\n",
            "  Evaluating params={'C': 3, 'max_features': 1690, 'min_df': 2, 'sublinear_tf': False} accuracy=0.794\n",
            "  Evaluating params={'C': 3, 'max_features': 1690, 'min_df': 2, 'sublinear_tf': False} precision=0.793\n",
            "  Evaluating params={'C': 3, 'max_features': 1690, 'min_df': 2, 'sublinear_tf': False} recall=0.778\n",
            "  Evaluating params={'C': 3, 'max_features': 1690, 'min_df': 2, 'sublinear_tf': False} f1=0.800\n",
            "  Evaluating params={'C': 3, 'max_features': 1690, 'min_df': 2, 'sublinear_tf': True} accuracy=0.794\n",
            "  Evaluating params={'C': 3, 'max_features': 1690, 'min_df': 2, 'sublinear_tf': True} precision=0.793\n",
            "  Evaluating params={'C': 3, 'max_features': 1690, 'min_df': 2, 'sublinear_tf': True} recall=0.778\n",
            "  Evaluating params={'C': 3, 'max_features': 1690, 'min_df': 2, 'sublinear_tf': True} f1=0.795\n",
            "  Evaluating params={'C': 3, 'max_features': 1690, 'min_df': 3, 'sublinear_tf': False} accuracy=0.794\n",
            "  Evaluating params={'C': 3, 'max_features': 1690, 'min_df': 3, 'sublinear_tf': False} precision=0.793\n",
            "  Evaluating params={'C': 3, 'max_features': 1690, 'min_df': 3, 'sublinear_tf': False} recall=0.778\n",
            "  Evaluating params={'C': 3, 'max_features': 1690, 'min_df': 3, 'sublinear_tf': False} f1=0.790\n",
            "  Evaluating params={'C': 3, 'max_features': 1690, 'min_df': 3, 'sublinear_tf': True} accuracy=0.794\n",
            "  Evaluating params={'C': 3, 'max_features': 1690, 'min_df': 3, 'sublinear_tf': True} precision=0.793\n",
            "  Evaluating params={'C': 3, 'max_features': 1690, 'min_df': 3, 'sublinear_tf': True} recall=0.778\n",
            "  Evaluating params={'C': 3, 'max_features': 1690, 'min_df': 3, 'sublinear_tf': True} f1=0.801\n",
            "  Evaluating params={'C': 3, 'max_features': 1690, 'min_df': 4, 'sublinear_tf': False} accuracy=0.794\n",
            "  Evaluating params={'C': 3, 'max_features': 1690, 'min_df': 4, 'sublinear_tf': False} precision=0.793\n",
            "  Evaluating params={'C': 3, 'max_features': 1690, 'min_df': 4, 'sublinear_tf': False} recall=0.778\n",
            "  Evaluating params={'C': 3, 'max_features': 1690, 'min_df': 4, 'sublinear_tf': False} f1=0.797\n",
            "  Evaluating params={'C': 3, 'max_features': 1690, 'min_df': 4, 'sublinear_tf': True} accuracy=0.794\n",
            "  Evaluating params={'C': 3, 'max_features': 1690, 'min_df': 4, 'sublinear_tf': True} precision=0.793\n",
            "  Evaluating params={'C': 3, 'max_features': 1690, 'min_df': 4, 'sublinear_tf': True} recall=0.778\n",
            "  Evaluating params={'C': 3, 'max_features': 1690, 'min_df': 4, 'sublinear_tf': True} f1=0.804\n",
            "  Evaluating params={'C': 3, 'max_features': 1690, 'min_df': 5, 'sublinear_tf': False} accuracy=0.794\n",
            "  Evaluating params={'C': 3, 'max_features': 1690, 'min_df': 5, 'sublinear_tf': False} precision=0.793\n",
            "  Evaluating params={'C': 3, 'max_features': 1690, 'min_df': 5, 'sublinear_tf': False} recall=0.778\n",
            "  Evaluating params={'C': 3, 'max_features': 1690, 'min_df': 5, 'sublinear_tf': False} f1=0.803\n",
            "  Evaluating params={'C': 3, 'max_features': 1690, 'min_df': 5, 'sublinear_tf': True} accuracy=0.794\n",
            "  Evaluating params={'C': 3, 'max_features': 1690, 'min_df': 5, 'sublinear_tf': True} precision=0.793\n",
            "  Evaluating params={'C': 3, 'max_features': 1690, 'min_df': 5, 'sublinear_tf': True} recall=0.778\n",
            "  Evaluating params={'C': 3, 'max_features': 1690, 'min_df': 5, 'sublinear_tf': True} f1=0.811\n",
            "  Evaluating params={'C': 3, 'max_features': 1690, 'min_df': 6, 'sublinear_tf': False} accuracy=0.794\n",
            "  Evaluating params={'C': 3, 'max_features': 1690, 'min_df': 6, 'sublinear_tf': False} precision=0.793\n",
            "  Evaluating params={'C': 3, 'max_features': 1690, 'min_df': 6, 'sublinear_tf': False} recall=0.778\n",
            "  Evaluating params={'C': 3, 'max_features': 1690, 'min_df': 6, 'sublinear_tf': False} f1=0.797\n",
            "  Evaluating params={'C': 3, 'max_features': 1690, 'min_df': 6, 'sublinear_tf': True} accuracy=0.794\n",
            "  Evaluating params={'C': 3, 'max_features': 1690, 'min_df': 6, 'sublinear_tf': True} precision=0.793\n",
            "  Evaluating params={'C': 3, 'max_features': 1690, 'min_df': 6, 'sublinear_tf': True} recall=0.778\n",
            "  Evaluating params={'C': 3, 'max_features': 1690, 'min_df': 6, 'sublinear_tf': True} f1=0.806\n",
            "  Evaluating params={'C': 3, 'max_features': 1690, 'min_df': 7, 'sublinear_tf': False} accuracy=0.794\n",
            "  Evaluating params={'C': 3, 'max_features': 1690, 'min_df': 7, 'sublinear_tf': False} precision=0.793\n",
            "  Evaluating params={'C': 3, 'max_features': 1690, 'min_df': 7, 'sublinear_tf': False} recall=0.778\n",
            "  Evaluating params={'C': 3, 'max_features': 1690, 'min_df': 7, 'sublinear_tf': False} f1=0.790\n",
            "  Evaluating params={'C': 3, 'max_features': 1690, 'min_df': 7, 'sublinear_tf': True} accuracy=0.794\n",
            "  Evaluating params={'C': 3, 'max_features': 1690, 'min_df': 7, 'sublinear_tf': True} precision=0.793\n",
            "  Evaluating params={'C': 3, 'max_features': 1690, 'min_df': 7, 'sublinear_tf': True} recall=0.778\n",
            "  Evaluating params={'C': 3, 'max_features': 1690, 'min_df': 7, 'sublinear_tf': True} f1=0.796\n",
            "  Evaluating params={'C': 3, 'max_features': 1690, 'min_df': 8, 'sublinear_tf': False} accuracy=0.794\n",
            "  Evaluating params={'C': 3, 'max_features': 1690, 'min_df': 8, 'sublinear_tf': False} precision=0.793\n",
            "  Evaluating params={'C': 3, 'max_features': 1690, 'min_df': 8, 'sublinear_tf': False} recall=0.778\n",
            "  Evaluating params={'C': 3, 'max_features': 1690, 'min_df': 8, 'sublinear_tf': False} f1=0.782\n",
            "  Evaluating params={'C': 3, 'max_features': 1690, 'min_df': 8, 'sublinear_tf': True} accuracy=0.794\n",
            "  Evaluating params={'C': 3, 'max_features': 1690, 'min_df': 8, 'sublinear_tf': True} precision=0.793\n",
            "  Evaluating params={'C': 3, 'max_features': 1690, 'min_df': 8, 'sublinear_tf': True} recall=0.778\n",
            "  Evaluating params={'C': 3, 'max_features': 1690, 'min_df': 8, 'sublinear_tf': True} f1=0.789\n",
            "  Evaluating params={'C': 3, 'max_features': 1690, 'min_df': 9, 'sublinear_tf': False} accuracy=0.794\n",
            "  Evaluating params={'C': 3, 'max_features': 1690, 'min_df': 9, 'sublinear_tf': False} precision=0.793\n",
            "  Evaluating params={'C': 3, 'max_features': 1690, 'min_df': 9, 'sublinear_tf': False} recall=0.778\n",
            "  Evaluating params={'C': 3, 'max_features': 1690, 'min_df': 9, 'sublinear_tf': False} f1=0.785\n",
            "  Evaluating params={'C': 3, 'max_features': 1690, 'min_df': 9, 'sublinear_tf': True} accuracy=0.794\n",
            "  Evaluating params={'C': 3, 'max_features': 1690, 'min_df': 9, 'sublinear_tf': True} precision=0.793\n",
            "  Evaluating params={'C': 3, 'max_features': 1690, 'min_df': 9, 'sublinear_tf': True} recall=0.778\n",
            "  Evaluating params={'C': 3, 'max_features': 1690, 'min_df': 9, 'sublinear_tf': True} f1=0.776\n",
            "  Evaluating params={'C': 4, 'max_features': 1690, 'min_df': 1, 'sublinear_tf': False} accuracy=0.794\n",
            "  Evaluating params={'C': 4, 'max_features': 1690, 'min_df': 1, 'sublinear_tf': False} precision=0.793\n",
            "  Evaluating params={'C': 4, 'max_features': 1690, 'min_df': 1, 'sublinear_tf': False} recall=0.778\n",
            "  Evaluating params={'C': 4, 'max_features': 1690, 'min_df': 1, 'sublinear_tf': False} f1=0.795\n",
            "  Evaluating params={'C': 4, 'max_features': 1690, 'min_df': 1, 'sublinear_tf': True} accuracy=0.794\n",
            "  Evaluating params={'C': 4, 'max_features': 1690, 'min_df': 1, 'sublinear_tf': True} precision=0.793\n",
            "  Evaluating params={'C': 4, 'max_features': 1690, 'min_df': 1, 'sublinear_tf': True} recall=0.778\n",
            "  Evaluating params={'C': 4, 'max_features': 1690, 'min_df': 1, 'sublinear_tf': True} f1=0.783\n",
            "  Evaluating params={'C': 4, 'max_features': 1690, 'min_df': 2, 'sublinear_tf': False} accuracy=0.794\n",
            "  Evaluating params={'C': 4, 'max_features': 1690, 'min_df': 2, 'sublinear_tf': False} precision=0.793\n",
            "  Evaluating params={'C': 4, 'max_features': 1690, 'min_df': 2, 'sublinear_tf': False} recall=0.778\n",
            "  Evaluating params={'C': 4, 'max_features': 1690, 'min_df': 2, 'sublinear_tf': False} f1=0.797\n",
            "  Evaluating params={'C': 4, 'max_features': 1690, 'min_df': 2, 'sublinear_tf': True} accuracy=0.794\n",
            "  Evaluating params={'C': 4, 'max_features': 1690, 'min_df': 2, 'sublinear_tf': True} precision=0.793\n",
            "  Evaluating params={'C': 4, 'max_features': 1690, 'min_df': 2, 'sublinear_tf': True} recall=0.778\n",
            "  Evaluating params={'C': 4, 'max_features': 1690, 'min_df': 2, 'sublinear_tf': True} f1=0.795\n",
            "  Evaluating params={'C': 4, 'max_features': 1690, 'min_df': 3, 'sublinear_tf': False} accuracy=0.794\n",
            "  Evaluating params={'C': 4, 'max_features': 1690, 'min_df': 3, 'sublinear_tf': False} precision=0.793\n",
            "  Evaluating params={'C': 4, 'max_features': 1690, 'min_df': 3, 'sublinear_tf': False} recall=0.778\n",
            "  Evaluating params={'C': 4, 'max_features': 1690, 'min_df': 3, 'sublinear_tf': False} f1=0.797\n",
            "  Evaluating params={'C': 4, 'max_features': 1690, 'min_df': 3, 'sublinear_tf': True} accuracy=0.794\n",
            "  Evaluating params={'C': 4, 'max_features': 1690, 'min_df': 3, 'sublinear_tf': True} precision=0.793\n",
            "  Evaluating params={'C': 4, 'max_features': 1690, 'min_df': 3, 'sublinear_tf': True} recall=0.778\n",
            "  Evaluating params={'C': 4, 'max_features': 1690, 'min_df': 3, 'sublinear_tf': True} f1=0.801\n",
            "  Evaluating params={'C': 4, 'max_features': 1690, 'min_df': 4, 'sublinear_tf': False} accuracy=0.794\n",
            "  Evaluating params={'C': 4, 'max_features': 1690, 'min_df': 4, 'sublinear_tf': False} precision=0.793\n",
            "  Evaluating params={'C': 4, 'max_features': 1690, 'min_df': 4, 'sublinear_tf': False} recall=0.778\n",
            "  Evaluating params={'C': 4, 'max_features': 1690, 'min_df': 4, 'sublinear_tf': False} f1=0.800\n",
            "  Evaluating params={'C': 4, 'max_features': 1690, 'min_df': 4, 'sublinear_tf': True} accuracy=0.794\n",
            "  Evaluating params={'C': 4, 'max_features': 1690, 'min_df': 4, 'sublinear_tf': True} precision=0.793\n",
            "  Evaluating params={'C': 4, 'max_features': 1690, 'min_df': 4, 'sublinear_tf': True} recall=0.778\n",
            "  Evaluating params={'C': 4, 'max_features': 1690, 'min_df': 4, 'sublinear_tf': True} f1=0.804\n",
            "  Evaluating params={'C': 4, 'max_features': 1690, 'min_df': 5, 'sublinear_tf': False} accuracy=0.794\n",
            "  Evaluating params={'C': 4, 'max_features': 1690, 'min_df': 5, 'sublinear_tf': False} precision=0.793\n",
            "  Evaluating params={'C': 4, 'max_features': 1690, 'min_df': 5, 'sublinear_tf': False} recall=0.778\n",
            "  Evaluating params={'C': 4, 'max_features': 1690, 'min_df': 5, 'sublinear_tf': False} f1=0.803\n",
            "  Evaluating params={'C': 4, 'max_features': 1690, 'min_df': 5, 'sublinear_tf': True} accuracy=0.794\n",
            "  Evaluating params={'C': 4, 'max_features': 1690, 'min_df': 5, 'sublinear_tf': True} precision=0.793\n",
            "  Evaluating params={'C': 4, 'max_features': 1690, 'min_df': 5, 'sublinear_tf': True} recall=0.778\n",
            "  Evaluating params={'C': 4, 'max_features': 1690, 'min_df': 5, 'sublinear_tf': True} f1=0.810\n",
            "  Evaluating params={'C': 4, 'max_features': 1690, 'min_df': 6, 'sublinear_tf': False} accuracy=0.794\n",
            "  Evaluating params={'C': 4, 'max_features': 1690, 'min_df': 6, 'sublinear_tf': False} precision=0.793\n",
            "  Evaluating params={'C': 4, 'max_features': 1690, 'min_df': 6, 'sublinear_tf': False} recall=0.778\n",
            "  Evaluating params={'C': 4, 'max_features': 1690, 'min_df': 6, 'sublinear_tf': False} f1=0.803\n",
            "  Evaluating params={'C': 4, 'max_features': 1690, 'min_df': 6, 'sublinear_tf': True} accuracy=0.794\n",
            "  Evaluating params={'C': 4, 'max_features': 1690, 'min_df': 6, 'sublinear_tf': True} precision=0.793\n",
            "  Evaluating params={'C': 4, 'max_features': 1690, 'min_df': 6, 'sublinear_tf': True} recall=0.778\n",
            "  Evaluating params={'C': 4, 'max_features': 1690, 'min_df': 6, 'sublinear_tf': True} f1=0.806\n",
            "  Evaluating params={'C': 4, 'max_features': 1690, 'min_df': 7, 'sublinear_tf': False} accuracy=0.794\n",
            "  Evaluating params={'C': 4, 'max_features': 1690, 'min_df': 7, 'sublinear_tf': False} precision=0.793\n",
            "  Evaluating params={'C': 4, 'max_features': 1690, 'min_df': 7, 'sublinear_tf': False} recall=0.778\n",
            "  Evaluating params={'C': 4, 'max_features': 1690, 'min_df': 7, 'sublinear_tf': False} f1=0.795\n",
            "  Evaluating params={'C': 4, 'max_features': 1690, 'min_df': 7, 'sublinear_tf': True} accuracy=0.794\n",
            "  Evaluating params={'C': 4, 'max_features': 1690, 'min_df': 7, 'sublinear_tf': True} precision=0.793\n",
            "  Evaluating params={'C': 4, 'max_features': 1690, 'min_df': 7, 'sublinear_tf': True} recall=0.778\n",
            "  Evaluating params={'C': 4, 'max_features': 1690, 'min_df': 7, 'sublinear_tf': True} f1=0.806\n",
            "  Evaluating params={'C': 4, 'max_features': 1690, 'min_df': 8, 'sublinear_tf': False} accuracy=0.794\n",
            "  Evaluating params={'C': 4, 'max_features': 1690, 'min_df': 8, 'sublinear_tf': False} precision=0.793\n",
            "  Evaluating params={'C': 4, 'max_features': 1690, 'min_df': 8, 'sublinear_tf': False} recall=0.778\n",
            "  Evaluating params={'C': 4, 'max_features': 1690, 'min_df': 8, 'sublinear_tf': False} f1=0.783\n",
            "  Evaluating params={'C': 4, 'max_features': 1690, 'min_df': 8, 'sublinear_tf': True} accuracy=0.794\n",
            "  Evaluating params={'C': 4, 'max_features': 1690, 'min_df': 8, 'sublinear_tf': True} precision=0.793\n",
            "  Evaluating params={'C': 4, 'max_features': 1690, 'min_df': 8, 'sublinear_tf': True} recall=0.778\n",
            "  Evaluating params={'C': 4, 'max_features': 1690, 'min_df': 8, 'sublinear_tf': True} f1=0.779\n",
            "  Evaluating params={'C': 4, 'max_features': 1690, 'min_df': 9, 'sublinear_tf': False} accuracy=0.794\n",
            "  Evaluating params={'C': 4, 'max_features': 1690, 'min_df': 9, 'sublinear_tf': False} precision=0.793\n",
            "  Evaluating params={'C': 4, 'max_features': 1690, 'min_df': 9, 'sublinear_tf': False} recall=0.778\n",
            "  Evaluating params={'C': 4, 'max_features': 1690, 'min_df': 9, 'sublinear_tf': False} f1=0.776\n",
            "  Evaluating params={'C': 4, 'max_features': 1690, 'min_df': 9, 'sublinear_tf': True} accuracy=0.794\n",
            "  Evaluating params={'C': 4, 'max_features': 1690, 'min_df': 9, 'sublinear_tf': True} precision=0.793\n",
            "  Evaluating params={'C': 4, 'max_features': 1690, 'min_df': 9, 'sublinear_tf': True} recall=0.778\n",
            "  Evaluating params={'C': 4, 'max_features': 1690, 'min_df': 9, 'sublinear_tf': True} f1=0.774\n",
            "  Evaluating params={'C': 5, 'max_features': 1690, 'min_df': 1, 'sublinear_tf': False} accuracy=0.794\n",
            "  Evaluating params={'C': 5, 'max_features': 1690, 'min_df': 1, 'sublinear_tf': False} precision=0.793\n",
            "  Evaluating params={'C': 5, 'max_features': 1690, 'min_df': 1, 'sublinear_tf': False} recall=0.778\n",
            "  Evaluating params={'C': 5, 'max_features': 1690, 'min_df': 1, 'sublinear_tf': False} f1=0.791\n",
            "  Evaluating params={'C': 5, 'max_features': 1690, 'min_df': 1, 'sublinear_tf': True} accuracy=0.794\n",
            "  Evaluating params={'C': 5, 'max_features': 1690, 'min_df': 1, 'sublinear_tf': True} precision=0.793\n",
            "  Evaluating params={'C': 5, 'max_features': 1690, 'min_df': 1, 'sublinear_tf': True} recall=0.778\n",
            "  Evaluating params={'C': 5, 'max_features': 1690, 'min_df': 1, 'sublinear_tf': True} f1=0.789\n",
            "  Evaluating params={'C': 5, 'max_features': 1690, 'min_df': 2, 'sublinear_tf': False} accuracy=0.794\n",
            "  Evaluating params={'C': 5, 'max_features': 1690, 'min_df': 2, 'sublinear_tf': False} precision=0.793\n",
            "  Evaluating params={'C': 5, 'max_features': 1690, 'min_df': 2, 'sublinear_tf': False} recall=0.778\n",
            "  Evaluating params={'C': 5, 'max_features': 1690, 'min_df': 2, 'sublinear_tf': False} f1=0.797\n",
            "  Evaluating params={'C': 5, 'max_features': 1690, 'min_df': 2, 'sublinear_tf': True} accuracy=0.794\n",
            "  Evaluating params={'C': 5, 'max_features': 1690, 'min_df': 2, 'sublinear_tf': True} precision=0.793\n",
            "  Evaluating params={'C': 5, 'max_features': 1690, 'min_df': 2, 'sublinear_tf': True} recall=0.778\n",
            "  Evaluating params={'C': 5, 'max_features': 1690, 'min_df': 2, 'sublinear_tf': True} f1=0.801\n",
            "  Evaluating params={'C': 5, 'max_features': 1690, 'min_df': 3, 'sublinear_tf': False} accuracy=0.794\n",
            "  Evaluating params={'C': 5, 'max_features': 1690, 'min_df': 3, 'sublinear_tf': False} precision=0.793\n",
            "  Evaluating params={'C': 5, 'max_features': 1690, 'min_df': 3, 'sublinear_tf': False} recall=0.778\n",
            "  Evaluating params={'C': 5, 'max_features': 1690, 'min_df': 3, 'sublinear_tf': False} f1=0.791\n",
            "  Evaluating params={'C': 5, 'max_features': 1690, 'min_df': 3, 'sublinear_tf': True} accuracy=0.794\n",
            "  Evaluating params={'C': 5, 'max_features': 1690, 'min_df': 3, 'sublinear_tf': True} precision=0.793\n",
            "  Evaluating params={'C': 5, 'max_features': 1690, 'min_df': 3, 'sublinear_tf': True} recall=0.778\n",
            "  Evaluating params={'C': 5, 'max_features': 1690, 'min_df': 3, 'sublinear_tf': True} f1=0.791\n",
            "  Evaluating params={'C': 5, 'max_features': 1690, 'min_df': 4, 'sublinear_tf': False} accuracy=0.794\n",
            "  Evaluating params={'C': 5, 'max_features': 1690, 'min_df': 4, 'sublinear_tf': False} precision=0.793\n",
            "  Evaluating params={'C': 5, 'max_features': 1690, 'min_df': 4, 'sublinear_tf': False} recall=0.778\n",
            "  Evaluating params={'C': 5, 'max_features': 1690, 'min_df': 4, 'sublinear_tf': False} f1=0.794\n",
            "  Evaluating params={'C': 5, 'max_features': 1690, 'min_df': 4, 'sublinear_tf': True} accuracy=0.794\n",
            "  Evaluating params={'C': 5, 'max_features': 1690, 'min_df': 4, 'sublinear_tf': True} precision=0.793\n",
            "  Evaluating params={'C': 5, 'max_features': 1690, 'min_df': 4, 'sublinear_tf': True} recall=0.778\n",
            "  Evaluating params={'C': 5, 'max_features': 1690, 'min_df': 4, 'sublinear_tf': True} f1=0.793\n",
            "  Evaluating params={'C': 5, 'max_features': 1690, 'min_df': 5, 'sublinear_tf': False} accuracy=0.794\n",
            "  Evaluating params={'C': 5, 'max_features': 1690, 'min_df': 5, 'sublinear_tf': False} precision=0.793\n",
            "  Evaluating params={'C': 5, 'max_features': 1690, 'min_df': 5, 'sublinear_tf': False} recall=0.778\n",
            "  Evaluating params={'C': 5, 'max_features': 1690, 'min_df': 5, 'sublinear_tf': False} f1=0.803\n",
            "  Evaluating params={'C': 5, 'max_features': 1690, 'min_df': 5, 'sublinear_tf': True} accuracy=0.794\n",
            "  Evaluating params={'C': 5, 'max_features': 1690, 'min_df': 5, 'sublinear_tf': True} precision=0.793\n",
            "  Evaluating params={'C': 5, 'max_features': 1690, 'min_df': 5, 'sublinear_tf': True} recall=0.778\n",
            "  Evaluating params={'C': 5, 'max_features': 1690, 'min_df': 5, 'sublinear_tf': True} f1=0.810\n",
            "  Evaluating params={'C': 5, 'max_features': 1690, 'min_df': 6, 'sublinear_tf': False} accuracy=0.794\n",
            "  Evaluating params={'C': 5, 'max_features': 1690, 'min_df': 6, 'sublinear_tf': False} precision=0.793\n",
            "  Evaluating params={'C': 5, 'max_features': 1690, 'min_df': 6, 'sublinear_tf': False} recall=0.778\n",
            "  Evaluating params={'C': 5, 'max_features': 1690, 'min_df': 6, 'sublinear_tf': False} f1=0.802\n",
            "  Evaluating params={'C': 5, 'max_features': 1690, 'min_df': 6, 'sublinear_tf': True} accuracy=0.794\n",
            "  Evaluating params={'C': 5, 'max_features': 1690, 'min_df': 6, 'sublinear_tf': True} precision=0.793\n",
            "  Evaluating params={'C': 5, 'max_features': 1690, 'min_df': 6, 'sublinear_tf': True} recall=0.778\n",
            "  Evaluating params={'C': 5, 'max_features': 1690, 'min_df': 6, 'sublinear_tf': True} f1=0.803\n",
            "  Evaluating params={'C': 5, 'max_features': 1690, 'min_df': 7, 'sublinear_tf': False} accuracy=0.794\n",
            "  Evaluating params={'C': 5, 'max_features': 1690, 'min_df': 7, 'sublinear_tf': False} precision=0.793\n",
            "  Evaluating params={'C': 5, 'max_features': 1690, 'min_df': 7, 'sublinear_tf': False} recall=0.778\n",
            "  Evaluating params={'C': 5, 'max_features': 1690, 'min_df': 7, 'sublinear_tf': False} f1=0.794\n",
            "  Evaluating params={'C': 5, 'max_features': 1690, 'min_df': 7, 'sublinear_tf': True} accuracy=0.794\n",
            "  Evaluating params={'C': 5, 'max_features': 1690, 'min_df': 7, 'sublinear_tf': True} precision=0.793\n",
            "  Evaluating params={'C': 5, 'max_features': 1690, 'min_df': 7, 'sublinear_tf': True} recall=0.778\n",
            "  Evaluating params={'C': 5, 'max_features': 1690, 'min_df': 7, 'sublinear_tf': True} f1=0.800\n",
            "  Evaluating params={'C': 5, 'max_features': 1690, 'min_df': 8, 'sublinear_tf': False} accuracy=0.794\n",
            "  Evaluating params={'C': 5, 'max_features': 1690, 'min_df': 8, 'sublinear_tf': False} precision=0.793\n",
            "  Evaluating params={'C': 5, 'max_features': 1690, 'min_df': 8, 'sublinear_tf': False} recall=0.778\n",
            "  Evaluating params={'C': 5, 'max_features': 1690, 'min_df': 8, 'sublinear_tf': False} f1=0.779\n",
            "  Evaluating params={'C': 5, 'max_features': 1690, 'min_df': 8, 'sublinear_tf': True} accuracy=0.794\n",
            "  Evaluating params={'C': 5, 'max_features': 1690, 'min_df': 8, 'sublinear_tf': True} precision=0.793\n",
            "  Evaluating params={'C': 5, 'max_features': 1690, 'min_df': 8, 'sublinear_tf': True} recall=0.778\n",
            "  Evaluating params={'C': 5, 'max_features': 1690, 'min_df': 8, 'sublinear_tf': True} f1=0.773\n",
            "  Evaluating params={'C': 5, 'max_features': 1690, 'min_df': 9, 'sublinear_tf': False} accuracy=0.794\n",
            "  Evaluating params={'C': 5, 'max_features': 1690, 'min_df': 9, 'sublinear_tf': False} precision=0.793\n",
            "  Evaluating params={'C': 5, 'max_features': 1690, 'min_df': 9, 'sublinear_tf': False} recall=0.778\n",
            "  Evaluating params={'C': 5, 'max_features': 1690, 'min_df': 9, 'sublinear_tf': False} f1=0.775\n",
            "  Evaluating params={'C': 5, 'max_features': 1690, 'min_df': 9, 'sublinear_tf': True} accuracy=0.794\n",
            "  Evaluating params={'C': 5, 'max_features': 1690, 'min_df': 9, 'sublinear_tf': True} precision=0.793\n",
            "  Evaluating params={'C': 5, 'max_features': 1690, 'min_df': 9, 'sublinear_tf': True} recall=0.778\n",
            "  Evaluating params={'C': 5, 'max_features': 1690, 'min_df': 9, 'sublinear_tf': True} f1=0.778\n",
            "  Evaluating params={'C': 6, 'max_features': 1690, 'min_df': 1, 'sublinear_tf': False} accuracy=0.794\n",
            "  Evaluating params={'C': 6, 'max_features': 1690, 'min_df': 1, 'sublinear_tf': False} precision=0.793\n",
            "  Evaluating params={'C': 6, 'max_features': 1690, 'min_df': 1, 'sublinear_tf': False} recall=0.778\n",
            "  Evaluating params={'C': 6, 'max_features': 1690, 'min_df': 1, 'sublinear_tf': False} f1=0.791\n",
            "  Evaluating params={'C': 6, 'max_features': 1690, 'min_df': 1, 'sublinear_tf': True} accuracy=0.794\n",
            "  Evaluating params={'C': 6, 'max_features': 1690, 'min_df': 1, 'sublinear_tf': True} precision=0.793\n",
            "  Evaluating params={'C': 6, 'max_features': 1690, 'min_df': 1, 'sublinear_tf': True} recall=0.778\n",
            "  Evaluating params={'C': 6, 'max_features': 1690, 'min_df': 1, 'sublinear_tf': True} f1=0.789\n",
            "  Evaluating params={'C': 6, 'max_features': 1690, 'min_df': 2, 'sublinear_tf': False} accuracy=0.794\n",
            "  Evaluating params={'C': 6, 'max_features': 1690, 'min_df': 2, 'sublinear_tf': False} precision=0.793\n",
            "  Evaluating params={'C': 6, 'max_features': 1690, 'min_df': 2, 'sublinear_tf': False} recall=0.778\n",
            "  Evaluating params={'C': 6, 'max_features': 1690, 'min_df': 2, 'sublinear_tf': False} f1=0.798\n",
            "  Evaluating params={'C': 6, 'max_features': 1690, 'min_df': 2, 'sublinear_tf': True} accuracy=0.794\n",
            "  Evaluating params={'C': 6, 'max_features': 1690, 'min_df': 2, 'sublinear_tf': True} precision=0.793\n",
            "  Evaluating params={'C': 6, 'max_features': 1690, 'min_df': 2, 'sublinear_tf': True} recall=0.778\n",
            "  Evaluating params={'C': 6, 'max_features': 1690, 'min_df': 2, 'sublinear_tf': True} f1=0.801\n",
            "  Evaluating params={'C': 6, 'max_features': 1690, 'min_df': 3, 'sublinear_tf': False} accuracy=0.794\n",
            "  Evaluating params={'C': 6, 'max_features': 1690, 'min_df': 3, 'sublinear_tf': False} precision=0.793\n",
            "  Evaluating params={'C': 6, 'max_features': 1690, 'min_df': 3, 'sublinear_tf': False} recall=0.778\n",
            "  Evaluating params={'C': 6, 'max_features': 1690, 'min_df': 3, 'sublinear_tf': False} f1=0.788\n",
            "  Evaluating params={'C': 6, 'max_features': 1690, 'min_df': 3, 'sublinear_tf': True} accuracy=0.794\n",
            "  Evaluating params={'C': 6, 'max_features': 1690, 'min_df': 3, 'sublinear_tf': True} precision=0.793\n",
            "  Evaluating params={'C': 6, 'max_features': 1690, 'min_df': 3, 'sublinear_tf': True} recall=0.778\n",
            "  Evaluating params={'C': 6, 'max_features': 1690, 'min_df': 3, 'sublinear_tf': True} f1=0.791\n",
            "  Evaluating params={'C': 6, 'max_features': 1690, 'min_df': 4, 'sublinear_tf': False} accuracy=0.794\n",
            "  Evaluating params={'C': 6, 'max_features': 1690, 'min_df': 4, 'sublinear_tf': False} precision=0.793\n",
            "  Evaluating params={'C': 6, 'max_features': 1690, 'min_df': 4, 'sublinear_tf': False} recall=0.778\n",
            "  Evaluating params={'C': 6, 'max_features': 1690, 'min_df': 4, 'sublinear_tf': False} f1=0.792\n",
            "  Evaluating params={'C': 6, 'max_features': 1690, 'min_df': 4, 'sublinear_tf': True} accuracy=0.794\n",
            "  Evaluating params={'C': 6, 'max_features': 1690, 'min_df': 4, 'sublinear_tf': True} precision=0.793\n",
            "  Evaluating params={'C': 6, 'max_features': 1690, 'min_df': 4, 'sublinear_tf': True} recall=0.778\n",
            "  Evaluating params={'C': 6, 'max_features': 1690, 'min_df': 4, 'sublinear_tf': True} f1=0.799\n",
            "  Evaluating params={'C': 6, 'max_features': 1690, 'min_df': 5, 'sublinear_tf': False} accuracy=0.794\n",
            "  Evaluating params={'C': 6, 'max_features': 1690, 'min_df': 5, 'sublinear_tf': False} precision=0.793\n",
            "  Evaluating params={'C': 6, 'max_features': 1690, 'min_df': 5, 'sublinear_tf': False} recall=0.778\n",
            "  Evaluating params={'C': 6, 'max_features': 1690, 'min_df': 5, 'sublinear_tf': False} f1=0.802\n",
            "  Evaluating params={'C': 6, 'max_features': 1690, 'min_df': 5, 'sublinear_tf': True} accuracy=0.794\n",
            "  Evaluating params={'C': 6, 'max_features': 1690, 'min_df': 5, 'sublinear_tf': True} precision=0.793\n",
            "  Evaluating params={'C': 6, 'max_features': 1690, 'min_df': 5, 'sublinear_tf': True} recall=0.778\n",
            "  Evaluating params={'C': 6, 'max_features': 1690, 'min_df': 5, 'sublinear_tf': True} f1=0.808\n",
            "  Evaluating params={'C': 6, 'max_features': 1690, 'min_df': 6, 'sublinear_tf': False} accuracy=0.794\n",
            "  Evaluating params={'C': 6, 'max_features': 1690, 'min_df': 6, 'sublinear_tf': False} precision=0.793\n",
            "  Evaluating params={'C': 6, 'max_features': 1690, 'min_df': 6, 'sublinear_tf': False} recall=0.778\n",
            "  Evaluating params={'C': 6, 'max_features': 1690, 'min_df': 6, 'sublinear_tf': False} f1=0.795\n",
            "  Evaluating params={'C': 6, 'max_features': 1690, 'min_df': 6, 'sublinear_tf': True} accuracy=0.794\n",
            "  Evaluating params={'C': 6, 'max_features': 1690, 'min_df': 6, 'sublinear_tf': True} precision=0.793\n",
            "  Evaluating params={'C': 6, 'max_features': 1690, 'min_df': 6, 'sublinear_tf': True} recall=0.778\n",
            "  Evaluating params={'C': 6, 'max_features': 1690, 'min_df': 6, 'sublinear_tf': True} f1=0.800\n",
            "  Evaluating params={'C': 6, 'max_features': 1690, 'min_df': 7, 'sublinear_tf': False} accuracy=0.794\n",
            "  Evaluating params={'C': 6, 'max_features': 1690, 'min_df': 7, 'sublinear_tf': False} precision=0.793\n",
            "  Evaluating params={'C': 6, 'max_features': 1690, 'min_df': 7, 'sublinear_tf': False} recall=0.778\n",
            "  Evaluating params={'C': 6, 'max_features': 1690, 'min_df': 7, 'sublinear_tf': False} f1=0.794\n",
            "  Evaluating params={'C': 6, 'max_features': 1690, 'min_df': 7, 'sublinear_tf': True} accuracy=0.794\n",
            "  Evaluating params={'C': 6, 'max_features': 1690, 'min_df': 7, 'sublinear_tf': True} precision=0.793\n",
            "  Evaluating params={'C': 6, 'max_features': 1690, 'min_df': 7, 'sublinear_tf': True} recall=0.778\n",
            "  Evaluating params={'C': 6, 'max_features': 1690, 'min_df': 7, 'sublinear_tf': True} f1=0.797\n",
            "  Evaluating params={'C': 6, 'max_features': 1690, 'min_df': 8, 'sublinear_tf': False} accuracy=0.794\n",
            "  Evaluating params={'C': 6, 'max_features': 1690, 'min_df': 8, 'sublinear_tf': False} precision=0.793\n",
            "  Evaluating params={'C': 6, 'max_features': 1690, 'min_df': 8, 'sublinear_tf': False} recall=0.778\n",
            "  Evaluating params={'C': 6, 'max_features': 1690, 'min_df': 8, 'sublinear_tf': False} f1=0.782\n",
            "  Evaluating params={'C': 6, 'max_features': 1690, 'min_df': 8, 'sublinear_tf': True} accuracy=0.794\n",
            "  Evaluating params={'C': 6, 'max_features': 1690, 'min_df': 8, 'sublinear_tf': True} precision=0.793\n",
            "  Evaluating params={'C': 6, 'max_features': 1690, 'min_df': 8, 'sublinear_tf': True} recall=0.778\n",
            "  Evaluating params={'C': 6, 'max_features': 1690, 'min_df': 8, 'sublinear_tf': True} f1=0.780\n",
            "  Evaluating params={'C': 6, 'max_features': 1690, 'min_df': 9, 'sublinear_tf': False} accuracy=0.794\n",
            "  Evaluating params={'C': 6, 'max_features': 1690, 'min_df': 9, 'sublinear_tf': False} precision=0.793\n",
            "  Evaluating params={'C': 6, 'max_features': 1690, 'min_df': 9, 'sublinear_tf': False} recall=0.778\n",
            "  Evaluating params={'C': 6, 'max_features': 1690, 'min_df': 9, 'sublinear_tf': False} f1=0.786\n",
            "  Evaluating params={'C': 6, 'max_features': 1690, 'min_df': 9, 'sublinear_tf': True} accuracy=0.794\n",
            "  Evaluating params={'C': 6, 'max_features': 1690, 'min_df': 9, 'sublinear_tf': True} precision=0.793\n",
            "  Evaluating params={'C': 6, 'max_features': 1690, 'min_df': 9, 'sublinear_tf': True} recall=0.778\n",
            "  Evaluating params={'C': 6, 'max_features': 1690, 'min_df': 9, 'sublinear_tf': True} f1=0.778\n",
            "best_params={'C': 3, 'max_features': 1690, 'min_df': 5, 'sublinear_tf': True}\n",
            "best_f1=0.811\n",
            "best_accuracy=0.794\n",
            "best_precision=0.793\n",
            "best_recall=0.778\n"
          ]
        }
      ]
    },
    {
      "cell_type": "code",
      "source": [
        "vectorizer_tfidf = TfidfVectorizer(min_df=4,sublinear_tf=False,max_features=1705)\n",
        "\n",
        "X_train_tftdf_tuning = vectorizer_tfidf.fit_transform(texts_train)\n",
        "X_val_tfidf_tuning = vectorizer_tfidf.transform(texts_val)\n",
        "\n",
        "clf = LogisticRegression(random_state=42,C=2)\n",
        "clf.fit(X_train_tftdf_tuning,labels_train)\n",
        "labels_predicted_TFIDF = clf.predict(X_val_tfidf_tuning)\n",
        "accuracy = accuracy_score(labels_val, labels_predicted_TFIDF)\n",
        "print(f\"{accuracy=:.3f}\")\n",
        "Accuracy_tuninglist.append(accuracy.round(3))\n",
        "\n",
        "precision = precision_score(labels_val, labels_predicted_TFIDF,average=\"macro\")\n",
        "print(f\"{precision=:.3f}\")\n",
        "Precision_tuninglist.append(precision.round(3))\n",
        "\n",
        "recall = recall_score(labels_val, labels_predicted_TFIDF,average=\"macro\")\n",
        "print(f\"{recall=:.3f}\")\n",
        "Recall_tuninglist.append(recall.round(3))\n",
        "\n",
        "f1_logistic_tfidf_tuning= f1_score(labels_val, labels_predicted_TFIDF,average=\"macro\")\n",
        "print(f\"{f1_logistic_tfidf_tuning=:.3f}\")\n",
        "F1_score_tuninglist.append(f1_logistic_tfidf_tuning.round(3))"
      ],
      "metadata": {
        "colab": {
          "base_uri": "https://localhost:8080/"
        },
        "id": "Dy0e9Aft8Dfc",
        "outputId": "c0cd8690-d63c-4ba9-c521-101578376657"
      },
      "execution_count": 36,
      "outputs": [
        {
          "output_type": "stream",
          "name": "stdout",
          "text": [
            "accuracy=0.811\n",
            "precision=0.802\n",
            "recall=0.797\n",
            "f1_logistic_tfidf_tuning=0.797\n"
          ]
        }
      ]
    },
    {
      "cell_type": "code",
      "source": [
        "table_data = [[\"metrics\",\"logistic_TFIDF\",\"After Tuning\"],\n",
        "              Accuracy_tuninglist,\n",
        "              Precision_tuninglist,\n",
        "              Recall_tuninglist,F1_score_tuninglist]\n",
        "tablefmt = \"fancy_grid\"\n",
        "headers = [\"\\033[34m{}\\033[0m\".format(header) for header in table_data[0]]\n",
        "table_data = [headers] + table_data[1:]\n",
        "colored_data = [[f\"\\033[32m{col}\\033[0m\" if isinstance(col, int) else col for col in row] for row in table_data]\n",
        "print(tabulate(colored_data, headers=\"firstrow\", tablefmt=tablefmt))"
      ],
      "metadata": {
        "colab": {
          "base_uri": "https://localhost:8080/"
        },
        "id": "SQpgOs0qnC7m",
        "outputId": "766c7bac-f678-4f86-8a9e-71990189ea6e"
      },
      "execution_count": 37,
      "outputs": [
        {
          "output_type": "stream",
          "name": "stdout",
          "text": [
            "╒═══════════╤══════════════════╤════════════════╕\n",
            "│ \u001b[34mmetrics\u001b[0m   │   \u001b[34mlogistic_TFIDF\u001b[0m │   \u001b[34mAfter Tuning\u001b[0m │\n",
            "╞═══════════╪══════════════════╪════════════════╡\n",
            "│ Accuracy  │            0.794 │          0.811 │\n",
            "├───────────┼──────────────────┼────────────────┤\n",
            "│ Precision │            0.793 │          0.802 │\n",
            "├───────────┼──────────────────┼────────────────┤\n",
            "│ Recall    │            0.778 │          0.797 │\n",
            "├───────────┼──────────────────┼────────────────┤\n",
            "│ F1 score  │            0.78  │          0.797 │\n",
            "╘═══════════╧══════════════════╧════════════════╛\n"
          ]
        }
      ]
    },
    {
      "cell_type": "markdown",
      "source": [
        "### **Q5 BERT**"
      ],
      "metadata": {
        "id": "b6o5LWaDEe_e"
      }
    },
    {
      "cell_type": "markdown",
      "source": [
        "### **a feature extraction using transformer pipepline using roberta as the base model and training using logisticRegression**"
      ],
      "metadata": {
        "id": "_E6YO4fht2jE"
      }
    },
    {
      "cell_type": "code",
      "source": [],
      "metadata": {
        "colab": {
          "base_uri": "https://localhost:8080/"
        },
        "id": "oyh7jWAzEmhO",
        "outputId": "d26c116c-a67a-4297-c432-ced990dbda38"
      },
      "execution_count": 38,
      "outputs": [
        {
          "output_type": "stream",
          "name": "stdout",
          "text": [
            "Looking in indexes: https://pypi.org/simple, https://us-python.pkg.dev/colab-wheels/public/simple/\n",
            "Collecting transformers\n",
            "  Downloading transformers-4.27.1-py3-none-any.whl (6.7 MB)\n",
            "\u001b[2K     \u001b[90m━━━━━━━━━━━━━━━━━━━━━━━━━━━━━━━━━━━━━━━━\u001b[0m \u001b[32m6.7/6.7 MB\u001b[0m \u001b[31m48.4 MB/s\u001b[0m eta \u001b[36m0:00:00\u001b[0m\n",
            "\u001b[?25hRequirement already satisfied: regex!=2019.12.17 in /usr/local/lib/python3.9/dist-packages (from transformers) (2022.10.31)\n",
            "Requirement already satisfied: requests in /usr/local/lib/python3.9/dist-packages (from transformers) (2.27.1)\n",
            "Requirement already satisfied: pyyaml>=5.1 in /usr/local/lib/python3.9/dist-packages (from transformers) (6.0)\n",
            "Requirement already satisfied: packaging>=20.0 in /usr/local/lib/python3.9/dist-packages (from transformers) (23.0)\n",
            "Requirement already satisfied: tqdm>=4.27 in /usr/local/lib/python3.9/dist-packages (from transformers) (4.65.0)\n",
            "Requirement already satisfied: filelock in /usr/local/lib/python3.9/dist-packages (from transformers) (3.10.0)\n",
            "Requirement already satisfied: numpy>=1.17 in /usr/local/lib/python3.9/dist-packages (from transformers) (1.22.4)\n",
            "Collecting huggingface-hub<1.0,>=0.11.0\n",
            "  Downloading huggingface_hub-0.13.2-py3-none-any.whl (199 kB)\n",
            "\u001b[2K     \u001b[90m━━━━━━━━━━━━━━━━━━━━━━━━━━━━━━━━━━━━━━\u001b[0m \u001b[32m199.2/199.2 KB\u001b[0m \u001b[31m21.5 MB/s\u001b[0m eta \u001b[36m0:00:00\u001b[0m\n",
            "\u001b[?25hCollecting tokenizers!=0.11.3,<0.14,>=0.11.1\n",
            "  Downloading tokenizers-0.13.2-cp39-cp39-manylinux_2_17_x86_64.manylinux2014_x86_64.whl (7.6 MB)\n",
            "\u001b[2K     \u001b[90m━━━━━━━━━━━━━━━━━━━━━━━━━━━━━━━━━━━━━━━━\u001b[0m \u001b[32m7.6/7.6 MB\u001b[0m \u001b[31m96.5 MB/s\u001b[0m eta \u001b[36m0:00:00\u001b[0m\n",
            "\u001b[?25hRequirement already satisfied: typing-extensions>=3.7.4.3 in /usr/local/lib/python3.9/dist-packages (from huggingface-hub<1.0,>=0.11.0->transformers) (4.5.0)\n",
            "Requirement already satisfied: certifi>=2017.4.17 in /usr/local/lib/python3.9/dist-packages (from requests->transformers) (2022.12.7)\n",
            "Requirement already satisfied: urllib3<1.27,>=1.21.1 in /usr/local/lib/python3.9/dist-packages (from requests->transformers) (1.26.15)\n",
            "Requirement already satisfied: idna<4,>=2.5 in /usr/local/lib/python3.9/dist-packages (from requests->transformers) (3.4)\n",
            "Requirement already satisfied: charset-normalizer~=2.0.0 in /usr/local/lib/python3.9/dist-packages (from requests->transformers) (2.0.12)\n",
            "Installing collected packages: tokenizers, huggingface-hub, transformers\n",
            "Successfully installed huggingface-hub-0.13.2 tokenizers-0.13.2 transformers-4.27.1\n",
            "Looking in indexes: https://pypi.org/simple, https://us-python.pkg.dev/colab-wheels/public/simple/\n",
            "Requirement already satisfied: scikit-learn in /usr/local/lib/python3.9/dist-packages (1.2.2)\n",
            "Requirement already satisfied: joblib>=1.1.1 in /usr/local/lib/python3.9/dist-packages (from scikit-learn) (1.1.1)\n",
            "Requirement already satisfied: numpy>=1.17.3 in /usr/local/lib/python3.9/dist-packages (from scikit-learn) (1.22.4)\n",
            "Requirement already satisfied: scipy>=1.3.2 in /usr/local/lib/python3.9/dist-packages (from scikit-learn) (1.10.1)\n",
            "Requirement already satisfied: threadpoolctl>=2.0.0 in /usr/local/lib/python3.9/dist-packages (from scikit-learn) (3.1.0)\n"
          ]
        }
      ]
    },
    {
      "cell_type": "code",
      "source": [
        "from transformers import AutoModel, AutoTokenizer\n",
        "from transformers import RobertaModel, RobertaTokenizer\n",
        "# Loading the pre-trained RoBERTa model and tokenizer\n",
        "model_name = \"roberta-base\"\n",
        "model = RobertaModel.from_pretrained(model_name)\n",
        "tokenizer = RobertaTokenizer.from_pretrained(model_name)\n"
      ],
      "metadata": {
        "id": "N0dTBnQzE3Z9",
        "colab": {
          "base_uri": "https://localhost:8080/",
          "height": 217,
          "referenced_widgets": [
            "ab8f28ae56cf4a858537708aed09d382",
            "27a9e2431d91428188fb7d32e25c817a",
            "6972c06866574b2880d5a3c51d929d1b",
            "243c4be7ab2a495aa00726e9ebb7cf5a",
            "45936f264bd947eba1db933121fe3efe",
            "821c410528594939bc11265fd71d5121",
            "66bacf62d08c431ba2fffc54747957c7",
            "8f3faa1b3517437b924ca2d7faf18a40",
            "6bc02e3f223d49ddbdd107d3daf746e9",
            "66901736af3d4b858b080e6e794f9c6f",
            "b6127ed2183d4d4789d11266aa9dba64",
            "d9ac8300ae564bb39cc25481d84c98d1",
            "28ff70e10711416b9e7594401b4ee054",
            "dff20232564c4f70ba4573f5cfd4ad84",
            "7bd9eca983bc47df8b9bbc2ad1717204",
            "0e81645e0dc44cea8eb648a4969e338c",
            "05428a3c7fe2460d9246517a79c3742d",
            "d7989ed309794e1d8dcc42dcd8adc3de",
            "f81088b82c6041c79d881878f6f39433",
            "b24e506d2aff46ecaa57407538e73b0e",
            "c14cfe51e3054b5394ca2192b482851f",
            "d478cf05fe6446e6a0d33a8cb23d935d",
            "1a46dda2af8e4c68a2afe59a74118341",
            "f65d41b0d69649c195791b4d46863ba0",
            "739cef68ce7b46549ae1dbe911a7dd51",
            "384d765d2cf34b81a7dee8f27a49f946",
            "4ab73ef957a34b53833af003df76ea74",
            "95280dc9ad334e7a8f5c282eeb84b9d6",
            "c924b49b837a44a6a996d57840c84775",
            "9c28133e08cd4bb5b952eb88a2c6b31f",
            "e9667ba36ba6490a99f5fe86770ec214",
            "ade3124ca28941bd91a29e6151e769c2",
            "4cb7faee7c804191873e3d78cb6d95d2",
            "9b43370177224bd8a70dcc485a3acf18",
            "29803e8792a24c9da3ec901fd60e931a",
            "ab79a61ddbb3444b9ab14b0635e4a8bc",
            "e8554af7aecb4c47976f6eaaf331f1e6",
            "97d476d99fc54d67a928d9d766141db9",
            "a9abd018537545f086cfb0b1ca9ec737",
            "a14a913b827a425e8a97cfa03ba86d82",
            "857728fe2ff54e1bbfe5a48ee73e02d5",
            "1f97af73d702418281b8ee21e450a16b",
            "f4cef87d3e134900b760e8a6502f984c",
            "8141c941f76a40e38daf9eb7320b850d"
          ]
        },
        "outputId": "081aefae-dc32-4175-e387-9cb1c0fa5bc3"
      },
      "execution_count": 39,
      "outputs": [
        {
          "output_type": "display_data",
          "data": {
            "text/plain": [
              "Downloading (…)lve/main/config.json:   0%|          | 0.00/481 [00:00<?, ?B/s]"
            ],
            "application/vnd.jupyter.widget-view+json": {
              "version_major": 2,
              "version_minor": 0,
              "model_id": "ab8f28ae56cf4a858537708aed09d382"
            }
          },
          "metadata": {}
        },
        {
          "output_type": "display_data",
          "data": {
            "text/plain": [
              "Downloading pytorch_model.bin:   0%|          | 0.00/501M [00:00<?, ?B/s]"
            ],
            "application/vnd.jupyter.widget-view+json": {
              "version_major": 2,
              "version_minor": 0,
              "model_id": "d9ac8300ae564bb39cc25481d84c98d1"
            }
          },
          "metadata": {}
        },
        {
          "output_type": "stream",
          "name": "stderr",
          "text": [
            "Some weights of the model checkpoint at roberta-base were not used when initializing RobertaModel: ['lm_head.bias', 'lm_head.decoder.weight', 'lm_head.dense.weight', 'lm_head.layer_norm.weight', 'lm_head.layer_norm.bias', 'lm_head.dense.bias']\n",
            "- This IS expected if you are initializing RobertaModel from the checkpoint of a model trained on another task or with another architecture (e.g. initializing a BertForSequenceClassification model from a BertForPreTraining model).\n",
            "- This IS NOT expected if you are initializing RobertaModel from the checkpoint of a model that you expect to be exactly identical (initializing a BertForSequenceClassification model from a BertForSequenceClassification model).\n"
          ]
        },
        {
          "output_type": "display_data",
          "data": {
            "text/plain": [
              "Downloading (…)olve/main/vocab.json:   0%|          | 0.00/899k [00:00<?, ?B/s]"
            ],
            "application/vnd.jupyter.widget-view+json": {
              "version_major": 2,
              "version_minor": 0,
              "model_id": "1a46dda2af8e4c68a2afe59a74118341"
            }
          },
          "metadata": {}
        },
        {
          "output_type": "display_data",
          "data": {
            "text/plain": [
              "Downloading (…)olve/main/merges.txt:   0%|          | 0.00/456k [00:00<?, ?B/s]"
            ],
            "application/vnd.jupyter.widget-view+json": {
              "version_major": 2,
              "version_minor": 0,
              "model_id": "9b43370177224bd8a70dcc485a3acf18"
            }
          },
          "metadata": {}
        }
      ]
    },
    {
      "cell_type": "code",
      "source": [
        "# Tokenizing the text and then converting it to input IDs\n",
        "train_encodi= tokenizer(texts_train, truncation=True, padding=True)\n",
        "val_encodi = tokenizer(texts_val, truncation=True, padding=True)\n",
        "\n",
        "# Converting the labels into numbers given in the map\n",
        "label_mapping = {\"positive\": 2, \"neutral\": 1, \"negative\": 0}\n",
        "train_labels = [label_mapping[label] for label in labels_train]\n",
        "val_labels = [label_mapping[label] for label in labels_val]\n"
      ],
      "metadata": {
        "id": "h1rnqINmF_28"
      },
      "execution_count": 40,
      "outputs": []
    },
    {
      "cell_type": "code",
      "source": [
        "import numpy as np\n",
        "from transformers import pipeline\n",
        "\n",
        "# Define the feature extraction pipeline\n",
        "feature_extraction = pipeline(\n",
        "    \"feature-extraction\",\n",
        "    model=model,\n",
        "    tokenizer=tokenizer\n",
        ")\n",
        "\n",
        "# Extract the first context vector for each document for the training and validation sets\n",
        "train_context_vectors = np.array([result[0][0] for result in feature_extraction(texts_train)])\n",
        "val_context_vectors = np.array([result[0][0] for result in feature_extraction(texts_val)])\n"
      ],
      "metadata": {
        "id": "F9eeyQT7cMSO"
      },
      "execution_count": 41,
      "outputs": []
    },
    {
      "cell_type": "code",
      "source": [
        "from sklearn.linear_model import LogisticRegression\n",
        "\n",
        "# using the train data , we will trian the logistic regression model\n",
        "lr = LogisticRegression(max_iter=2000,C=10)\n",
        "lr.fit(train_context_vectors,train_labels)\n"
      ],
      "metadata": {
        "id": "OtOpi1IvgJBp",
        "colab": {
          "base_uri": "https://localhost:8080/",
          "height": 76
        },
        "outputId": "403d829a-07c0-453e-ab86-b4cd1f7cdaed"
      },
      "execution_count": 42,
      "outputs": [
        {
          "output_type": "execute_result",
          "data": {
            "text/plain": [
              "LogisticRegression(C=10, max_iter=2000)"
            ],
            "text/html": [
              "<style>#sk-container-id-3 {color: black;background-color: white;}#sk-container-id-3 pre{padding: 0;}#sk-container-id-3 div.sk-toggleable {background-color: white;}#sk-container-id-3 label.sk-toggleable__label {cursor: pointer;display: block;width: 100%;margin-bottom: 0;padding: 0.3em;box-sizing: border-box;text-align: center;}#sk-container-id-3 label.sk-toggleable__label-arrow:before {content: \"▸\";float: left;margin-right: 0.25em;color: #696969;}#sk-container-id-3 label.sk-toggleable__label-arrow:hover:before {color: black;}#sk-container-id-3 div.sk-estimator:hover label.sk-toggleable__label-arrow:before {color: black;}#sk-container-id-3 div.sk-toggleable__content {max-height: 0;max-width: 0;overflow: hidden;text-align: left;background-color: #f0f8ff;}#sk-container-id-3 div.sk-toggleable__content pre {margin: 0.2em;color: black;border-radius: 0.25em;background-color: #f0f8ff;}#sk-container-id-3 input.sk-toggleable__control:checked~div.sk-toggleable__content {max-height: 200px;max-width: 100%;overflow: auto;}#sk-container-id-3 input.sk-toggleable__control:checked~label.sk-toggleable__label-arrow:before {content: \"▾\";}#sk-container-id-3 div.sk-estimator input.sk-toggleable__control:checked~label.sk-toggleable__label {background-color: #d4ebff;}#sk-container-id-3 div.sk-label input.sk-toggleable__control:checked~label.sk-toggleable__label {background-color: #d4ebff;}#sk-container-id-3 input.sk-hidden--visually {border: 0;clip: rect(1px 1px 1px 1px);clip: rect(1px, 1px, 1px, 1px);height: 1px;margin: -1px;overflow: hidden;padding: 0;position: absolute;width: 1px;}#sk-container-id-3 div.sk-estimator {font-family: monospace;background-color: #f0f8ff;border: 1px dotted black;border-radius: 0.25em;box-sizing: border-box;margin-bottom: 0.5em;}#sk-container-id-3 div.sk-estimator:hover {background-color: #d4ebff;}#sk-container-id-3 div.sk-parallel-item::after {content: \"\";width: 100%;border-bottom: 1px solid gray;flex-grow: 1;}#sk-container-id-3 div.sk-label:hover label.sk-toggleable__label {background-color: #d4ebff;}#sk-container-id-3 div.sk-serial::before {content: \"\";position: absolute;border-left: 1px solid gray;box-sizing: border-box;top: 0;bottom: 0;left: 50%;z-index: 0;}#sk-container-id-3 div.sk-serial {display: flex;flex-direction: column;align-items: center;background-color: white;padding-right: 0.2em;padding-left: 0.2em;position: relative;}#sk-container-id-3 div.sk-item {position: relative;z-index: 1;}#sk-container-id-3 div.sk-parallel {display: flex;align-items: stretch;justify-content: center;background-color: white;position: relative;}#sk-container-id-3 div.sk-item::before, #sk-container-id-3 div.sk-parallel-item::before {content: \"\";position: absolute;border-left: 1px solid gray;box-sizing: border-box;top: 0;bottom: 0;left: 50%;z-index: -1;}#sk-container-id-3 div.sk-parallel-item {display: flex;flex-direction: column;z-index: 1;position: relative;background-color: white;}#sk-container-id-3 div.sk-parallel-item:first-child::after {align-self: flex-end;width: 50%;}#sk-container-id-3 div.sk-parallel-item:last-child::after {align-self: flex-start;width: 50%;}#sk-container-id-3 div.sk-parallel-item:only-child::after {width: 0;}#sk-container-id-3 div.sk-dashed-wrapped {border: 1px dashed gray;margin: 0 0.4em 0.5em 0.4em;box-sizing: border-box;padding-bottom: 0.4em;background-color: white;}#sk-container-id-3 div.sk-label label {font-family: monospace;font-weight: bold;display: inline-block;line-height: 1.2em;}#sk-container-id-3 div.sk-label-container {text-align: center;}#sk-container-id-3 div.sk-container {/* jupyter's `normalize.less` sets `[hidden] { display: none; }` but bootstrap.min.css set `[hidden] { display: none !important; }` so we also need the `!important` here to be able to override the default hidden behavior on the sphinx rendered scikit-learn.org. See: https://github.com/scikit-learn/scikit-learn/issues/21755 */display: inline-block !important;position: relative;}#sk-container-id-3 div.sk-text-repr-fallback {display: none;}</style><div id=\"sk-container-id-3\" class=\"sk-top-container\"><div class=\"sk-text-repr-fallback\"><pre>LogisticRegression(C=10, max_iter=2000)</pre><b>In a Jupyter environment, please rerun this cell to show the HTML representation or trust the notebook. <br />On GitHub, the HTML representation is unable to render, please try loading this page with nbviewer.org.</b></div><div class=\"sk-container\" hidden><div class=\"sk-item\"><div class=\"sk-estimator sk-toggleable\"><input class=\"sk-toggleable__control sk-hidden--visually\" id=\"sk-estimator-id-3\" type=\"checkbox\" checked><label for=\"sk-estimator-id-3\" class=\"sk-toggleable__label sk-toggleable__label-arrow\">LogisticRegression</label><div class=\"sk-toggleable__content\"><pre>LogisticRegression(C=10, max_iter=2000)</pre></div></div></div></div></div>"
            ]
          },
          "metadata": {},
          "execution_count": 42
        }
      ]
    },
    {
      "cell_type": "code",
      "source": [
        "\n",
        "# Make predictions on the validation data\n",
        "val_preds = lr.predict(val_context_vectors)\n",
        "\n",
        "#calculate the scores\n",
        "Accuracy_Bert=[\"Accuracy\"]\n",
        "Precision_Bert=[\"Precision\"]\n",
        "Recall_Bert=[\"Recall\"]\n",
        "F1_score_Bert=[\"F1 score\"]\n",
        "accuracy = accuracy_score(val_labels, val_preds)\n",
        "precision = precision_score(val_labels, val_preds,average=\"macro\")\n",
        "recall = recall_score(val_labels, val_preds,average=\"macro\")\n",
        "f1 = f1_score(val_labels, val_preds,average=\"macro\")\n",
        "Accuracy_Bert.append(accuracy.round(3))\n",
        "Precision_Bert.append(precision.round(3))\n",
        "Recall_Bert.append(recall.round(3))\n",
        "F1_score_Bert.append(f1.round(3))\n",
        "\n",
        "# evaluation metrics\n",
        "table_data = [[\"metrics\",\"Feature extraction with roberta and logisticRegression\",\"trainer from hugging face\"],\n",
        "              Accuracy_Bert,\n",
        "              Precision_Bert,\n",
        "              Recall_Bert,F1_score_Bert]\n",
        "tablefmt = \"fancy_grid\"\n",
        "headers = [\"\\033[34m{}\\033[0m\".format(header) for header in table_data[0]]\n",
        "table_data = [headers] + table_data[1:]\n",
        "colored_data = [[f\"\\033[32m{col}\\033[0m\" if isinstance(col, int) else col for col in row] for row in table_data]\n",
        "print(tabulate(colored_data, headers=\"firstrow\", tablefmt=tablefmt))\n"
      ],
      "metadata": {
        "colab": {
          "base_uri": "https://localhost:8080/"
        },
        "id": "FK2l7smlxfA1",
        "outputId": "9cc7b9de-e954-426d-85f0-ce986dc77ea0"
      },
      "execution_count": 43,
      "outputs": [
        {
          "output_type": "stream",
          "name": "stdout",
          "text": [
            "╒═══════════╤══════════════════════════════════════════════════════════╕\n",
            "│ \u001b[34mmetrics\u001b[0m   │   \u001b[34mFeature extraction with roberta and logisticRegression\u001b[0m │\n",
            "╞═══════════╪══════════════════════════════════════════════════════════╡\n",
            "│ Accuracy  │                                                    0.756 │\n",
            "├───────────┼──────────────────────────────────────────────────────────┤\n",
            "│ Precision │                                                    0.747 │\n",
            "├───────────┼──────────────────────────────────────────────────────────┤\n",
            "│ Recall    │                                                    0.738 │\n",
            "├───────────┼──────────────────────────────────────────────────────────┤\n",
            "│ F1 score  │                                                    0.74  │\n",
            "╘═══════════╧══════════════════════════════════════════════════════════╛\n"
          ]
        }
      ]
    },
    {
      "cell_type": "markdown",
      "source": [
        "### **b) uisng the trainer from the hugging face library**"
      ],
      "metadata": {
        "id": "mBjI9OAXt9o1"
      }
    },
    {
      "cell_type": "code",
      "source": [
        "\n",
        "from datasets import Dataset"
      ],
      "metadata": {
        "id": "qRI_qM8vyos_",
        "colab": {
          "base_uri": "https://localhost:8080/"
        },
        "outputId": "e9357bd8-dc90-40d3-aafe-a017fb1a8363"
      },
      "execution_count": 44,
      "outputs": [
        {
          "output_type": "stream",
          "name": "stdout",
          "text": [
            "Looking in indexes: https://pypi.org/simple, https://us-python.pkg.dev/colab-wheels/public/simple/\n",
            "Collecting datasets\n",
            "  Downloading datasets-2.10.1-py3-none-any.whl (469 kB)\n",
            "\u001b[2K     \u001b[90m━━━━━━━━━━━━━━━━━━━━━━━━━━━━━━━━━━━━━━━\u001b[0m \u001b[32m469.0/469.0 KB\u001b[0m \u001b[31m8.8 MB/s\u001b[0m eta \u001b[36m0:00:00\u001b[0m\n",
            "\u001b[?25hCollecting aiohttp\n",
            "  Downloading aiohttp-3.8.4-cp39-cp39-manylinux_2_17_x86_64.manylinux2014_x86_64.whl (1.0 MB)\n",
            "\u001b[2K     \u001b[90m━━━━━━━━━━━━━━━━━━━━━━━━━━━━━━━━━━━━━━━━\u001b[0m \u001b[32m1.0/1.0 MB\u001b[0m \u001b[31m38.7 MB/s\u001b[0m eta \u001b[36m0:00:00\u001b[0m\n",
            "\u001b[?25hRequirement already satisfied: numpy>=1.17 in /usr/local/lib/python3.9/dist-packages (from datasets) (1.22.4)\n",
            "Collecting xxhash\n",
            "  Downloading xxhash-3.2.0-cp39-cp39-manylinux_2_17_x86_64.manylinux2014_x86_64.whl (212 kB)\n",
            "\u001b[2K     \u001b[90m━━━━━━━━━━━━━━━━━━━━━━━━━━━━━━━━━━━━━━\u001b[0m \u001b[32m212.2/212.2 KB\u001b[0m \u001b[31m21.3 MB/s\u001b[0m eta \u001b[36m0:00:00\u001b[0m\n",
            "\u001b[?25hRequirement already satisfied: pyarrow>=6.0.0 in /usr/local/lib/python3.9/dist-packages (from datasets) (9.0.0)\n",
            "Collecting multiprocess\n",
            "  Downloading multiprocess-0.70.14-py39-none-any.whl (132 kB)\n",
            "\u001b[2K     \u001b[90m━━━━━━━━━━━━━━━━━━━━━━━━━━━━━━━━━━━━━━\u001b[0m \u001b[32m132.9/132.9 KB\u001b[0m \u001b[31m11.5 MB/s\u001b[0m eta \u001b[36m0:00:00\u001b[0m\n",
            "\u001b[?25hRequirement already satisfied: requests>=2.19.0 in /usr/local/lib/python3.9/dist-packages (from datasets) (2.27.1)\n",
            "Requirement already satisfied: fsspec[http]>=2021.11.1 in /usr/local/lib/python3.9/dist-packages (from datasets) (2023.3.0)\n",
            "Requirement already satisfied: huggingface-hub<1.0.0,>=0.2.0 in /usr/local/lib/python3.9/dist-packages (from datasets) (0.13.2)\n",
            "Requirement already satisfied: packaging in /usr/local/lib/python3.9/dist-packages (from datasets) (23.0)\n",
            "Requirement already satisfied: tqdm>=4.62.1 in /usr/local/lib/python3.9/dist-packages (from datasets) (4.65.0)\n",
            "Collecting responses<0.19\n",
            "  Downloading responses-0.18.0-py3-none-any.whl (38 kB)\n",
            "Requirement already satisfied: pandas in /usr/local/lib/python3.9/dist-packages (from datasets) (1.4.4)\n",
            "Requirement already satisfied: pyyaml>=5.1 in /usr/local/lib/python3.9/dist-packages (from datasets) (6.0)\n",
            "Collecting dill<0.3.7,>=0.3.0\n",
            "  Downloading dill-0.3.6-py3-none-any.whl (110 kB)\n",
            "\u001b[2K     \u001b[90m━━━━━━━━━━━━━━━━━━━━━━━━━━━━━━━━━━━━━━\u001b[0m \u001b[32m110.5/110.5 KB\u001b[0m \u001b[31m12.6 MB/s\u001b[0m eta \u001b[36m0:00:00\u001b[0m\n",
            "\u001b[?25hCollecting aiosignal>=1.1.2\n",
            "  Downloading aiosignal-1.3.1-py3-none-any.whl (7.6 kB)\n",
            "Collecting multidict<7.0,>=4.5\n",
            "  Downloading multidict-6.0.4-cp39-cp39-manylinux_2_17_x86_64.manylinux2014_x86_64.whl (114 kB)\n",
            "\u001b[2K     \u001b[90m━━━━━━━━━━━━━━━━━━━━━━━━━━━━━━━━━━━━━━\u001b[0m \u001b[32m114.2/114.2 KB\u001b[0m \u001b[31m13.6 MB/s\u001b[0m eta \u001b[36m0:00:00\u001b[0m\n",
            "\u001b[?25hCollecting yarl<2.0,>=1.0\n",
            "  Downloading yarl-1.8.2-cp39-cp39-manylinux_2_17_x86_64.manylinux2014_x86_64.whl (264 kB)\n",
            "\u001b[2K     \u001b[90m━━━━━━━━━━━━━━━━━━━━━━━━━━━━━━━━━━━━━━\u001b[0m \u001b[32m264.6/264.6 KB\u001b[0m \u001b[31m30.7 MB/s\u001b[0m eta \u001b[36m0:00:00\u001b[0m\n",
            "\u001b[?25hCollecting frozenlist>=1.1.1\n",
            "  Downloading frozenlist-1.3.3-cp39-cp39-manylinux_2_5_x86_64.manylinux1_x86_64.manylinux_2_17_x86_64.manylinux2014_x86_64.whl (158 kB)\n",
            "\u001b[2K     \u001b[90m━━━━━━━━━━━━━━━━━━━━━━━━━━━━━━━━━━━━━━\u001b[0m \u001b[32m158.8/158.8 KB\u001b[0m \u001b[31m19.0 MB/s\u001b[0m eta \u001b[36m0:00:00\u001b[0m\n",
            "\u001b[?25hRequirement already satisfied: charset-normalizer<4.0,>=2.0 in /usr/local/lib/python3.9/dist-packages (from aiohttp->datasets) (2.0.12)\n",
            "Requirement already satisfied: attrs>=17.3.0 in /usr/local/lib/python3.9/dist-packages (from aiohttp->datasets) (22.2.0)\n",
            "Collecting async-timeout<5.0,>=4.0.0a3\n",
            "  Downloading async_timeout-4.0.2-py3-none-any.whl (5.8 kB)\n",
            "Requirement already satisfied: filelock in /usr/local/lib/python3.9/dist-packages (from huggingface-hub<1.0.0,>=0.2.0->datasets) (3.10.0)\n",
            "Requirement already satisfied: typing-extensions>=3.7.4.3 in /usr/local/lib/python3.9/dist-packages (from huggingface-hub<1.0.0,>=0.2.0->datasets) (4.5.0)\n",
            "Requirement already satisfied: urllib3<1.27,>=1.21.1 in /usr/local/lib/python3.9/dist-packages (from requests>=2.19.0->datasets) (1.26.15)\n",
            "Requirement already satisfied: certifi>=2017.4.17 in /usr/local/lib/python3.9/dist-packages (from requests>=2.19.0->datasets) (2022.12.7)\n",
            "Requirement already satisfied: idna<4,>=2.5 in /usr/local/lib/python3.9/dist-packages (from requests>=2.19.0->datasets) (3.4)\n",
            "Requirement already satisfied: pytz>=2020.1 in /usr/local/lib/python3.9/dist-packages (from pandas->datasets) (2022.7.1)\n",
            "Requirement already satisfied: python-dateutil>=2.8.1 in /usr/local/lib/python3.9/dist-packages (from pandas->datasets) (2.8.2)\n",
            "Requirement already satisfied: six>=1.5 in /usr/local/lib/python3.9/dist-packages (from python-dateutil>=2.8.1->pandas->datasets) (1.15.0)\n",
            "Installing collected packages: xxhash, multidict, frozenlist, dill, async-timeout, yarl, responses, multiprocess, aiosignal, aiohttp, datasets\n",
            "Successfully installed aiohttp-3.8.4 aiosignal-1.3.1 async-timeout-4.0.2 datasets-2.10.1 dill-0.3.6 frozenlist-1.3.3 multidict-6.0.4 multiprocess-0.70.14 responses-0.18.0 xxhash-3.2.0 yarl-1.8.2\n"
          ]
        }
      ]
    },
    {
      "cell_type": "code",
      "source": [
        "learning_rate = 1e-4\n",
        "batch_size = 16\n",
        "epochs = 1 "
      ],
      "metadata": {
        "id": "q3w_GpyvuOBt"
      },
      "execution_count": 45,
      "outputs": []
    },
    {
      "cell_type": "code",
      "source": [
        "from datasets import Dataset\n",
        "from transformers import TrainingArguments, Trainer, RobertaForSequenceClassification, RobertaTokenizer, DataCollatorWithPadding\n",
        "\n",
        "model = RobertaForSequenceClassification.from_pretrained('roberta-base', num_labels=3)\n",
        "tokenizer = RobertaTokenizer.from_pretrained('roberta-base')\n",
        "\n",
        "train_dataset = Dataset.from_dict({'input_ids': train_encodi['input_ids'], \n",
        "                                   'attention_mask': train_encodi['attention_mask'],\n",
        "                                   'labels': train_labels})\n",
        "\n",
        "validation_dataset = Dataset.from_dict({'input_ids': val_encodi['input_ids'],\n",
        "                                        'attention_mask':val_encodi['attention_mask'], \n",
        "                                   'labels': val_labels})\n",
        "\n",
        "training_args = TrainingArguments(\n",
        "    output_dir=\"bert-model\",\n",
        "    evaluation_strategy=\"epoch\", \n",
        "    learning_rate=learning_rate, \n",
        "    per_device_train_batch_size=batch_size, \n",
        "    per_device_eval_batch_size=batch_size, \n",
        "    num_train_epochs=epochs, \n",
        "    weight_decay=0, \n",
        ")\n",
        "\n",
        "trainer = Trainer(\n",
        "    model=model, \n",
        "    args=training_args,\n",
        "    train_dataset=train_dataset, \n",
        "    eval_dataset=validation_dataset, \n",
        "    tokenizer=tokenizer, \n",
        ")\n",
        "\n",
        "trainer.train()"
      ],
      "metadata": {
        "id": "WY0DcMYwwYmy",
        "colab": {
          "base_uri": "https://localhost:8080/",
          "height": 317
        },
        "outputId": "4c62750b-2e7f-4965-fb41-4d8d2ef88512"
      },
      "execution_count": 46,
      "outputs": [
        {
          "output_type": "stream",
          "name": "stderr",
          "text": [
            "Some weights of the model checkpoint at roberta-base were not used when initializing RobertaForSequenceClassification: ['lm_head.bias', 'lm_head.decoder.weight', 'lm_head.dense.weight', 'roberta.pooler.dense.weight', 'lm_head.layer_norm.weight', 'lm_head.layer_norm.bias', 'lm_head.dense.bias', 'roberta.pooler.dense.bias']\n",
            "- This IS expected if you are initializing RobertaForSequenceClassification from the checkpoint of a model trained on another task or with another architecture (e.g. initializing a BertForSequenceClassification model from a BertForPreTraining model).\n",
            "- This IS NOT expected if you are initializing RobertaForSequenceClassification from the checkpoint of a model that you expect to be exactly identical (initializing a BertForSequenceClassification model from a BertForSequenceClassification model).\n",
            "Some weights of RobertaForSequenceClassification were not initialized from the model checkpoint at roberta-base and are newly initialized: ['classifier.out_proj.weight', 'classifier.dense.bias', 'classifier.dense.weight', 'classifier.out_proj.bias']\n",
            "You should probably TRAIN this model on a down-stream task to be able to use it for predictions and inference.\n",
            "/usr/local/lib/python3.9/dist-packages/torch/cuda/__init__.py:497: UserWarning: Can't initialize NVML\n",
            "  warnings.warn(\"Can't initialize NVML\")\n",
            "/usr/local/lib/python3.9/dist-packages/transformers/optimization.py:391: FutureWarning: This implementation of AdamW is deprecated and will be removed in a future version. Use the PyTorch implementation torch.optim.AdamW instead, or set `no_deprecation_warning=True` to disable this warning\n",
            "  warnings.warn(\n"
          ]
        },
        {
          "output_type": "display_data",
          "data": {
            "text/plain": [
              "<IPython.core.display.HTML object>"
            ],
            "text/html": [
              "\n",
              "    <div>\n",
              "      \n",
              "      <progress value='65' max='65' style='width:300px; height:20px; vertical-align: middle;'></progress>\n",
              "      [65/65 19:31, Epoch 1/1]\n",
              "    </div>\n",
              "    <table border=\"1\" class=\"dataframe\">\n",
              "  <thead>\n",
              " <tr style=\"text-align: left;\">\n",
              "      <th>Epoch</th>\n",
              "      <th>Training Loss</th>\n",
              "      <th>Validation Loss</th>\n",
              "    </tr>\n",
              "  </thead>\n",
              "  <tbody>\n",
              "    <tr>\n",
              "      <td>1</td>\n",
              "      <td>No log</td>\n",
              "      <td>0.580768</td>\n",
              "    </tr>\n",
              "  </tbody>\n",
              "</table><p>"
            ]
          },
          "metadata": {}
        },
        {
          "output_type": "execute_result",
          "data": {
            "text/plain": [
              "TrainOutput(global_step=65, training_loss=0.9059316781850961, metrics={'train_runtime': 1203.66, 'train_samples_per_second': 0.856, 'train_steps_per_second': 0.054, 'total_flos': 47637917623800.0, 'train_loss': 0.9059316781850961, 'epoch': 1.0})"
            ]
          },
          "metadata": {},
          "execution_count": 46
        }
      ]
    },
    {
      "cell_type": "code",
      "source": [
        "# predicting the labels\n",
        "predictions_first, label_ids, metrics = trainer.predict(validation_dataset)"
      ],
      "metadata": {
        "colab": {
          "base_uri": "https://localhost:8080/",
          "height": 17
        },
        "id": "jk0Tin25_pq-",
        "outputId": "7a400a51-1c07-47e1-ca05-37f88c33189d"
      },
      "execution_count": 47,
      "outputs": [
        {
          "output_type": "display_data",
          "data": {
            "text/plain": [
              "<IPython.core.display.HTML object>"
            ],
            "text/html": []
          },
          "metadata": {}
        }
      ]
    },
    {
      "cell_type": "code",
      "source": [
        "preds_first = np.argmax(predictions_first, axis=1)"
      ],
      "metadata": {
        "id": "ClLScHFJAOBY"
      },
      "execution_count": 48,
      "outputs": []
    },
    {
      "cell_type": "code",
      "source": [
        "accuracy = accuracy_score(val_labels, preds_first)\n",
        "precision = precision_score(val_labels, preds_first,average=\"macro\")\n",
        "recall = recall_score(val_labels, preds_first,average=\"macro\")\n",
        "f1 = f1_score(val_labels, preds_first,average=\"macro\") \n",
        "Accuracy_Bert.append(accuracy.round(3))\n",
        "Precision_Bert.append(precision.round(3))\n",
        "Recall_Bert.append(recall.round(3))\n",
        "F1_score_Bert.append(f1.round(3))"
      ],
      "metadata": {
        "id": "C3yYrSPXA1-o"
      },
      "execution_count": 49,
      "outputs": []
    },
    {
      "cell_type": "code",
      "source": [
        "table_data = [[\"metrics\",\"Feature extraction and logisticRegression\",\"trainer from hugging face\"],\n",
        "              Accuracy_Bert,\n",
        "              Precision_Bert,\n",
        "              Recall_Bert,F1_score_Bert]\n",
        "tablefmt = \"fancy_grid\"\n",
        "headers = [\"\\033[34m{}\\033[0m\".format(header) for header in table_data[0]]\n",
        "table_data = [headers] + table_data[1:]\n",
        "colored_data = [[f\"\\033[32m{col}\\033[0m\" if isinstance(col, int) else col for col in row] for row in table_data]\n",
        "print(tabulate(colored_data, headers=\"firstrow\", tablefmt=tablefmt))"
      ],
      "metadata": {
        "colab": {
          "base_uri": "https://localhost:8080/"
        },
        "id": "TxjiEzoyA5rX",
        "outputId": "411d38e5-5084-4bfc-fd6a-7a92c6847f5e"
      },
      "execution_count": 59,
      "outputs": [
        {
          "output_type": "stream",
          "name": "stdout",
          "text": [
            "╒═══════════╤═════════════════════════════════════════════╤═════════════════════════════╕\n",
            "│ \u001b[34mmetrics\u001b[0m   │   \u001b[34mFeature extraction and logisticRegression\u001b[0m │   \u001b[34mtrainer from hugging face\u001b[0m │\n",
            "╞═══════════╪═════════════════════════════════════════════╪═════════════════════════════╡\n",
            "│ Accuracy  │                                       0.756 │                       0.799 │\n",
            "├───────────┼─────────────────────────────────────────────┼─────────────────────────────┤\n",
            "│ Precision │                                       0.747 │                       0.791 │\n",
            "├───────────┼─────────────────────────────────────────────┼─────────────────────────────┤\n",
            "│ Recall    │                                       0.738 │                       0.789 │\n",
            "├───────────┼─────────────────────────────────────────────┼─────────────────────────────┤\n",
            "│ F1 score  │                                       0.74  │                       0.785 │\n",
            "╘═══════════╧═════════════════════════════════════════════╧═════════════════════════════╛\n"
          ]
        }
      ]
    },
    {
      "cell_type": "markdown",
      "source": [
        "# **c) Tuning the hyperparameter of hugging face trainer**"
      ],
      "metadata": {
        "id": "7WI7v5Uweoz3"
      }
    },
    {
      "cell_type": "code",
      "source": [
        "from datasets import Dataset\n",
        "from transformers import TrainingArguments, Trainer, RobertaForSequenceClassification, RobertaTokenizer, DataCollatorWithPadding\n",
        "\n",
        "model_1 = RobertaForSequenceClassification.from_pretrained('roberta-base', num_labels=3)\n",
        "tokenizer_1 = RobertaTokenizer.from_pretrained('roberta-base')\n",
        "\n",
        "train_dataset = Dataset.from_dict({'input_ids': train_encodi['input_ids'], \n",
        "                                   'attention_mask': train_encodi['attention_mask'],\n",
        "                                   'labels': train_labels})\n",
        "\n",
        "validation_dataset = Dataset.from_dict({'input_ids': val_encodi['input_ids'],\n",
        "                                        'attention_mask':val_encodi['attention_mask'], \n",
        "                                   'labels': val_labels})\n",
        "learning_rate = 5e-5\n",
        "batch_size = 32\n",
        "epochs = 1\n",
        "\n",
        "training_args_1 = TrainingArguments(\n",
        "    output_dir=\"bert-model\",\n",
        "    evaluation_strategy=\"epoch\", \n",
        "    learning_rate=learning_rate, \n",
        "    per_device_train_batch_size=batch_size, \n",
        "    per_device_eval_batch_size=batch_size, \n",
        "    num_train_epochs=epochs, \n",
        "    weight_decay=0, \n",
        ")\n",
        "\n",
        "trainer_1= Trainer(\n",
        "    model=model_1, \n",
        "    args=training_args_1,\n",
        "    train_dataset=train_dataset, \n",
        "    eval_dataset=validation_dataset, \n",
        "    tokenizer=tokenizer_1, \n",
        ")\n",
        "\n",
        "trainer_1.train()"
      ],
      "metadata": {
        "colab": {
          "base_uri": "https://localhost:8080/",
          "height": 282
        },
        "id": "7jLVC9bc6jnb",
        "outputId": "5c97fceb-bcad-47b8-a2cc-643b97e5180e"
      },
      "execution_count": 60,
      "outputs": [
        {
          "output_type": "stream",
          "name": "stderr",
          "text": [
            "Some weights of the model checkpoint at roberta-base were not used when initializing RobertaForSequenceClassification: ['lm_head.bias', 'lm_head.decoder.weight', 'lm_head.dense.weight', 'roberta.pooler.dense.weight', 'lm_head.layer_norm.weight', 'lm_head.layer_norm.bias', 'lm_head.dense.bias', 'roberta.pooler.dense.bias']\n",
            "- This IS expected if you are initializing RobertaForSequenceClassification from the checkpoint of a model trained on another task or with another architecture (e.g. initializing a BertForSequenceClassification model from a BertForPreTraining model).\n",
            "- This IS NOT expected if you are initializing RobertaForSequenceClassification from the checkpoint of a model that you expect to be exactly identical (initializing a BertForSequenceClassification model from a BertForSequenceClassification model).\n",
            "Some weights of RobertaForSequenceClassification were not initialized from the model checkpoint at roberta-base and are newly initialized: ['classifier.out_proj.weight', 'classifier.dense.bias', 'classifier.dense.weight', 'classifier.out_proj.bias']\n",
            "You should probably TRAIN this model on a down-stream task to be able to use it for predictions and inference.\n",
            "/usr/local/lib/python3.9/dist-packages/transformers/optimization.py:391: FutureWarning: This implementation of AdamW is deprecated and will be removed in a future version. Use the PyTorch implementation torch.optim.AdamW instead, or set `no_deprecation_warning=True` to disable this warning\n",
            "  warnings.warn(\n"
          ]
        },
        {
          "output_type": "display_data",
          "data": {
            "text/plain": [
              "<IPython.core.display.HTML object>"
            ],
            "text/html": [
              "\n",
              "    <div>\n",
              "      \n",
              "      <progress value='33' max='33' style='width:300px; height:20px; vertical-align: middle;'></progress>\n",
              "      [33/33 17:30, Epoch 1/1]\n",
              "    </div>\n",
              "    <table border=\"1\" class=\"dataframe\">\n",
              "  <thead>\n",
              " <tr style=\"text-align: left;\">\n",
              "      <th>Epoch</th>\n",
              "      <th>Training Loss</th>\n",
              "      <th>Validation Loss</th>\n",
              "    </tr>\n",
              "  </thead>\n",
              "  <tbody>\n",
              "    <tr>\n",
              "      <td>1</td>\n",
              "      <td>No log</td>\n",
              "      <td>0.659840</td>\n",
              "    </tr>\n",
              "  </tbody>\n",
              "</table><p>"
            ]
          },
          "metadata": {}
        },
        {
          "output_type": "execute_result",
          "data": {
            "text/plain": [
              "TrainOutput(global_step=33, training_loss=0.9264055309873639, metrics={'train_runtime': 1086.4929, 'train_samples_per_second': 0.948, 'train_steps_per_second': 0.03, 'total_flos': 47637917623800.0, 'train_loss': 0.9264055309873639, 'epoch': 1.0})"
            ]
          },
          "metadata": {},
          "execution_count": 60
        }
      ]
    },
    {
      "cell_type": "markdown",
      "source": [
        "d) comparing the context "
      ],
      "metadata": {
        "id": "6odMwyrs2vmA"
      }
    },
    {
      "cell_type": "code",
      "source": [
        "predictions_1, label_ids_1, metrics_1 = trainer_1.predict(validation_dataset)"
      ],
      "metadata": {
        "colab": {
          "base_uri": "https://localhost:8080/",
          "height": 17
        },
        "id": "M9Va_rJp2Q0a",
        "outputId": "0064abd7-62e9-47bd-8e29-bd8a97626c04"
      },
      "execution_count": 61,
      "outputs": [
        {
          "output_type": "display_data",
          "data": {
            "text/plain": [
              "<IPython.core.display.HTML object>"
            ],
            "text/html": []
          },
          "metadata": {}
        }
      ]
    },
    {
      "cell_type": "code",
      "source": [
        "preds_1= np.argmax(predictions_1, axis=1)"
      ],
      "metadata": {
        "id": "p0qSrmNu_bK0"
      },
      "execution_count": 62,
      "outputs": []
    },
    {
      "cell_type": "code",
      "source": [
        "accuracy = accuracy_score(val_labels, preds_1)\n",
        "precision = precision_score(val_labels, preds_1,average=\"macro\")\n",
        "recall = recall_score(val_labels, preds_1,average=\"macro\")\n",
        "f1 = f1_score(val_labels, preds_1,average=\"macro\") \n",
        "Accuracy_Bert.append(accuracy.round(3))\n",
        "Precision_Bert.append(precision.round(3))\n",
        "Recall_Bert.append(recall.round(3))\n",
        "F1_score_Bert.append(f1.round(3))"
      ],
      "metadata": {
        "id": "jBg1yKPuAGmj"
      },
      "execution_count": 63,
      "outputs": []
    },
    {
      "cell_type": "code",
      "source": [
        "table_data = [[\"metrics\",\"Feature extraction with logisticRegression\",\"end-to-end trainer from hugging face\",\"tuning (hugging face)\"],\n",
        "              Accuracy_Bert,\n",
        "              Precision_Bert,\n",
        "              Recall_Bert,F1_score_Bert]\n",
        "tablefmt = \"fancy_grid\"\n",
        "headers = [\"\\033[34m{}\\033[0m\".format(header) for header in table_data[0]]\n",
        "table_data = [headers] + table_data[1:]\n",
        "colored_data = [[f\"\\033[32m{col}\\033[0m\" if isinstance(col, int) else col for col in row] for row in table_data]\n",
        "print(tabulate(colored_data, headers=\"firstrow\", tablefmt=tablefmt))"
      ],
      "metadata": {
        "colab": {
          "base_uri": "https://localhost:8080/"
        },
        "id": "iDNLpiyzAQwd",
        "outputId": "728ecfaf-2981-4d2a-cfe7-3c9f3b5625d5"
      },
      "execution_count": 89,
      "outputs": [
        {
          "output_type": "stream",
          "name": "stdout",
          "text": [
            "╒═══════════╤══════════════════════════════════════════════╤════════════════════════════════════════╤═════════════════════════╕\n",
            "│ \u001b[34mmetrics\u001b[0m   │   \u001b[34mFeature extraction with logisticRegression\u001b[0m │   \u001b[34mend-to-end trainer from hugging face\u001b[0m │   \u001b[34mtuning (hugging face)\u001b[0m │\n",
            "╞═══════════╪══════════════════════════════════════════════╪════════════════════════════════════════╪═════════════════════════╡\n",
            "│ Accuracy  │                                        0.756 │                                  0.799 │                   0.744 │\n",
            "├───────────┼──────────────────────────────────────────────┼────────────────────────────────────────┼─────────────────────────┤\n",
            "│ Precision │                                        0.747 │                                  0.791 │                   0.728 │\n",
            "├───────────┼──────────────────────────────────────────────┼────────────────────────────────────────┼─────────────────────────┤\n",
            "│ Recall    │                                        0.738 │                                  0.789 │                   0.727 │\n",
            "├───────────┼──────────────────────────────────────────────┼────────────────────────────────────────┼─────────────────────────┤\n",
            "│ F1 score  │                                        0.74  │                                  0.785 │                   0.725 │\n",
            "╘═══════════╧══════════════════════════════════════════════╧════════════════════════════════════════╧═════════════════════════╛\n"
          ]
        }
      ]
    },
    {
      "cell_type": "markdown",
      "source": [
        "# **d) Comparing the context vector vs Trainer from hugging face before and after tuning**"
      ],
      "metadata": {
        "id": "nvOrojGcEn5Y"
      }
    },
    {
      "cell_type": "code",
      "source": [
        "import numpy as np\n",
        "import matplotlib.pyplot as plt\n",
        "\n",
        "models = ['Feature extraction and logisticRegression', 'trainer from hugging face', 'tuning set 1 (hugging face)']\n",
        "accuracy = [0.756, 0.799, 0.744]\n",
        "precision = [0.747, 0.791, 0.728]\n",
        "recall = [0.738, 0.789, 0.727]\n",
        "f1score = [0.74, 0.785, 0.725]\n",
        "bar_width = 0.2\n",
        "r1 = np.arange(len(models))\n",
        "r2 = [x + bar_width for x in r1]\n",
        "r3 = [x + bar_width for x in r2]\n",
        "r4 = [x + bar_width for x in r3]\n",
        "\n",
        "plt.bar(r1, accuracy, color='b', width=bar_width, edgecolor='white', label='Accuracy')\n",
        "plt.bar(r2, precision, color='g', width=bar_width, edgecolor='white', label='Precision')\n",
        "plt.bar(r3, recall, color='r', width=bar_width, edgecolor='white', label='Recall')\n",
        "plt.bar(r4, f1score, color='m', width=bar_width, edgecolor='white', label='F1 Score')\n",
        "\n",
        "plt.xlabel('Models')\n",
        "plt.ylabel('Metric Scores')\n",
        "plt.xticks([r + bar_width for r in range(len(models))], models, rotation=45, ha='right')\n",
        "plt.legend(loc='center left', bbox_to_anchor=(1, 0.5))\n",
        "\n",
        "plt.rcParams['figure.figsize'] = [10, 6]\n",
        "\n",
        "plt.show()\n"
      ],
      "metadata": {
        "colab": {
          "base_uri": "https://localhost:8080/",
          "height": 589
        },
        "id": "bLqgeuuhAZ3n",
        "outputId": "eb46b22c-8108-435e-866d-efb66bdc014d"
      },
      "execution_count": 111,
      "outputs": [
        {
          "output_type": "display_data",
          "data": {
            "text/plain": [
              "<Figure size 720x432 with 1 Axes>"
            ],
            "image/png": "[encoded data removed]"
          },
          "metadata": {}
        }
      ]
    },
    {
      "cell_type": "markdown",
      "source": [
        "# **Q6-conclusion and future work**"
      ],
      "metadata": {
        "id": "NxekuWQ4FUBD"
      }
    },
    {
      "cell_type": "markdown",
      "source": [
        "**a) getting the best performing model out of Q3/Q4/Q5 and training on the train data set and test in on the testing data**"
      ],
      "metadata": {
        "id": "x-sdZ_0ZGLo8"
      }
    },
    {
      "cell_type": "code",
      "source": [
        "# lets first group all the claassifiers from the Q3/Q4/Q5 and visualize it in a tabel\n",
        "table_data = [[\"metrics\", \"most frequent\", \"most stratified \", \"logistic one hot\", \"logistic tfidf\", \"svc onehot \",\"own_knn_TFIDF\"]+[\"context vectors\",\"end-to-end-trainer\",\"tuning(huggingface_trainer)\"],\n",
        "              accuracy_knn+Accuracy_Bert[1:],\n",
        "              precision_knn+Precision_Bert[1:],\n",
        "             recall_knn+ Recall_Bert[1:],f1_score_knn+F1_score_Bert[1:]]\n",
        "tablefmt = \"fancy_grid\"\n",
        "headers = [\"\\033[34m{}\\033[0m\".format(header) for header in table_data[0]]\n",
        "table_data = [headers] + table_data[1:]\n",
        "colored_data = [[f\"\\033[32m{col}\\033[0m\" if isinstance(col, int) else col for col in row] for row in table_data]\n",
        "print(tabulate(colored_data, headers=\"firstrow\", tablefmt=tablefmt))"
      ],
      "metadata": {
        "colab": {
          "base_uri": "https://localhost:8080/"
        },
        "id": "c_-fMB14FTrY",
        "outputId": "d7a7579f-59a2-4694-86c8-2b9b770cbc3b"
      },
      "execution_count": 85,
      "outputs": [
        {
          "output_type": "stream",
          "name": "stdout",
          "text": [
            "╒═══════════╤═════════════════╤════════════════════╤════════════════════╤══════════════════╤═══════════════╤═════════════════╤═══════════════════╤══════════════════════╤═══════════════════════════════╕\n",
            "│ \u001b[34mmetrics\u001b[0m   │   \u001b[34mmost frequent\u001b[0m │   \u001b[34mmost stratified \u001b[0m │   \u001b[34mlogistic one hot\u001b[0m │   \u001b[34mlogistic tfidf\u001b[0m │   \u001b[34msvc onehot \u001b[0m │   \u001b[34mown_knn_TFIDF\u001b[0m │   \u001b[34mcontext vectors\u001b[0m │   \u001b[34mend-to-end-trainer\u001b[0m │   \u001b[34mtuning(huggingface_trainer)\u001b[0m │\n",
            "╞═══════════╪═════════════════╪════════════════════╪════════════════════╪══════════════════╪═══════════════╪═════════════════╪═══════════════════╪══════════════════════╪═══════════════════════════════╡\n",
            "│ Accuracy  │           0.43  │              0.369 │              0.794 │            0.794 │         0.77  │           0.477 │             0.756 │                0.799 │                         0.744 │\n",
            "├───────────┼─────────────────┼────────────────────┼────────────────────┼──────────────────┼───────────────┼─────────────────┼───────────────────┼──────────────────────┼───────────────────────────────┤\n",
            "│ Precision │           0.143 │              0.363 │              0.793 │            0.793 │         0.756 │           0.611 │             0.747 │                0.791 │                         0.728 │\n",
            "├───────────┼─────────────────┼────────────────────┼────────────────────┼──────────────────┼───────────────┼─────────────────┼───────────────────┼──────────────────────┼───────────────────────────────┤\n",
            "│ Recall    │           0.333 │              0.363 │              0.778 │            0.778 │         0.753 │           0.459 │             0.738 │                0.789 │                         0.727 │\n",
            "├───────────┼─────────────────┼────────────────────┼────────────────────┼──────────────────┼───────────────┼─────────────────┼───────────────────┼──────────────────────┼───────────────────────────────┤\n",
            "│ F1 score  │           0.201 │              0.36  │              0.78  │            0.78  │         0.754 │           0.417 │             0.74  │                0.785 │                         0.725 │\n",
            "╘═══════════╧═════════════════╧════════════════════╧════════════════════╧══════════════════╧═══════════════╧═════════════════╧═══════════════════╧══════════════════════╧═══════════════════════════════╛\n"
          ]
        }
      ]
    },
    {
      "cell_type": "code",
      "source": [
        "# as we can see that the best performing model is the Hugging face trainer based on RoBERTa as base\n",
        "#lets test it on the test dataset"
      ],
      "metadata": {
        "id": "enoye7faCVqN"
      },
      "execution_count": 86,
      "outputs": []
    },
    {
      "cell_type": "code",
      "source": [
        "label_mapping = {\"positive\": 2, \"neutral\": 1, \"negative\": 0}\n",
        "test_labels = [label_mapping[label] for label in labels_test]\n",
        "\n",
        "tests_encodings = tokenizer(texts_test, truncation=True, padding=True)\n",
        "\n",
        "testing_dataset = Dataset.from_dict({'input_ids': tests_encodings['input_ids'],\n",
        "                                        'attention_mask':tests_encodings['attention_mask'], \n",
        "                                   'labels': test_labels})"
      ],
      "metadata": {
        "id": "V4l99erTIsNd"
      },
      "execution_count": 92,
      "outputs": []
    },
    {
      "cell_type": "code",
      "source": [
        "predictions_tests, label_ids_tests, metrics_tests = trainer.predict(testing_dataset)"
      ],
      "metadata": {
        "colab": {
          "base_uri": "https://localhost:8080/",
          "height": 17
        },
        "id": "h5egiRxoJwM_",
        "outputId": "3e9544fd-52a2-4695-bac5-84b61fd8adbb"
      },
      "execution_count": 93,
      "outputs": [
        {
          "output_type": "display_data",
          "data": {
            "text/plain": [
              "<IPython.core.display.HTML object>"
            ],
            "text/html": []
          },
          "metadata": {}
        }
      ]
    },
    {
      "cell_type": "code",
      "source": [
        "import numpy as np\n",
        "preds_tests= np.argmax(predictions_tests, axis=1)"
      ],
      "metadata": {
        "id": "c0rVAxp7KzcA"
      },
      "execution_count": 109,
      "outputs": []
    },
    {
      "cell_type": "code",
      "source": [
        "Accuracy_final=[\"Accuracy\"]\n",
        "Precision_final=[\"Precision\"]\n",
        "Recall_final=[\"Recall\"]\n",
        "F1_score_final=[\"F1 Score\"]\n",
        "\n",
        "accuracy = accuracy_score(test_labels, preds_tests)\n",
        "precision = precision_score(test_labels, preds_tests,average=\"macro\")\n",
        "recall = recall_score(test_labels, preds_tests,average=\"macro\")\n",
        "f1 = f1_score(test_labels, preds_tests,average=\"macro\") \n",
        "\n",
        "Accuracy_final.append(accuracy.round(3))\n",
        "Precision_final.append(precision.round(3))\n",
        "Recall_final.append(recall.round(3))\n",
        "F1_score_final.append(f1.round(3))"
      ],
      "metadata": {
        "id": "BqPL0xNRLPOW"
      },
      "execution_count": 114,
      "outputs": []
    },
    {
      "cell_type": "code",
      "source": [
        "table_data = [[\"Metrics of Testing\",\"Best model (hugging face trainer with RoBERTa \"],\n",
        "              Accuracy_final,\n",
        "              Precision_final,\n",
        "              Recall_final,F1_score_final]\n",
        "tablefmt = \"fancy_grid\"\n",
        "headers = [\"\\033[34m{}\\033[0m\".format(header) for header in table_data[0]]\n",
        "table_data = [headers] + table_data[1:]\n",
        "colored_data = [[f\"\\033[32m{col}\\033[0m\" if isinstance(col, int) else col for col in row] for row in table_data]\n",
        "print(tabulate(colored_data, headers=\"firstrow\", tablefmt=tablefmt))"
      ],
      "metadata": {
        "colab": {
          "base_uri": "https://localhost:8080/"
        },
        "id": "NfzjV23ILzFe",
        "outputId": "46d964ab-0cb5-42a3-9675-f1c44948a7b0"
      },
      "execution_count": 116,
      "outputs": [
        {
          "output_type": "stream",
          "name": "stdout",
          "text": [
            "╒══════════════════════╤══════════════════════════════════════════════════╕\n",
            "│ \u001b[34mMetrics of Testing\u001b[0m   │   \u001b[34mBest model (hugging face trainer with RoBERTa \u001b[0m │\n",
            "╞══════════════════════╪══════════════════════════════════════════════════╡\n",
            "│ Accuracy             │                                            0.73  │\n",
            "├──────────────────────┼──────────────────────────────────────────────────┤\n",
            "│ Precision            │                                            0.74  │\n",
            "├──────────────────────┼──────────────────────────────────────────────────┤\n",
            "│ Recall               │                                            0.711 │\n",
            "├──────────────────────┼──────────────────────────────────────────────────┤\n",
            "│ F1 Score             │                                            0.719 │\n",
            "╘══════════════════════╧══════════════════════════════════════════════════╛\n"
          ]
        }
      ]
    },
    {
      "cell_type": "code",
      "source": [
        "# confusion matrix\n",
        "from sklearn.metrics import confusion_matrix\n",
        "import seaborn as sns\n",
        "import matplotlib.pyplot as plt\n",
        "\n",
        "reverse_label_mapping = {2: \"positive\", 1: \"neutral\", 0: \"negative\"}\n",
        "predicted_test = [reverse_label_mapping[label] for label in preds_tests]\n",
        "\n",
        "conf_matrix = confusion_matrix(labels_test, predicted_test, labels=['positive', 'negative', 'neutral'])\n",
        "sns.heatmap(conf_matrix, annot=True, fmt='d', cmap='Blues', \n",
        "            xticklabels=['positive', 'negative', 'neutral'],\n",
        "            yticklabels=['positive', 'negative', 'neutral'])\n",
        "plt.title('Confusion Matrix')\n",
        "plt.xlabel('Predicted Label')\n",
        "plt.ylabel('True Label')\n",
        "plt.show()\n"
      ],
      "metadata": {
        "colab": {
          "base_uri": "https://localhost:8080/",
          "height": 416
        },
        "id": "wH4MGk9wPOHy",
        "outputId": "229bdb23-4fc0-4ba3-c9bc-2344fea153d1"
      },
      "execution_count": 119,
      "outputs": [
        {
          "output_type": "display_data",
          "data": {
            "text/plain": [
              "<Figure size 720x432 with 2 Axes>"
            ],
            "image/png": "[encoded data removed]"
          },
          "metadata": {}
        }
      ]
    },
    {
      "cell_type": "markdown",
      "source": [
        "# **b) error analysis**"
      ],
      "metadata": {
        "id": "PjdRxGpQjpWt"
      }
    },
    {
      "cell_type": "code",
      "source": [
        "# create a list of misclassified samples\n",
        "mispredicted = []\n",
        "for i in range(len(predicted_test)):\n",
        "    if predicted_test[i] != labels_test[i]:\n",
        "        mispredicted.append((i, texts_test[i], labels_test[i], predicted_test[i]))\n",
        "for i in mispredicted[:5]:\n",
        "    print(\"Index: \", i[0])\n",
        "    print(\"Text: \", i[1])\n",
        "    print(\"True label: \", i[2])\n",
        "    print(\"Predicted label: \", i[3])\n",
        "    print(\"------------\")\n",
        "#exaplaination is given in the report"
      ],
      "metadata": {
        "colab": {
          "base_uri": "https://localhost:8080/"
        },
        "id": "VrEPyMN6jm2r",
        "outputId": "950afc03-6221-45b9-9e0e-2b2c463bae0d"
      },
      "execution_count": 121,
      "outputs": [
        {
          "output_type": "stream",
          "name": "stdout",
          "text": [
            "Index:  3\n",
            "Text:  thankful amazon product buy daughter tell amazon\n",
            "True label:  positive\n",
            "Predicted label:  negative\n",
            "------------\n",
            "Index:  10\n",
            "Text:  like product lot time connect\n",
            "True label:  neutral\n",
            "Predicted label:  negative\n",
            "------------\n",
            "Index:  14\n",
            "Text:  buy product amazon prime work prime happy hear voice command reply prime report device deliver return trap like tell prime member tomorrow upgrade pay amazon trap wont let trap\n",
            "True label:  positive\n",
            "Predicted label:  negative\n",
            "------------\n",
            "Index:  20\n",
            "Text:  try google devices opinion guarantee future till amazon smart devices better google daily life usage\n",
            "True label:  positive\n",
            "Predicted label:  negative\n",
            "------------\n",
            "Index:  22\n",
            "Text:  bad quality old send\n",
            "True label:  negative\n",
            "Predicted label:  positive\n",
            "------------\n"
          ]
        }
      ]
    },
    {
      "cell_type": "markdown",
      "source": [
        "# **Rest of the questions are answered in the report . Thank you**"
      ],
      "metadata": {
        "id": "k38zYa3vPMGZ"
      }
    }
  ],
  "metadata": {
    "colab": {
      "provenance": []
    },
    "kernelspec": {
      "display_name": "Python 3",
      "name": "python3"
    },
    "language_info": {
      "name": "python"
    },
    "gpuClass": "standard",
    "widgets": {
      "application/vnd.jupyter.widget-state+json": {
        "ab8f28ae56cf4a858537708aed09d382": {
          "model_module": "@jupyter-widgets/controls",
          "model_name": "HBoxModel",
          "model_module_version": "1.5.0",
          "state": {
            "_dom_classes": [],
            "_model_module": "@jupyter-widgets/controls",
            "_model_module_version": "1.5.0",
            "_model_name": "HBoxModel",
            "_view_count": null,
            "_view_module": "@jupyter-widgets/controls",
            "_view_module_version": "1.5.0",
            "_view_name": "HBoxView",
            "box_style": "",
            "children": [
              "IPY_MODEL_27a9e2431d91428188fb7d32e25c817a",
              "IPY_MODEL_6972c06866574b2880d5a3c51d929d1b",
              "IPY_MODEL_243c4be7ab2a495aa00726e9ebb7cf5a"
            ],
            "layout": "IPY_MODEL_45936f264bd947eba1db933121fe3efe"
          }
        },
        "27a9e2431d91428188fb7d32e25c817a": {
          "model_module": "@jupyter-widgets/controls",
          "model_name": "HTMLModel",
          "model_module_version": "1.5.0",
          "state": {
            "_dom_classes": [],
            "_model_module": "@jupyter-widgets/controls",
            "_model_module_version": "1.5.0",
            "_model_name": "HTMLModel",
            "_view_count": null,
            "_view_module": "@jupyter-widgets/controls",
            "_view_module_version": "1.5.0",
            "_view_name": "HTMLView",
            "description": "",
            "description_tooltip": null,
            "layout": "IPY_MODEL_821c410528594939bc11265fd71d5121",
            "placeholder": "​",
            "style": "IPY_MODEL_66bacf62d08c431ba2fffc54747957c7",
            "value": "Downloading (…)lve/main/config.json: 100%"
          }
        },
        "6972c06866574b2880d5a3c51d929d1b": {
          "model_module": "@jupyter-widgets/controls",
          "model_name": "FloatProgressModel",
          "model_module_version": "1.5.0",
          "state": {
            "_dom_classes": [],
            "_model_module": "@jupyter-widgets/controls",
            "_model_module_version": "1.5.0",
            "_model_name": "FloatProgressModel",
            "_view_count": null,
            "_view_module": "@jupyter-widgets/controls",
            "_view_module_version": "1.5.0",
            "_view_name": "ProgressView",
            "bar_style": "success",
            "description": "",
            "description_tooltip": null,
            "layout": "IPY_MODEL_8f3faa1b3517437b924ca2d7faf18a40",
            "max": 481,
            "min": 0,
            "orientation": "horizontal",
            "style": "IPY_MODEL_6bc02e3f223d49ddbdd107d3daf746e9",
            "value": 481
          }
        },
        "243c4be7ab2a495aa00726e9ebb7cf5a": {
          "model_module": "@jupyter-widgets/controls",
          "model_name": "HTMLModel",
          "model_module_version": "1.5.0",
          "state": {
            "_dom_classes": [],
            "_model_module": "@jupyter-widgets/controls",
            "_model_module_version": "1.5.0",
            "_model_name": "HTMLModel",
            "_view_count": null,
            "_view_module": "@jupyter-widgets/controls",
            "_view_module_version": "1.5.0",
            "_view_name": "HTMLView",
            "description": "",
            "description_tooltip": null,
            "layout": "IPY_MODEL_66901736af3d4b858b080e6e794f9c6f",
            "placeholder": "​",
            "style": "IPY_MODEL_b6127ed2183d4d4789d11266aa9dba64",
            "value": " 481/481 [00:00&lt;00:00, 8.32kB/s]"
          }
        },
        "45936f264bd947eba1db933121fe3efe": {
          "model_module": "@jupyter-widgets/base",
          "model_name": "LayoutModel",
          "model_module_version": "1.2.0",
          "state": {
            "_model_module": "@jupyter-widgets/base",
            "_model_module_version": "1.2.0",
            "_model_name": "LayoutModel",
            "_view_count": null,
            "_view_module": "@jupyter-widgets/base",
            "_view_module_version": "1.2.0",
            "_view_name": "LayoutView",
            "align_content": null,
            "align_items": null,
            "align_self": null,
            "border": null,
            "bottom": null,
            "display": null,
            "flex": null,
            "flex_flow": null,
            "grid_area": null,
            "grid_auto_columns": null,
            "grid_auto_flow": null,
            "grid_auto_rows": null,
            "grid_column": null,
            "grid_gap": null,
            "grid_row": null,
            "grid_template_areas": null,
            "grid_template_columns": null,
            "grid_template_rows": null,
            "height": null,
            "justify_content": null,
            "justify_items": null,
            "left": null,
            "margin": null,
            "max_height": null,
            "max_width": null,
            "min_height": null,
            "min_width": null,
            "object_fit": null,
            "object_position": null,
            "order": null,
            "overflow": null,
            "overflow_x": null,
            "overflow_y": null,
            "padding": null,
            "right": null,
            "top": null,
            "visibility": null,
            "width": null
          }
        },
        "821c410528594939bc11265fd71d5121": {
          "model_module": "@jupyter-widgets/base",
          "model_name": "LayoutModel",
          "model_module_version": "1.2.0",
          "state": {
            "_model_module": "@jupyter-widgets/base",
            "_model_module_version": "1.2.0",
            "_model_name": "LayoutModel",
            "_view_count": null,
            "_view_module": "@jupyter-widgets/base",
            "_view_module_version": "1.2.0",
            "_view_name": "LayoutView",
            "align_content": null,
            "align_items": null,
            "align_self": null,
            "border": null,
            "bottom": null,
            "display": null,
            "flex": null,
            "flex_flow": null,
            "grid_area": null,
            "grid_auto_columns": null,
            "grid_auto_flow": null,
            "grid_auto_rows": null,
            "grid_column": null,
            "grid_gap": null,
            "grid_row": null,
            "grid_template_areas": null,
            "grid_template_columns": null,
            "grid_template_rows": null,
            "height": null,
            "justify_content": null,
            "justify_items": null,
            "left": null,
            "margin": null,
            "max_height": null,
            "max_width": null,
            "min_height": null,
            "min_width": null,
            "object_fit": null,
            "object_position": null,
            "order": null,
            "overflow": null,
            "overflow_x": null,
            "overflow_y": null,
            "padding": null,
            "right": null,
            "top": null,
            "visibility": null,
            "width": null
          }
        },
        "66bacf62d08c431ba2fffc54747957c7": {
          "model_module": "@jupyter-widgets/controls",
          "model_name": "DescriptionStyleModel",
          "model_module_version": "1.5.0",
          "state": {
            "_model_module": "@jupyter-widgets/controls",
            "_model_module_version": "1.5.0",
            "_model_name": "DescriptionStyleModel",
            "_view_count": null,
            "_view_module": "@jupyter-widgets/base",
            "_view_module_version": "1.2.0",
            "_view_name": "StyleView",
            "description_width": ""
          }
        },
        "8f3faa1b3517437b924ca2d7faf18a40": {
          "model_module": "@jupyter-widgets/base",
          "model_name": "LayoutModel",
          "model_module_version": "1.2.0",
          "state": {
            "_model_module": "@jupyter-widgets/base",
            "_model_module_version": "1.2.0",
            "_model_name": "LayoutModel",
            "_view_count": null,
            "_view_module": "@jupyter-widgets/base",
            "_view_module_version": "1.2.0",
            "_view_name": "LayoutView",
            "align_content": null,
            "align_items": null,
            "align_self": null,
            "border": null,
            "bottom": null,
            "display": null,
            "flex": null,
            "flex_flow": null,
            "grid_area": null,
            "grid_auto_columns": null,
            "grid_auto_flow": null,
            "grid_auto_rows": null,
            "grid_column": null,
            "grid_gap": null,
            "grid_row": null,
            "grid_template_areas": null,
            "grid_template_columns": null,
            "grid_template_rows": null,
            "height": null,
            "justify_content": null,
            "justify_items": null,
            "left": null,
            "margin": null,
            "max_height": null,
            "max_width": null,
            "min_height": null,
            "min_width": null,
            "object_fit": null,
            "object_position": null,
            "order": null,
            "overflow": null,
            "overflow_x": null,
            "overflow_y": null,
            "padding": null,
            "right": null,
            "top": null,
            "visibility": null,
            "width": null
          }
        },
        "6bc02e3f223d49ddbdd107d3daf746e9": {
          "model_module": "@jupyter-widgets/controls",
          "model_name": "ProgressStyleModel",
          "model_module_version": "1.5.0",
          "state": {
            "_model_module": "@jupyter-widgets/controls",
            "_model_module_version": "1.5.0",
            "_model_name": "ProgressStyleModel",
            "_view_count": null,
            "_view_module": "@jupyter-widgets/base",
            "_view_module_version": "1.2.0",
            "_view_name": "StyleView",
            "bar_color": null,
            "description_width": ""
          }
        },
        "66901736af3d4b858b080e6e794f9c6f": {
          "model_module": "@jupyter-widgets/base",
          "model_name": "LayoutModel",
          "model_module_version": "1.2.0",
          "state": {
            "_model_module": "@jupyter-widgets/base",
            "_model_module_version": "1.2.0",
            "_model_name": "LayoutModel",
            "_view_count": null,
            "_view_module": "@jupyter-widgets/base",
            "_view_module_version": "1.2.0",
            "_view_name": "LayoutView",
            "align_content": null,
            "align_items": null,
            "align_self": null,
            "border": null,
            "bottom": null,
            "display": null,
            "flex": null,
            "flex_flow": null,
            "grid_area": null,
            "grid_auto_columns": null,
            "grid_auto_flow": null,
            "grid_auto_rows": null,
            "grid_column": null,
            "grid_gap": null,
            "grid_row": null,
            "grid_template_areas": null,
            "grid_template_columns": null,
            "grid_template_rows": null,
            "height": null,
            "justify_content": null,
            "justify_items": null,
            "left": null,
            "margin": null,
            "max_height": null,
            "max_width": null,
            "min_height": null,
            "min_width": null,
            "object_fit": null,
            "object_position": null,
            "order": null,
            "overflow": null,
            "overflow_x": null,
            "overflow_y": null,
            "padding": null,
            "right": null,
            "top": null,
            "visibility": null,
            "width": null
          }
        },
        "b6127ed2183d4d4789d11266aa9dba64": {
          "model_module": "@jupyter-widgets/controls",
          "model_name": "DescriptionStyleModel",
          "model_module_version": "1.5.0",
          "state": {
            "_model_module": "@jupyter-widgets/controls",
            "_model_module_version": "1.5.0",
            "_model_name": "DescriptionStyleModel",
            "_view_count": null,
            "_view_module": "@jupyter-widgets/base",
            "_view_module_version": "1.2.0",
            "_view_name": "StyleView",
            "description_width": ""
          }
        },
        "d9ac8300ae564bb39cc25481d84c98d1": {
          "model_module": "@jupyter-widgets/controls",
          "model_name": "HBoxModel",
          "model_module_version": "1.5.0",
          "state": {
            "_dom_classes": [],
            "_model_module": "@jupyter-widgets/controls",
            "_model_module_version": "1.5.0",
            "_model_name": "HBoxModel",
            "_view_count": null,
            "_view_module": "@jupyter-widgets/controls",
            "_view_module_version": "1.5.0",
            "_view_name": "HBoxView",
            "box_style": "",
            "children": [
              "IPY_MODEL_28ff70e10711416b9e7594401b4ee054",
              "IPY_MODEL_dff20232564c4f70ba4573f5cfd4ad84",
              "IPY_MODEL_7bd9eca983bc47df8b9bbc2ad1717204"
            ],
            "layout": "IPY_MODEL_0e81645e0dc44cea8eb648a4969e338c"
          }
        },
        "28ff70e10711416b9e7594401b4ee054": {
          "model_module": "@jupyter-widgets/controls",
          "model_name": "HTMLModel",
          "model_module_version": "1.5.0",
          "state": {
            "_dom_classes": [],
            "_model_module": "@jupyter-widgets/controls",
            "_model_module_version": "1.5.0",
            "_model_name": "HTMLModel",
            "_view_count": null,
            "_view_module": "@jupyter-widgets/controls",
            "_view_module_version": "1.5.0",
            "_view_name": "HTMLView",
            "description": "",
            "description_tooltip": null,
            "layout": "IPY_MODEL_05428a3c7fe2460d9246517a79c3742d",
            "placeholder": "​",
            "style": "IPY_MODEL_d7989ed309794e1d8dcc42dcd8adc3de",
            "value": "Downloading pytorch_model.bin: 100%"
          }
        },
        "dff20232564c4f70ba4573f5cfd4ad84": {
          "model_module": "@jupyter-widgets/controls",
          "model_name": "FloatProgressModel",
          "model_module_version": "1.5.0",
          "state": {
            "_dom_classes": [],
            "_model_module": "@jupyter-widgets/controls",
            "_model_module_version": "1.5.0",
            "_model_name": "FloatProgressModel",
            "_view_count": null,
            "_view_module": "@jupyter-widgets/controls",
            "_view_module_version": "1.5.0",
            "_view_name": "ProgressView",
            "bar_style": "success",
            "description": "",
            "description_tooltip": null,
            "layout": "IPY_MODEL_f81088b82c6041c79d881878f6f39433",
            "max": 501200538,
            "min": 0,
            "orientation": "horizontal",
            "style": "IPY_MODEL_b24e506d2aff46ecaa57407538e73b0e",
            "value": 501200538
          }
        },
        "7bd9eca983bc47df8b9bbc2ad1717204": {
          "model_module": "@jupyter-widgets/controls",
          "model_name": "HTMLModel",
          "model_module_version": "1.5.0",
          "state": {
            "_dom_classes": [],
            "_model_module": "@jupyter-widgets/controls",
            "_model_module_version": "1.5.0",
            "_model_name": "HTMLModel",
            "_view_count": null,
            "_view_module": "@jupyter-widgets/controls",
            "_view_module_version": "1.5.0",
            "_view_name": "HTMLView",
            "description": "",
            "description_tooltip": null,
            "layout": "IPY_MODEL_c14cfe51e3054b5394ca2192b482851f",
            "placeholder": "​",
            "style": "IPY_MODEL_d478cf05fe6446e6a0d33a8cb23d935d",
            "value": " 501M/501M [00:23&lt;00:00, 21.4MB/s]"
          }
        },
        "0e81645e0dc44cea8eb648a4969e338c": {
          "model_module": "@jupyter-widgets/base",
          "model_name": "LayoutModel",
          "model_module_version": "1.2.0",
          "state": {
            "_model_module": "@jupyter-widgets/base",
            "_model_module_version": "1.2.0",
            "_model_name": "LayoutModel",
            "_view_count": null,
            "_view_module": "@jupyter-widgets/base",
            "_view_module_version": "1.2.0",
            "_view_name": "LayoutView",
            "align_content": null,
            "align_items": null,
            "align_self": null,
            "border": null,
            "bottom": null,
            "display": null,
            "flex": null,
            "flex_flow": null,
            "grid_area": null,
            "grid_auto_columns": null,
            "grid_auto_flow": null,
            "grid_auto_rows": null,
            "grid_column": null,
            "grid_gap": null,
            "grid_row": null,
            "grid_template_areas": null,
            "grid_template_columns": null,
            "grid_template_rows": null,
            "height": null,
            "justify_content": null,
            "justify_items": null,
            "left": null,
            "margin": null,
            "max_height": null,
            "max_width": null,
            "min_height": null,
            "min_width": null,
            "object_fit": null,
            "object_position": null,
            "order": null,
            "overflow": null,
            "overflow_x": null,
            "overflow_y": null,
            "padding": null,
            "right": null,
            "top": null,
            "visibility": null,
            "width": null
          }
        },
        "05428a3c7fe2460d9246517a79c3742d": {
          "model_module": "@jupyter-widgets/base",
          "model_name": "LayoutModel",
          "model_module_version": "1.2.0",
          "state": {
            "_model_module": "@jupyter-widgets/base",
            "_model_module_version": "1.2.0",
            "_model_name": "LayoutModel",
            "_view_count": null,
            "_view_module": "@jupyter-widgets/base",
            "_view_module_version": "1.2.0",
            "_view_name": "LayoutView",
            "align_content": null,
            "align_items": null,
            "align_self": null,
            "border": null,
            "bottom": null,
            "display": null,
            "flex": null,
            "flex_flow": null,
            "grid_area": null,
            "grid_auto_columns": null,
            "grid_auto_flow": null,
            "grid_auto_rows": null,
            "grid_column": null,
            "grid_gap": null,
            "grid_row": null,
            "grid_template_areas": null,
            "grid_template_columns": null,
            "grid_template_rows": null,
            "height": null,
            "justify_content": null,
            "justify_items": null,
            "left": null,
            "margin": null,
            "max_height": null,
            "max_width": null,
            "min_height": null,
            "min_width": null,
            "object_fit": null,
            "object_position": null,
            "order": null,
            "overflow": null,
            "overflow_x": null,
            "overflow_y": null,
            "padding": null,
            "right": null,
            "top": null,
            "visibility": null,
            "width": null
          }
        },
        "d7989ed309794e1d8dcc42dcd8adc3de": {
          "model_module": "@jupyter-widgets/controls",
          "model_name": "DescriptionStyleModel",
          "model_module_version": "1.5.0",
          "state": {
            "_model_module": "@jupyter-widgets/controls",
            "_model_module_version": "1.5.0",
            "_model_name": "DescriptionStyleModel",
            "_view_count": null,
            "_view_module": "@jupyter-widgets/base",
            "_view_module_version": "1.2.0",
            "_view_name": "StyleView",
            "description_width": ""
          }
        },
        "f81088b82c6041c79d881878f6f39433": {
          "model_module": "@jupyter-widgets/base",
          "model_name": "LayoutModel",
          "model_module_version": "1.2.0",
          "state": {
            "_model_module": "@jupyter-widgets/base",
            "_model_module_version": "1.2.0",
            "_model_name": "LayoutModel",
            "_view_count": null,
            "_view_module": "@jupyter-widgets/base",
            "_view_module_version": "1.2.0",
            "_view_name": "LayoutView",
            "align_content": null,
            "align_items": null,
            "align_self": null,
            "border": null,
            "bottom": null,
            "display": null,
            "flex": null,
            "flex_flow": null,
            "grid_area": null,
            "grid_auto_columns": null,
            "grid_auto_flow": null,
            "grid_auto_rows": null,
            "grid_column": null,
            "grid_gap": null,
            "grid_row": null,
            "grid_template_areas": null,
            "grid_template_columns": null,
            "grid_template_rows": null,
            "height": null,
            "justify_content": null,
            "justify_items": null,
            "left": null,
            "margin": null,
            "max_height": null,
            "max_width": null,
            "min_height": null,
            "min_width": null,
            "object_fit": null,
            "object_position": null,
            "order": null,
            "overflow": null,
            "overflow_x": null,
            "overflow_y": null,
            "padding": null,
            "right": null,
            "top": null,
            "visibility": null,
            "width": null
          }
        },
        "b24e506d2aff46ecaa57407538e73b0e": {
          "model_module": "@jupyter-widgets/controls",
          "model_name": "ProgressStyleModel",
          "model_module_version": "1.5.0",
          "state": {
            "_model_module": "@jupyter-widgets/controls",
            "_model_module_version": "1.5.0",
            "_model_name": "ProgressStyleModel",
            "_view_count": null,
            "_view_module": "@jupyter-widgets/base",
            "_view_module_version": "1.2.0",
            "_view_name": "StyleView",
            "bar_color": null,
            "description_width": ""
          }
        },
        "c14cfe51e3054b5394ca2192b482851f": {
          "model_module": "@jupyter-widgets/base",
          "model_name": "LayoutModel",
          "model_module_version": "1.2.0",
          "state": {
            "_model_module": "@jupyter-widgets/base",
            "_model_module_version": "1.2.0",
            "_model_name": "LayoutModel",
            "_view_count": null,
            "_view_module": "@jupyter-widgets/base",
            "_view_module_version": "1.2.0",
            "_view_name": "LayoutView",
            "align_content": null,
            "align_items": null,
            "align_self": null,
            "border": null,
            "bottom": null,
            "display": null,
            "flex": null,
            "flex_flow": null,
            "grid_area": null,
            "grid_auto_columns": null,
            "grid_auto_flow": null,
            "grid_auto_rows": null,
            "grid_column": null,
            "grid_gap": null,
            "grid_row": null,
            "grid_template_areas": null,
            "grid_template_columns": null,
            "grid_template_rows": null,
            "height": null,
            "justify_content": null,
            "justify_items": null,
            "left": null,
            "margin": null,
            "max_height": null,
            "max_width": null,
            "min_height": null,
            "min_width": null,
            "object_fit": null,
            "object_position": null,
            "order": null,
            "overflow": null,
            "overflow_x": null,
            "overflow_y": null,
            "padding": null,
            "right": null,
            "top": null,
            "visibility": null,
            "width": null
          }
        },
        "d478cf05fe6446e6a0d33a8cb23d935d": {
          "model_module": "@jupyter-widgets/controls",
          "model_name": "DescriptionStyleModel",
          "model_module_version": "1.5.0",
          "state": {
            "_model_module": "@jupyter-widgets/controls",
            "_model_module_version": "1.5.0",
            "_model_name": "DescriptionStyleModel",
            "_view_count": null,
            "_view_module": "@jupyter-widgets/base",
            "_view_module_version": "1.2.0",
            "_view_name": "StyleView",
            "description_width": ""
          }
        },
        "1a46dda2af8e4c68a2afe59a74118341": {
          "model_module": "@jupyter-widgets/controls",
          "model_name": "HBoxModel",
          "model_module_version": "1.5.0",
          "state": {
            "_dom_classes": [],
            "_model_module": "@jupyter-widgets/controls",
            "_model_module_version": "1.5.0",
            "_model_name": "HBoxModel",
            "_view_count": null,
            "_view_module": "@jupyter-widgets/controls",
            "_view_module_version": "1.5.0",
            "_view_name": "HBoxView",
            "box_style": "",
            "children": [
              "IPY_MODEL_f65d41b0d69649c195791b4d46863ba0",
              "IPY_MODEL_739cef68ce7b46549ae1dbe911a7dd51",
              "IPY_MODEL_384d765d2cf34b81a7dee8f27a49f946"
            ],
            "layout": "IPY_MODEL_4ab73ef957a34b53833af003df76ea74"
          }
        },
        "f65d41b0d69649c195791b4d46863ba0": {
          "model_module": "@jupyter-widgets/controls",
          "model_name": "HTMLModel",
          "model_module_version": "1.5.0",
          "state": {
            "_dom_classes": [],
            "_model_module": "@jupyter-widgets/controls",
            "_model_module_version": "1.5.0",
            "_model_name": "HTMLModel",
            "_view_count": null,
            "_view_module": "@jupyter-widgets/controls",
            "_view_module_version": "1.5.0",
            "_view_name": "HTMLView",
            "description": "",
            "description_tooltip": null,
            "layout": "IPY_MODEL_95280dc9ad334e7a8f5c282eeb84b9d6",
            "placeholder": "​",
            "style": "IPY_MODEL_c924b49b837a44a6a996d57840c84775",
            "value": "Downloading (…)olve/main/vocab.json: 100%"
          }
        },
        "739cef68ce7b46549ae1dbe911a7dd51": {
          "model_module": "@jupyter-widgets/controls",
          "model_name": "FloatProgressModel",
          "model_module_version": "1.5.0",
          "state": {
            "_dom_classes": [],
            "_model_module": "@jupyter-widgets/controls",
            "_model_module_version": "1.5.0",
            "_model_name": "FloatProgressModel",
            "_view_count": null,
            "_view_module": "@jupyter-widgets/controls",
            "_view_module_version": "1.5.0",
            "_view_name": "ProgressView",
            "bar_style": "success",
            "description": "",
            "description_tooltip": null,
            "layout": "IPY_MODEL_9c28133e08cd4bb5b952eb88a2c6b31f",
            "max": 898823,
            "min": 0,
            "orientation": "horizontal",
            "style": "IPY_MODEL_e9667ba36ba6490a99f5fe86770ec214",
            "value": 898823
          }
        },
        "384d765d2cf34b81a7dee8f27a49f946": {
          "model_module": "@jupyter-widgets/controls",
          "model_name": "HTMLModel",
          "model_module_version": "1.5.0",
          "state": {
            "_dom_classes": [],
            "_model_module": "@jupyter-widgets/controls",
            "_model_module_version": "1.5.0",
            "_model_name": "HTMLModel",
            "_view_count": null,
            "_view_module": "@jupyter-widgets/controls",
            "_view_module_version": "1.5.0",
            "_view_name": "HTMLView",
            "description": "",
            "description_tooltip": null,
            "layout": "IPY_MODEL_ade3124ca28941bd91a29e6151e769c2",
            "placeholder": "​",
            "style": "IPY_MODEL_4cb7faee7c804191873e3d78cb6d95d2",
            "value": " 899k/899k [00:01&lt;00:00, 812kB/s]"
          }
        },
        "4ab73ef957a34b53833af003df76ea74": {
          "model_module": "@jupyter-widgets/base",
          "model_name": "LayoutModel",
          "model_module_version": "1.2.0",
          "state": {
            "_model_module": "@jupyter-widgets/base",
            "_model_module_version": "1.2.0",
            "_model_name": "LayoutModel",
            "_view_count": null,
            "_view_module": "@jupyter-widgets/base",
            "_view_module_version": "1.2.0",
            "_view_name": "LayoutView",
            "align_content": null,
            "align_items": null,
            "align_self": null,
            "border": null,
            "bottom": null,
            "display": null,
            "flex": null,
            "flex_flow": null,
            "grid_area": null,
            "grid_auto_columns": null,
            "grid_auto_flow": null,
            "grid_auto_rows": null,
            "grid_column": null,
            "grid_gap": null,
            "grid_row": null,
            "grid_template_areas": null,
            "grid_template_columns": null,
            "grid_template_rows": null,
            "height": null,
            "justify_content": null,
            "justify_items": null,
            "left": null,
            "margin": null,
            "max_height": null,
            "max_width": null,
            "min_height": null,
            "min_width": null,
            "object_fit": null,
            "object_position": null,
            "order": null,
            "overflow": null,
            "overflow_x": null,
            "overflow_y": null,
            "padding": null,
            "right": null,
            "top": null,
            "visibility": null,
            "width": null
          }
        },
        "95280dc9ad334e7a8f5c282eeb84b9d6": {
          "model_module": "@jupyter-widgets/base",
          "model_name": "LayoutModel",
          "model_module_version": "1.2.0",
          "state": {
            "_model_module": "@jupyter-widgets/base",
            "_model_module_version": "1.2.0",
            "_model_name": "LayoutModel",
            "_view_count": null,
            "_view_module": "@jupyter-widgets/base",
            "_view_module_version": "1.2.0",
            "_view_name": "LayoutView",
            "align_content": null,
            "align_items": null,
            "align_self": null,
            "border": null,
            "bottom": null,
            "display": null,
            "flex": null,
            "flex_flow": null,
            "grid_area": null,
            "grid_auto_columns": null,
            "grid_auto_flow": null,
            "grid_auto_rows": null,
            "grid_column": null,
            "grid_gap": null,
            "grid_row": null,
            "grid_template_areas": null,
            "grid_template_columns": null,
            "grid_template_rows": null,
            "height": null,
            "justify_content": null,
            "justify_items": null,
            "left": null,
            "margin": null,
            "max_height": null,
            "max_width": null,
            "min_height": null,
            "min_width": null,
            "object_fit": null,
            "object_position": null,
            "order": null,
            "overflow": null,
            "overflow_x": null,
            "overflow_y": null,
            "padding": null,
            "right": null,
            "top": null,
            "visibility": null,
            "width": null
          }
        },
        "c924b49b837a44a6a996d57840c84775": {
          "model_module": "@jupyter-widgets/controls",
          "model_name": "DescriptionStyleModel",
          "model_module_version": "1.5.0",
          "state": {
            "_model_module": "@jupyter-widgets/controls",
            "_model_module_version": "1.5.0",
            "_model_name": "DescriptionStyleModel",
            "_view_count": null,
            "_view_module": "@jupyter-widgets/base",
            "_view_module_version": "1.2.0",
            "_view_name": "StyleView",
            "description_width": ""
          }
        },
        "9c28133e08cd4bb5b952eb88a2c6b31f": {
          "model_module": "@jupyter-widgets/base",
          "model_name": "LayoutModel",
          "model_module_version": "1.2.0",
          "state": {
            "_model_module": "@jupyter-widgets/base",
            "_model_module_version": "1.2.0",
            "_model_name": "LayoutModel",
            "_view_count": null,
            "_view_module": "@jupyter-widgets/base",
            "_view_module_version": "1.2.0",
            "_view_name": "LayoutView",
            "align_content": null,
            "align_items": null,
            "align_self": null,
            "border": null,
            "bottom": null,
            "display": null,
            "flex": null,
            "flex_flow": null,
            "grid_area": null,
            "grid_auto_columns": null,
            "grid_auto_flow": null,
            "grid_auto_rows": null,
            "grid_column": null,
            "grid_gap": null,
            "grid_row": null,
            "grid_template_areas": null,
            "grid_template_columns": null,
            "grid_template_rows": null,
            "height": null,
            "justify_content": null,
            "justify_items": null,
            "left": null,
            "margin": null,
            "max_height": null,
            "max_width": null,
            "min_height": null,
            "min_width": null,
            "object_fit": null,
            "object_position": null,
            "order": null,
            "overflow": null,
            "overflow_x": null,
            "overflow_y": null,
            "padding": null,
            "right": null,
            "top": null,
            "visibility": null,
            "width": null
          }
        },
        "e9667ba36ba6490a99f5fe86770ec214": {
          "model_module": "@jupyter-widgets/controls",
          "model_name": "ProgressStyleModel",
          "model_module_version": "1.5.0",
          "state": {
            "_model_module": "@jupyter-widgets/controls",
            "_model_module_version": "1.5.0",
            "_model_name": "ProgressStyleModel",
            "_view_count": null,
            "_view_module": "@jupyter-widgets/base",
            "_view_module_version": "1.2.0",
            "_view_name": "StyleView",
            "bar_color": null,
            "description_width": ""
          }
        },
        "ade3124ca28941bd91a29e6151e769c2": {
          "model_module": "@jupyter-widgets/base",
          "model_name": "LayoutModel",
          "model_module_version": "1.2.0",
          "state": {
            "_model_module": "@jupyter-widgets/base",
            "_model_module_version": "1.2.0",
            "_model_name": "LayoutModel",
            "_view_count": null,
            "_view_module": "@jupyter-widgets/base",
            "_view_module_version": "1.2.0",
            "_view_name": "LayoutView",
            "align_content": null,
            "align_items": null,
            "align_self": null,
            "border": null,
            "bottom": null,
            "display": null,
            "flex": null,
            "flex_flow": null,
            "grid_area": null,
            "grid_auto_columns": null,
            "grid_auto_flow": null,
            "grid_auto_rows": null,
            "grid_column": null,
            "grid_gap": null,
            "grid_row": null,
            "grid_template_areas": null,
            "grid_template_columns": null,
            "grid_template_rows": null,
            "height": null,
            "justify_content": null,
            "justify_items": null,
            "left": null,
            "margin": null,
            "max_height": null,
            "max_width": null,
            "min_height": null,
            "min_width": null,
            "object_fit": null,
            "object_position": null,
            "order": null,
            "overflow": null,
            "overflow_x": null,
            "overflow_y": null,
            "padding": null,
            "right": null,
            "top": null,
            "visibility": null,
            "width": null
          }
        },
        "4cb7faee7c804191873e3d78cb6d95d2": {
          "model_module": "@jupyter-widgets/controls",
          "model_name": "DescriptionStyleModel",
          "model_module_version": "1.5.0",
          "state": {
            "_model_module": "@jupyter-widgets/controls",
            "_model_module_version": "1.5.0",
            "_model_name": "DescriptionStyleModel",
            "_view_count": null,
            "_view_module": "@jupyter-widgets/base",
            "_view_module_version": "1.2.0",
            "_view_name": "StyleView",
            "description_width": ""
          }
        },
        "9b43370177224bd8a70dcc485a3acf18": {
          "model_module": "@jupyter-widgets/controls",
          "model_name": "HBoxModel",
          "model_module_version": "1.5.0",
          "state": {
            "_dom_classes": [],
            "_model_module": "@jupyter-widgets/controls",
            "_model_module_version": "1.5.0",
            "_model_name": "HBoxModel",
            "_view_count": null,
            "_view_module": "@jupyter-widgets/controls",
            "_view_module_version": "1.5.0",
            "_view_name": "HBoxView",
            "box_style": "",
            "children": [
              "IPY_MODEL_29803e8792a24c9da3ec901fd60e931a",
              "IPY_MODEL_ab79a61ddbb3444b9ab14b0635e4a8bc",
              "IPY_MODEL_e8554af7aecb4c47976f6eaaf331f1e6"
            ],
            "layout": "IPY_MODEL_97d476d99fc54d67a928d9d766141db9"
          }
        },
        "29803e8792a24c9da3ec901fd60e931a": {
          "model_module": "@jupyter-widgets/controls",
          "model_name": "HTMLModel",
          "model_module_version": "1.5.0",
          "state": {
            "_dom_classes": [],
            "_model_module": "@jupyter-widgets/controls",
            "_model_module_version": "1.5.0",
            "_model_name": "HTMLModel",
            "_view_count": null,
            "_view_module": "@jupyter-widgets/controls",
            "_view_module_version": "1.5.0",
            "_view_name": "HTMLView",
            "description": "",
            "description_tooltip": null,
            "layout": "IPY_MODEL_a9abd018537545f086cfb0b1ca9ec737",
            "placeholder": "​",
            "style": "IPY_MODEL_a14a913b827a425e8a97cfa03ba86d82",
            "value": "Downloading (…)olve/main/merges.txt: 100%"
          }
        },
        "ab79a61ddbb3444b9ab14b0635e4a8bc": {
          "model_module": "@jupyter-widgets/controls",
          "model_name": "FloatProgressModel",
          "model_module_version": "1.5.0",
          "state": {
            "_dom_classes": [],
            "_model_module": "@jupyter-widgets/controls",
            "_model_module_version": "1.5.0",
            "_model_name": "FloatProgressModel",
            "_view_count": null,
            "_view_module": "@jupyter-widgets/controls",
            "_view_module_version": "1.5.0",
            "_view_name": "ProgressView",
            "bar_style": "success",
            "description": "",
            "description_tooltip": null,
            "layout": "IPY_MODEL_857728fe2ff54e1bbfe5a48ee73e02d5",
            "max": 456318,
            "min": 0,
            "orientation": "horizontal",
            "style": "IPY_MODEL_1f97af73d702418281b8ee21e450a16b",
            "value": 456318
          }
        },
        "e8554af7aecb4c47976f6eaaf331f1e6": {
          "model_module": "@jupyter-widgets/controls",
          "model_name": "HTMLModel",
          "model_module_version": "1.5.0",
          "state": {
            "_dom_classes": [],
            "_model_module": "@jupyter-widgets/controls",
            "_model_module_version": "1.5.0",
            "_model_name": "HTMLModel",
            "_view_count": null,
            "_view_module": "@jupyter-widgets/controls",
            "_view_module_version": "1.5.0",
            "_view_name": "HTMLView",
            "description": "",
            "description_tooltip": null,
            "layout": "IPY_MODEL_f4cef87d3e134900b760e8a6502f984c",
            "placeholder": "​",
            "style": "IPY_MODEL_8141c941f76a40e38daf9eb7320b850d",
            "value": " 456k/456k [00:00&lt;00:00, 497kB/s]"
          }
        },
        "97d476d99fc54d67a928d9d766141db9": {
          "model_module": "@jupyter-widgets/base",
          "model_name": "LayoutModel",
          "model_module_version": "1.2.0",
          "state": {
            "_model_module": "@jupyter-widgets/base",
            "_model_module_version": "1.2.0",
            "_model_name": "LayoutModel",
            "_view_count": null,
            "_view_module": "@jupyter-widgets/base",
            "_view_module_version": "1.2.0",
            "_view_name": "LayoutView",
            "align_content": null,
            "align_items": null,
            "align_self": null,
            "border": null,
            "bottom": null,
            "display": null,
            "flex": null,
            "flex_flow": null,
            "grid_area": null,
            "grid_auto_columns": null,
            "grid_auto_flow": null,
            "grid_auto_rows": null,
            "grid_column": null,
            "grid_gap": null,
            "grid_row": null,
            "grid_template_areas": null,
            "grid_template_columns": null,
            "grid_template_rows": null,
            "height": null,
            "justify_content": null,
            "justify_items": null,
            "left": null,
            "margin": null,
            "max_height": null,
            "max_width": null,
            "min_height": null,
            "min_width": null,
            "object_fit": null,
            "object_position": null,
            "order": null,
            "overflow": null,
            "overflow_x": null,
            "overflow_y": null,
            "padding": null,
            "right": null,
            "top": null,
            "visibility": null,
            "width": null
          }
        },
        "a9abd018537545f086cfb0b1ca9ec737": {
          "model_module": "@jupyter-widgets/base",
          "model_name": "LayoutModel",
          "model_module_version": "1.2.0",
          "state": {
            "_model_module": "@jupyter-widgets/base",
            "_model_module_version": "1.2.0",
            "_model_name": "LayoutModel",
            "_view_count": null,
            "_view_module": "@jupyter-widgets/base",
            "_view_module_version": "1.2.0",
            "_view_name": "LayoutView",
            "align_content": null,
            "align_items": null,
            "align_self": null,
            "border": null,
            "bottom": null,
            "display": null,
            "flex": null,
            "flex_flow": null,
            "grid_area": null,
            "grid_auto_columns": null,
            "grid_auto_flow": null,
            "grid_auto_rows": null,
            "grid_column": null,
            "grid_gap": null,
            "grid_row": null,
            "grid_template_areas": null,
            "grid_template_columns": null,
            "grid_template_rows": null,
            "height": null,
            "justify_content": null,
            "justify_items": null,
            "left": null,
            "margin": null,
            "max_height": null,
            "max_width": null,
            "min_height": null,
            "min_width": null,
            "object_fit": null,
            "object_position": null,
            "order": null,
            "overflow": null,
            "overflow_x": null,
            "overflow_y": null,
            "padding": null,
            "right": null,
            "top": null,
            "visibility": null,
            "width": null
          }
        },
        "a14a913b827a425e8a97cfa03ba86d82": {
          "model_module": "@jupyter-widgets/controls",
          "model_name": "DescriptionStyleModel",
          "model_module_version": "1.5.0",
          "state": {
            "_model_module": "@jupyter-widgets/controls",
            "_model_module_version": "1.5.0",
            "_model_name": "DescriptionStyleModel",
            "_view_count": null,
            "_view_module": "@jupyter-widgets/base",
            "_view_module_version": "1.2.0",
            "_view_name": "StyleView",
            "description_width": ""
          }
        },
        "857728fe2ff54e1bbfe5a48ee73e02d5": {
          "model_module": "@jupyter-widgets/base",
          "model_name": "LayoutModel",
          "model_module_version": "1.2.0",
          "state": {
            "_model_module": "@jupyter-widgets/base",
            "_model_module_version": "1.2.0",
            "_model_name": "LayoutModel",
            "_view_count": null,
            "_view_module": "@jupyter-widgets/base",
            "_view_module_version": "1.2.0",
            "_view_name": "LayoutView",
            "align_content": null,
            "align_items": null,
            "align_self": null,
            "border": null,
            "bottom": null,
            "display": null,
            "flex": null,
            "flex_flow": null,
            "grid_area": null,
            "grid_auto_columns": null,
            "grid_auto_flow": null,
            "grid_auto_rows": null,
            "grid_column": null,
            "grid_gap": null,
            "grid_row": null,
            "grid_template_areas": null,
            "grid_template_columns": null,
            "grid_template_rows": null,
            "height": null,
            "justify_content": null,
            "justify_items": null,
            "left": null,
            "margin": null,
            "max_height": null,
            "max_width": null,
            "min_height": null,
            "min_width": null,
            "object_fit": null,
            "object_position": null,
            "order": null,
            "overflow": null,
            "overflow_x": null,
            "overflow_y": null,
            "padding": null,
            "right": null,
            "top": null,
            "visibility": null,
            "width": null
          }
        },
        "1f97af73d702418281b8ee21e450a16b": {
          "model_module": "@jupyter-widgets/controls",
          "model_name": "ProgressStyleModel",
          "model_module_version": "1.5.0",
          "state": {
            "_model_module": "@jupyter-widgets/controls",
            "_model_module_version": "1.5.0",
            "_model_name": "ProgressStyleModel",
            "_view_count": null,
            "_view_module": "@jupyter-widgets/base",
            "_view_module_version": "1.2.0",
            "_view_name": "StyleView",
            "bar_color": null,
            "description_width": ""
          }
        },
        "f4cef87d3e134900b760e8a6502f984c": {
          "model_module": "@jupyter-widgets/base",
          "model_name": "LayoutModel",
          "model_module_version": "1.2.0",
          "state": {
            "_model_module": "@jupyter-widgets/base",
            "_model_module_version": "1.2.0",
            "_model_name": "LayoutModel",
            "_view_count": null,
            "_view_module": "@jupyter-widgets/base",
            "_view_module_version": "1.2.0",
            "_view_name": "LayoutView",
            "align_content": null,
            "align_items": null,
            "align_self": null,
            "border": null,
            "bottom": null,
            "display": null,
            "flex": null,
            "flex_flow": null,
            "grid_area": null,
            "grid_auto_columns": null,
            "grid_auto_flow": null,
            "grid_auto_rows": null,
            "grid_column": null,
            "grid_gap": null,
            "grid_row": null,
            "grid_template_areas": null,
            "grid_template_columns": null,
            "grid_template_rows": null,
            "height": null,
            "justify_content": null,
            "justify_items": null,
            "left": null,
            "margin": null,
            "max_height": null,
            "max_width": null,
            "min_height": null,
            "min_width": null,
            "object_fit": null,
            "object_position": null,
            "order": null,
            "overflow": null,
            "overflow_x": null,
            "overflow_y": null,
            "padding": null,
            "right": null,
            "top": null,
            "visibility": null,
            "width": null
          }
        },
        "8141c941f76a40e38daf9eb7320b850d": {
          "model_module": "@jupyter-widgets/controls",
          "model_name": "DescriptionStyleModel",
          "model_module_version": "1.5.0",
          "state": {
            "_model_module": "@jupyter-widgets/controls",
            "_model_module_version": "1.5.0",
            "_model_name": "DescriptionStyleModel",
            "_view_count": null,
            "_view_module": "@jupyter-widgets/base",
            "_view_module_version": "1.2.0",
            "_view_name": "StyleView",
            "description_width": ""
          }
        }
      }
    }
  },
  "nbformat": 4,
  "nbformat_minor": 0
}